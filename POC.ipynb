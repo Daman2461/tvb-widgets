{
 "cells": [
  {
   "cell_type": "code",
   "execution_count": 4,
   "id": "c9cbde3a-5da8-462b-8b81-a7f95d93ca80",
   "metadata": {},
   "outputs": [],
   "source": [
    "from widgets.dashboard import Dashboard"
   ]
  },
  {
   "cell_type": "code",
   "execution_count": 5,
   "id": "c7b13003-65ce-4365-a2e6-d9cdc135b48d",
   "metadata": {},
   "outputs": [],
   "source": [
    "dashboard = Dashboard()"
   ]
  },
  {
   "cell_type": "code",
   "execution_count": 6,
   "id": "7924dec6-8b75-46ab-b1c6-a02afec7fdb2",
   "metadata": {},
   "outputs": [
    {
     "data": {
      "application/vnd.jupyter.widget-view+json": {
       "model_id": "29f74f4bb934471c96d9c68899e299b2",
       "version_major": 2,
       "version_minor": 0
      },
      "text/plain": [
       "Tab(children=(VBox(children=(GridBox(children=(VBox(children=(Button(description='Reset parameters', layout=La…"
      ]
     },
     "metadata": {},
     "output_type": "display_data"
    }
   ],
   "source": [
    "dashboard.show()"
   ]
  },
  {
   "cell_type": "code",
   "execution_count": null,
   "id": "0f5fa273-085c-4853-8a65-504e31d0a407",
   "metadata": {},
   "outputs": [],
   "source": []
  }
 ],
 "metadata": {
  "kernelspec": {
   "display_name": "Python 3 (ipykernel)",
   "language": "python",
   "name": "python3"
  },
  "language_info": {
   "codemirror_mode": {
    "name": "ipython",
    "version": 3
   },
   "file_extension": ".py",
   "mimetype": "text/x-python",
   "name": "python",
   "nbconvert_exporter": "python",
   "pygments_lexer": "ipython3",
   "version": "3.9.9"
  }
 },
 "nbformat": 4,
 "nbformat_minor": 5
}
