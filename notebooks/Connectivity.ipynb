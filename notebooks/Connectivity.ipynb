{
 "cells": [
  {
   "cell_type": "markdown",
   "metadata": {},
   "source": [
    "## Demonstrate Connectivity Widget "
   ]
  },
  {
   "cell_type": "code",
   "execution_count": 1,
   "metadata": {
    "tags": []
   },
   "outputs": [
    {
     "name": "stdout",
     "output_type": "stream",
     "text": [
      "24-08-2023 11:07:43 - DEBUG - tvbwidgets - Package is not fully installed\n",
      "24-08-2023 11:07:43 - DEBUG - tvbwidgets - Version read from the internal package.json file\n",
      "24-08-2023 11:07:43 - INFO - tvbwidgets - Version: 1.5.0\n",
      "2023-08-24 11:07:49,077 - INFO - tvb.storage.h5.encryption.data_encryption_handler - Cannot import syncrypto library.\n",
      "24-08-2023 11:07:49 - INFO - tvbwidgets.core.pse.parameters - ImportError: Dask dependency is not included, so this functionality won't be available\n",
      "2023-08-24 11:07:49,252 - WARNING - tvb.basic.readers - File 'hemispheres' not found in ZIP.\n",
      "Connectivity (\n",
      "  Number of connections ..... 0\n",
      "  Number of regions ......... 0\n",
      "  Undirected ................ False\n",
      "  areas .....................  [min, median, max] = [0, 2580.89, 10338.2] dtype = float64 shape = (76,)\n",
      "  tract_lengths .............  [min, median, max] = [0, 71.6635, 153.486] dtype = float64 shape = (76, 76)\n",
      "  tract_lengths (connections)   [min, median, max] = [0, 55.8574, 138.454] dtype = float64 shape = (1560,)\n",
      "  tract_lengths-non-zero ....  [min, median, max] = [4.93328, 74.0646, 153.486] dtype = float64 shape = (5402,)\n",
      "  weights ...................  [min, median, max] = [0, 0, 3] dtype = float64 shape = (76, 76)\n",
      "  weights-non-zero ..........  [min, median, max] = [0.00462632, 2, 3] dtype = float64 shape = (1560,)\n",
      ")\n",
      "init ConnectivityWidget\n"
     ]
    },
    {
     "data": {
      "application/vnd.jupyter.widget-view+json": {
       "model_id": "fc29a4e3b227463b80e0086a8537fcb3",
       "version_major": 2,
       "version_minor": 0
      },
      "text/plain": [
       "ConnectivityWidgetReact(connectivity={'areas': [396.44065, 937.50289, 1903.8602, 2099.4259, 1808.146, 1114.739…"
      ]
     },
     "metadata": {},
     "output_type": "display_data"
    }
   ],
   "source": [
    "from tvbwidgets.api import ConnectivityWidgetReact\n",
    "from tvb.datatypes.connectivity import Connectivity\n",
    "\n",
    "connectivity = Connectivity.from_file() # defaults to connectivy_76.zip\n",
    "print(connectivity)\n",
    "\n",
    "wid = ConnectivityWidgetReact(connectivity=connectivity)\n",
    "wid"
   ]
  },
  {
   "cell_type": "code",
   "execution_count": null,
   "metadata": {},
   "outputs": [],
   "source": []
  }
 ],
 "metadata": {
  "kernelspec": {
   "display_name": "Python 3 (ipykernel)",
   "language": "python",
   "name": "python3"
  },
  "language_info": {
   "codemirror_mode": {
    "name": "ipython",
    "version": 3
   },
   "file_extension": ".py",
   "mimetype": "text/x-python",
   "name": "python",
   "nbconvert_exporter": "python",
   "pygments_lexer": "ipython3",
   "version": "3.10.12"
  }
 },
 "nbformat": 4,
 "nbformat_minor": 4
}
