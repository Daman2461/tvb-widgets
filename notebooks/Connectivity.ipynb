{
 "cells": [
  {
   "cell_type": "markdown",
   "metadata": {},
   "source": [
    "## Demonstrate Connectivity Widget "
   ]
  },
  {
   "cell_type": "code",
   "execution_count": 1,
   "metadata": {
    "tags": []
   },
   "outputs": [
    {
     "name": "stdout",
     "output_type": "stream",
     "text": [
      "25-08-2023 12:20:46 - DEBUG - tvbwidgets - Package is not fully installed\n",
      "25-08-2023 12:20:46 - DEBUG - tvbwidgets - Version read from the internal package.json file\n",
      "25-08-2023 12:20:46 - INFO - tvbwidgets - Version: 1.5.0\n",
      "2023-08-25 12:20:52,653 - INFO - tvb.storage.h5.encryption.data_encryption_handler - Cannot import syncrypto library.\n",
      "25-08-2023 12:20:52 - INFO - tvbwidgets.core.pse.parameters - ImportError: Dask dependency is not included, so this functionality won't be available\n",
      "2023-08-25 12:20:52,857 - WARNING - tvb.basic.readers - File 'hemispheres' not found in ZIP.\n"
     ]
    }
   ],
   "source": [
    "from tvbwidgets.api import ConnectivityWidgetReact\n",
    "from tvb.datatypes.connectivity import Connectivity\n",
    "\n",
    "connectivity = Connectivity.from_file() # defaults to connectivy_76.zip\n",
    "\n",
    "# wid = ConnectivityWidgetReact(connectivity=connectivity)\n",
    "# wid"
   ]
  },
  {
   "cell_type": "code",
   "execution_count": 2,
   "metadata": {},
   "outputs": [
    {
     "name": "stdout",
     "output_type": "stream",
     "text": [
      "2023-08-25 12:20:52,875 - WARNING - tvb.basic.readers - File 'hemispheres' not found in ZIP.\n"
     ]
    },
    {
     "data": {
      "application/vnd.jupyter.widget-view+json": {
       "model_id": "86eda657f9fa4a81a24d9e267faf335b",
       "version_major": 2,
       "version_minor": 0
      },
      "text/plain": [
       "ConnectivityWidget(children=(Dropdown(description='Matrix:', index=1, options=(('Tracts', 'tracts'), ('Weights…"
      ]
     },
     "metadata": {},
     "output_type": "display_data"
    }
   ],
   "source": [
    "from tvbwidgets.api import ConnectivityWidget\n",
    "from tvb.datatypes.connectivity import Connectivity\n",
    "\n",
    "conn = Connectivity.from_file() # defaults to connectivy_76.zip\n",
    "conn.configure()\n",
    "\n",
    "wid = ConnectivityWidget(conn)\n",
    "display(wid)"
   ]
  },
  {
   "cell_type": "code",
   "execution_count": null,
   "metadata": {},
   "outputs": [],
   "source": []
  }
 ],
 "metadata": {
  "kernelspec": {
   "display_name": "Python 3 (ipykernel)",
   "language": "python",
   "name": "python3"
  },
  "language_info": {
   "codemirror_mode": {
    "name": "ipython",
    "version": 3
   },
   "file_extension": ".py",
   "mimetype": "text/x-python",
   "name": "python",
   "nbconvert_exporter": "python",
   "pygments_lexer": "ipython3",
   "version": "3.10.12"
  }
 },
 "nbformat": 4,
 "nbformat_minor": 4
}
