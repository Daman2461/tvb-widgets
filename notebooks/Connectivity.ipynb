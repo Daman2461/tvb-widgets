{
 "cells": [
  {
   "cell_type": "markdown",
   "metadata": {},
   "source": [
    "## Demonstrate Connectivity Widget "
   ]
  },
  {
   "cell_type": "code",
   "execution_count": 1,
   "metadata": {
    "tags": []
   },
   "outputs": [
    {
     "name": "stdout",
     "output_type": "stream",
     "text": [
      "25-08-2023 02:41:22 - DEBUG - tvbwidgets - Package is not fully installed\n",
      "25-08-2023 02:41:22 - DEBUG - tvbwidgets - Version read from the internal package.json file\n",
      "25-08-2023 02:41:22 - INFO - tvbwidgets - Version: 1.5.0\n",
      "2023-08-25 14:41:28,344 - INFO - tvb.storage.h5.encryption.data_encryption_handler - Cannot import syncrypto library.\n",
      "25-08-2023 02:41:28 - INFO - tvbwidgets.core.pse.parameters - ImportError: Dask dependency is not included, so this functionality won't be available\n",
      "2023-08-25 14:41:28,543 - WARNING - tvb.basic.readers - File 'hemispheres' not found in ZIP.\n"
     ]
    }
   ],
   "source": [
    "from tvbwidgets.api import ConnectivityWidgetReact\n",
    "from tvb.datatypes.connectivity import Connectivity\n",
    "\n",
    "connectivity = Connectivity.from_file() # defaults to connectivy_76.zip\n",
    "\n",
    "# wid = ConnectivityWidgetReact(connectivity=connectivity)\n",
    "# wid"
   ]
  },
  {
   "cell_type": "code",
   "execution_count": 2,
   "metadata": {},
   "outputs": [
    {
     "name": "stdout",
     "output_type": "stream",
     "text": [
      "2023-08-25 14:41:28,570 - WARNING - tvb.basic.readers - File 'hemispheres' not found in ZIP.\n"
     ]
    },
    {
     "data": {
      "application/vnd.jupyter.widget-view+json": {
       "model_id": "b1d4cf7c16d244c1aae087b72e8c3218",
       "version_major": 2,
       "version_minor": 0
      },
      "text/plain": [
       "ConnectivityWidget(children=(Connectivity2DViewer(children=(Dropdown(description='Matrix:', index=1, options=(…"
      ]
     },
     "metadata": {},
     "output_type": "display_data"
    }
   ],
   "source": [
    "from tvbwidgets.api import ConnectivityWidget\n",
    "from tvb.datatypes.connectivity import Connectivity\n",
    "\n",
    "conn = Connectivity.from_file() # defaults to connectivy_76.zip\n",
    "conn.configure()\n",
    "\n",
    "wid = ConnectivityWidget(conn)\n",
    "display(wid)"
   ]
  },
  {
   "cell_type": "code",
   "execution_count": null,
   "metadata": {},
   "outputs": [],
   "source": []
  }
 ],
 "metadata": {
  "kernelspec": {
   "display_name": "Python 3 (ipykernel)",
   "language": "python",
   "name": "python3"
  },
  "language_info": {
   "codemirror_mode": {
    "name": "ipython",
    "version": 3
   },
   "file_extension": ".py",
   "mimetype": "text/x-python",
   "name": "python",
   "nbconvert_exporter": "python",
   "pygments_lexer": "ipython3",
   "version": "3.10.12"
  }
 },
 "nbformat": 4,
 "nbformat_minor": 4
}
