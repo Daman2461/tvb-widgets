{
 "cells": [
  {
   "cell_type": "markdown",
   "metadata": {},
   "source": [
    "## Demonstrate Connectivity Widget "
   ]
  },
  {
   "cell_type": "code",
   "execution_count": 1,
   "metadata": {
    "tags": []
   },
   "outputs": [],
   "source": [
    "# from tvbwidgets.api import ConnectivityWidgetReact\n",
    "# from tvb.datatypes.connectivity import Connectivity\n",
    "\n",
    "# connectivity = Connectivity.from_file() # defaults to connectivy_76.zip\n",
    "\n",
    "\n",
    "# wid = ConnectivityWidgetReact(connectivity=connectivity)\n",
    "# wid"
   ]
  },
  {
   "cell_type": "code",
   "execution_count": 2,
   "metadata": {},
   "outputs": [
    {
     "name": "stdout",
     "output_type": "stream",
     "text": [
      "11-09-2023 10:13:24 - DEBUG - tvbwidgets - Package is not fully installed\n",
      "11-09-2023 10:13:24 - DEBUG - tvbwidgets - Version read from the internal package.json file\n",
      "11-09-2023 10:13:24 - INFO - tvbwidgets - Version: 1.5.0\n",
      "2023-09-11 10:13:29,835 - INFO - tvb.storage.h5.encryption.data_encryption_handler - Cannot import syncrypto library.\n",
      "11-09-2023 10:13:29 - INFO - tvbwidgets.core.pse.parameters - ImportError: Dask dependency is not included, so this functionality won't be available\n",
      "2023-09-11 10:13:29,943 - WARNING - tvb.basic.readers - File 'hemispheres' not found in ZIP.\n"
     ]
    },
    {
     "data": {
      "application/vnd.jupyter.widget-view+json": {
       "model_id": "3303c8f259414948800906cc6eb8ae24",
       "version_major": 2,
       "version_minor": 0
      },
      "text/plain": [
       "ConnectivityWidget(children=(HBox(children=(HTML(value='<h1>Connectivity - 76</h1>'), VBox(children=(Checkbox(…"
      ]
     },
     "metadata": {},
     "output_type": "display_data"
    }
   ],
   "source": [
    "from tvbwidgets.api import ConnectivityWidget\n",
    "from tvb.datatypes.connectivity import Connectivity\n",
    "import pyvista as pv\n",
    "import numpy as np\n",
    "pv.set_jupyter_backend('pythreejs')\n",
    "\n",
    "conn = Connectivity.from_file() # defaults to connectivy_76.zip\n",
    "conn.configure()\n",
    "\n",
    "wid = ConnectivityWidget(conn)\n",
    "\n",
    "display(wid)"
   ]
  },
  {
   "cell_type": "code",
   "execution_count": null,
   "metadata": {},
   "outputs": [],
   "source": []
  },
  {
   "cell_type": "code",
   "execution_count": null,
   "metadata": {},
   "outputs": [],
   "source": []
  }
 ],
 "metadata": {
  "kernelspec": {
   "display_name": "Python 3 (ipykernel)",
   "language": "python",
   "name": "python3"
  },
  "language_info": {
   "codemirror_mode": {
    "name": "ipython",
    "version": 3
   },
   "file_extension": ".py",
   "mimetype": "text/x-python",
   "name": "python",
   "nbconvert_exporter": "python",
   "pygments_lexer": "ipython3",
   "version": "3.10.12"
  }
 },
 "nbformat": 4,
 "nbformat_minor": 4
}
