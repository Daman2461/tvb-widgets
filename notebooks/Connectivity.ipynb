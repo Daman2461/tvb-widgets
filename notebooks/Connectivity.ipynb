{
 "cells": [
  {
   "cell_type": "markdown",
   "metadata": {},
   "source": [
    "## Demonstrate Connectivity Widget "
   ]
  },
  {
   "cell_type": "code",
   "execution_count": 1,
   "metadata": {
    "tags": []
   },
   "outputs": [],
   "source": [
    "# from tvbwidgets.api import ConnectivityWidgetReact\n",
    "# from tvb.datatypes.connectivity import Connectivity\n",
    "\n",
    "# connectivity = Connectivity.from_file() # defaults to connectivy_76.zip\n",
    "\n",
    "\n",
    "# wid = ConnectivityWidgetReact(connectivity=connectivity)\n",
    "# wid"
   ]
  },
  {
   "cell_type": "code",
   "execution_count": 2,
   "metadata": {},
   "outputs": [
    {
     "name": "stdout",
     "output_type": "stream",
     "text": [
      "14-09-2023 05:51:45 - DEBUG - tvbwidgets - Package is not fully installed\n",
      "14-09-2023 05:51:45 - DEBUG - tvbwidgets - Version read from the internal package.json file\n",
      "14-09-2023 05:51:45 - INFO - tvbwidgets - Version: 1.5.0\n",
      "2023-09-14 17:51:51,244 - INFO - tvb.storage.h5.encryption.data_encryption_handler - Cannot import syncrypto library.\n",
      "14-09-2023 05:51:51 - INFO - tvbwidgets.core.pse.parameters - ImportError: Dask dependency is not included, so this functionality won't be available\n",
      "2023-09-14 17:51:51,372 - WARNING - tvb.basic.readers - File 'hemispheres' not found in ZIP.\n"
     ]
    },
    {
     "data": {
      "application/vnd.jupyter.widget-view+json": {
       "model_id": "73fcd28782784df6ad44c5a9daa27f7a",
       "version_major": 2,
       "version_minor": 0
      },
      "text/plain": [
       "ConnectivityWidget(children=(VBox(children=(HTML(value='<h1>Connectivity - 76</h1>'), HBox(children=(Checkbox(…"
      ]
     },
     "metadata": {},
     "output_type": "display_data"
    }
   ],
   "source": [
    "from tvbwidgets.api import ConnectivityWidget\n",
    "from tvb.datatypes.connectivity import Connectivity\n",
    "import pyvista as pv\n",
    "import numpy as np\n",
    "pv.set_jupyter_backend('pythreejs')\n",
    "\n",
    "conn = Connectivity.from_file() # defaults to connectivy_76.zip\n",
    "conn.configure()\n",
    "\n",
    "wid = ConnectivityWidget(conn)\n",
    "\n",
    "display(wid)"
   ]
  },
  {
   "cell_type": "code",
   "execution_count": 3,
   "metadata": {},
   "outputs": [
    {
     "data": {
      "text/html": [
       "<table>\n",
       "<thead><h3>Connectivity</h3></thead>\n",
       "<tbody>\n",
       "\n",
       "<tr><th></th><th style=\"text-align:left;width:80%\">value</th></tr>\n",
       "<tr><td>Number of connections</td><td style=\"text-align:left;\"><pre>1560</pre></td></tr>\n",
       "<tr><td>Number of regions</td><td style=\"text-align:left;\"><pre>76</pre></td></tr>\n",
       "<tr><td>Undirected</td><td style=\"text-align:left;\"><pre>False</pre></td></tr>\n",
       "<tr><td>areas</td><td style=\"text-align:left;\"><pre> [min, median, max] = [0, 2580.89, 10338.2] dtype = float64 shape = (76,)</pre></td></tr>\n",
       "<tr><td>tract_lengths</td><td style=\"text-align:left;\"><pre> [min, median, max] = [0, 71.6635, 153.486] dtype = float64 shape = (76, 76)</pre></td></tr>\n",
       "<tr><td>tract_lengths (connections)</td><td style=\"text-align:left;\"><pre> [min, median, max] = [0, 55.8574, 138.454] dtype = float64 shape = (1560,)</pre></td></tr>\n",
       "<tr><td>tract_lengths-non-zero</td><td style=\"text-align:left;\"><pre> [min, median, max] = [4.93328, 74.0646, 153.486] dtype = float64 shape = (5402,)</pre></td></tr>\n",
       "<tr><td>weights</td><td style=\"text-align:left;\"><pre> [min, median, max] = [0, 0, 3] dtype = float64 shape = (76, 76)</pre></td></tr>\n",
       "<tr><td>weights-non-zero</td><td style=\"text-align:left;\"><pre> [min, median, max] = [0.00462632, 2, 3] dtype = float64 shape = (1560,)</pre></td></tr>\n",
       "</tbody></table>"
      ],
      "text/plain": [
       "<tvb.datatypes.connectivity.Connectivity at 0x231cc7e15a0>"
      ]
     },
     "execution_count": 3,
     "metadata": {},
     "output_type": "execute_result"
    }
   ],
   "source": [
    "# replace None in the method below with the gid of the connectivity you wish to export\n",
    "# if no gid is provided it will export the connectivity currently viewed\n",
    "\n",
    "new_connectivity = wid.get_connectivity(gid=None)  \n",
    "new_connectivity"
   ]
  },
  {
   "cell_type": "code",
   "execution_count": null,
   "metadata": {},
   "outputs": [],
   "source": []
  }
 ],
 "metadata": {
  "kernelspec": {
   "display_name": "Python 3 (ipykernel)",
   "language": "python",
   "name": "python3"
  },
  "language_info": {
   "codemirror_mode": {
    "name": "ipython",
    "version": 3
   },
   "file_extension": ".py",
   "mimetype": "text/x-python",
   "name": "python",
   "nbconvert_exporter": "python",
   "pygments_lexer": "ipython3",
   "version": "3.10.12"
  }
 },
 "nbformat": 4,
 "nbformat_minor": 4
}
