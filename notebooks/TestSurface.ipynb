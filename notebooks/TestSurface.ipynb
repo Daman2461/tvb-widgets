{
 "cells": [
  {
   "cell_type": "code",
   "execution_count": null,
   "id": "3188d96e-06ad-4920-a827-940b9d33b64d",
   "metadata": {},
   "outputs": [],
   "source": [
    "from tvbwidgets.api import SurfaceWidget"
   ]
  },
  {
   "cell_type": "code",
   "execution_count": null,
   "id": "298e2088-4247-43a3-b446-008eb98292bb",
   "metadata": {},
   "outputs": [],
   "source": [
    "from IPython.core.display_functions import display\n",
    "sv = SurfaceWidget()\n",
    "display(sv)"
   ]
  },
  {
   "cell_type": "code",
   "execution_count": 1,
   "id": "574c0269-f9ea-445e-b26d-c84ca749fb0e",
   "metadata": {},
   "outputs": [
    {
     "name": "stdout",
     "output_type": "stream",
     "text": [
      "17-02-2022 01:53:01 - INFO - tvbwidgets - Package is not fully installed\n",
      "17-02-2022 01:53:01 - INFO - tvbwidgets - Version read from the internal _version.py file\n",
      "17-02-2022 01:53:01 - INFO - tvbwidgets - Version: 0.1.dev21+g8548de8.d20220217\n",
      "17-02-2022 01:53:01 - INFO - tvbwidgets.auth - We could not find Collab Auth Token, we will search for env CLB_AUTH variable\n",
      "17-02-2022 01:53:01 - INFO - tvbwidgets.auth - We found Collab Auth in environment!\n"
     ]
    },
    {
     "data": {
      "application/vnd.jupyter.widget-view+json": {
       "model_id": "296ed5e42a6545e2aa64907bb2d76f92",
       "version_major": 2,
       "version_minor": 0
      },
      "text/plain": [
       "DriveUploadWidget(children=(VBox(children=(FileUpload(value={}, description='Choose file'), Button(description…"
      ]
     },
     "metadata": {},
     "output_type": "display_data"
    }
   ],
   "source": [
    "from tvbwidgets.ui.drive_widget import DriveUploadWidget\n",
    "from IPython.core.display_functions import display\n",
    "du = DriveUploadWidget()\n",
    "display(du)"
   ]
  },
  {
   "cell_type": "code",
   "execution_count": null,
   "id": "f62c0664-465c-4050-ac59-e5993a3e3889",
   "metadata": {},
   "outputs": [],
   "source": []
  }
 ],
 "metadata": {
  "kernelspec": {
   "display_name": "Python 3",
   "language": "python",
   "name": "python3"
  },
  "language_info": {
   "codemirror_mode": {
    "name": "ipython",
    "version": 3
   },
   "file_extension": ".py",
   "mimetype": "text/x-python",
   "name": "python",
   "nbconvert_exporter": "python",
   "pygments_lexer": "ipython3",
   "version": "3.9.10"
  }
 },
 "nbformat": 4,
 "nbformat_minor": 5
}
