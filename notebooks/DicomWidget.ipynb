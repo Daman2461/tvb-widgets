{
 "cells": [
  {
   "cell_type": "markdown",
   "id": "ce105187-a7e9-4689-ae91-f6bda224845d",
   "metadata": {},
   "source": [
    "## TVB Dicom Widget"
   ]
  },
  {
   "cell_type": "markdown",
   "id": "b36747f3-dc0a-43b2-8dc0-c38dba5f2f8d",
   "metadata": {},
   "source": [
    "---"
   ]
  },
  {
   "cell_type": "markdown",
   "id": "b77e1d2e-1229-4c14-8ffa-8b26bb0aaacf",
   "metadata": {
    "tags": []
   },
   "source": [
    "### This notebook is dedicated to showcasing the Dicom widget\n",
    "#### *Note: This widget accepts 2 types of data: `numpy.ndarray` and `tvb.datatypes.structural.StructuralMRI`.*"
   ]
  },
  {
   "cell_type": "code",
   "execution_count": null,
   "id": "bee554c9-bf38-4ad4-8d7a-f8b8e109cb45",
   "metadata": {
    "tags": []
   },
   "outputs": [],
   "source": [
    "import numpy as np\n",
    "from tvbwidgets.api import DicomWidget\n",
    "from tvb.adapters.uploaders.nifti.parser import NIFTIParser\n",
    "\n",
    "from bokeh.io import output_notebook\n",
    "output_notebook() # tell Bokeh to display the widget inside the notebook"
   ]
  },
  {
   "cell_type": "markdown",
   "id": "cb911cd0-e624-473c-97c1-24bef090ece4",
   "metadata": {
    "tags": []
   },
   "source": [
    "### Read input data"
   ]
  },
  {
   "cell_type": "markdown",
   "id": "5c445018-d57c-45e1-a8fc-8cce82c8ba70",
   "metadata": {},
   "source": [
    "#### Either read and parse the data using the NIFTI Parser from TVB \n",
    "(Uncomment the 2 lines and replace `path_to_nii_file` with the correct path to your file)"
   ]
  },
  {
   "cell_type": "code",
   "execution_count": null,
   "id": "21d549a1-aa69-4964-9d6a-074a1ebf12fe",
   "metadata": {
    "tags": []
   },
   "outputs": [],
   "source": [
    "# parser = NIFTIParser(data_file='path_to_nii_file')\n",
    "# data = parser.parse()"
   ]
  },
  {
   "cell_type": "markdown",
   "id": "07185a9d-f8a4-4ea9-97cc-54fcc523b765",
   "metadata": {},
   "source": [
    "#### Or use an existent numpy.ndarray/ TVB StructuralMRI object"
   ]
  },
  {
   "cell_type": "code",
   "execution_count": null,
   "id": "c03cbb47-cbec-454c-8935-61cc00894a21",
   "metadata": {
    "tags": []
   },
   "outputs": [],
   "source": [
    "# create demo array just to demonstrate the usage of the API\n",
    "rng = np.random.default_rng()\n",
    "data = rng.random((255,255,255))"
   ]
  },
  {
   "cell_type": "markdown",
   "id": "e1a32181-61b4-4178-b315-9ab5dd10e99a",
   "metadata": {
    "tags": []
   },
   "source": [
    "### Display the widget"
   ]
  },
  {
   "cell_type": "code",
   "execution_count": null,
   "id": "2bd3dce7-657b-440d-9dcc-f8f494dbd92e",
   "metadata": {
    "tags": []
   },
   "outputs": [],
   "source": [
    "widget = DicomWidget(data)"
   ]
  },
  {
   "cell_type": "code",
   "execution_count": null,
   "id": "e97e9bbb-9d8f-4f74-8fa4-766c5a491939",
   "metadata": {},
   "outputs": [],
   "source": [
    "widget.show_widget()"
   ]
  },
  {
   "cell_type": "code",
   "execution_count": null,
   "id": "52b6f692-753f-4d95-91df-9a4e33ad391c",
   "metadata": {},
   "outputs": [],
   "source": []
  }
 ],
 "metadata": {
  "kernelspec": {
   "display_name": "Python 3 (ipykernel)",
   "language": "python",
   "name": "python3"
  },
  "language_info": {
   "codemirror_mode": {
    "name": "ipython",
    "version": 3
   },
   "file_extension": ".py",
   "mimetype": "text/x-python",
   "name": "python",
   "nbconvert_exporter": "python",
   "pygments_lexer": "ipython3",
   "version": "3.9.18"
  }
 },
 "nbformat": 4,
 "nbformat_minor": 5
}
