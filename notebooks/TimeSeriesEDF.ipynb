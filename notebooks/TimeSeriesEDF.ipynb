{
 "cells": [
  {
   "cell_type": "markdown",
   "id": "bae5e88c-1828-4349-b67a-01082e41aaf7",
   "metadata": {},
   "source": [
    "## EDF TimeSeries Widget"
   ]
  },
  {
   "cell_type": "markdown",
   "id": "866da714-9a4c-4242-b469-8643ba5a8573",
   "metadata": {},
   "source": [
    "---"
   ]
  },
  {
   "cell_type": "markdown",
   "id": "a28b8eb4-4709-4056-9e6e-4530a3735011",
   "metadata": {},
   "source": [
    "### This notebook is dedicated to showcasing the TimeSeries widget using data from an EDF file"
   ]
  },
  {
   "cell_type": "code",
   "execution_count": null,
   "id": "56d5c4b6-7804-46d6-931f-fcc5593977d1",
   "metadata": {},
   "outputs": [],
   "source": [
    "%matplotlib widget"
   ]
  },
  {
   "cell_type": "code",
   "execution_count": null,
   "id": "28420169-2274-4e0e-a73d-c1ab54e6da9c",
   "metadata": {
    "scrolled": true,
    "tags": []
   },
   "outputs": [],
   "source": [
    "import numpy as np\n",
    "from tvbwidgets.api import plot_timeseries\n",
    "from tvbwidgets.readers import read_edf_file"
   ]
  },
  {
   "cell_type": "markdown",
   "id": "59594729-3afd-4537-87c2-7413dcb66606",
   "metadata": {},
   "source": [
    "#### Reading the data"
   ]
  },
  {
   "cell_type": "code",
   "execution_count": null,
   "id": "94687d23-0222-4e9f-887e-e97169737304",
   "metadata": {
    "tags": []
   },
   "outputs": [],
   "source": [
    "edf_file_path = 'tvbwidgets/tests/data/test_file.edf' # replace path with your actual EDF file path\n",
    "                                                      # set this path file for notebooks tests\n",
    "# you can use: '../tvbwidgets/tests/data/test_file.edf'\n",
    "data, freq, index = read_edf_file(edf_file_path)"
   ]
  },
  {
   "cell_type": "code",
   "execution_count": null,
   "id": "12da93b3-f96f-44cf-8555-52eee8aaecfd",
   "metadata": {
    "tags": []
   },
   "outputs": [],
   "source": [
    "print(data.shape)\n",
    "print(freq)"
   ]
  },
  {
   "cell_type": "markdown",
   "id": "94d8b0ec-654f-47a7-a0c8-ce3b28651e22",
   "metadata": {},
   "source": [
    "#### TS Viewer"
   ]
  },
  {
   "cell_type": "code",
   "execution_count": null,
   "id": "cac83fe3-b4fe-486a-8955-70203dda1004",
   "metadata": {},
   "outputs": [],
   "source": [
    "backend = 'plotly' # change to 'matplotlib' to see the other TS widget"
   ]
  },
  {
   "cell_type": "code",
   "execution_count": null,
   "id": "20c3eae2-49dd-4d01-af9a-06a0dba15888",
   "metadata": {},
   "outputs": [],
   "source": [
    "tsw = plot_timeseries(data=data, sample_freq=freq, ch_idx=index, backend=backend)"
   ]
  },
  {
   "cell_type": "code",
   "execution_count": null,
   "id": "83da35ea-9c05-4f4b-90e8-93ee7002554c",
   "metadata": {},
   "outputs": [],
   "source": []
  }
 ],
 "metadata": {
  "kernelspec": {
   "display_name": "Python 3 (ipykernel)",
   "language": "python",
   "name": "python3"
  },
  "language_info": {
   "codemirror_mode": {
    "name": "ipython",
    "version": 3
   },
   "file_extension": ".py",
   "mimetype": "text/x-python",
   "name": "python",
   "nbconvert_exporter": "python",
   "pygments_lexer": "ipython3",
   "version": "3.9.19"
  }
 },
 "nbformat": 4,
 "nbformat_minor": 5
}
