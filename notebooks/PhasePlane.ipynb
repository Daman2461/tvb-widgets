{
 "cells": [
  {
   "cell_type": "markdown",
   "id": "10c2953f-29a8-4767-8a86-3306d3ecdc65",
   "metadata": {},
   "source": [
    "## TVB ShowCase Phase: Plane interactive"
   ]
  },
  {
   "cell_type": "code",
   "execution_count": 1,
   "id": "8b03f797-0f0f-4b39-a7c8-f883145dc631",
   "metadata": {},
   "outputs": [
    {
     "name": "stdout",
     "output_type": "stream",
     "text": [
      "Note: you may need to restart the kernel to use updated packages.\n",
      "Note: you may need to restart the kernel to use updated packages.\n",
      "Requirement already satisfied: tvb-data in c:\\users\\david.bacter\\anaconda3\\envs\\tvb-widgets\\lib\\site-packages (2.0)\n",
      "Note: you may need to restart the kernel to use updated packages.\n"
     ]
    }
   ],
   "source": [
    "%pip install --quiet --upgrade pip\n",
    "%pip install --quiet -e ..\n",
    "%pip install tvb-data"
   ]
  },
  {
   "cell_type": "code",
   "execution_count": 2,
   "id": "04bc2ecb-fc03-44b8-b009-cb42ac5c7d4c",
   "metadata": {},
   "outputs": [],
   "source": [
    "%matplotlib inline"
   ]
  },
  {
   "cell_type": "markdown",
   "id": "2675a8ee-a443-4b40-b383-a0db0dc4a976",
   "metadata": {},
   "source": [
    "---"
   ]
  },
  {
   "cell_type": "markdown",
   "id": "9e4b9282-9776-4b05-83f8-817f6a6d567b",
   "metadata": {},
   "source": [
    "### Choose model and start the Phase Plane GUI"
   ]
  },
  {
   "cell_type": "code",
   "execution_count": 3,
   "id": "acd78ac4-2703-444f-bb6c-1d7080b6552d",
   "metadata": {},
   "outputs": [
    {
     "name": "stdout",
     "output_type": "stream",
     "text": [
      "22-09-2022 06:16:09 - DEBUG - tvbwidgets - Package is not fully installed\n",
      "C:\\Users\\david.bacter\\PycharmProjects\\tvb-widgets\n",
      "22-09-2022 06:16:09 - DEBUG - tvbwidgets - Version read from the internal package.json file\n",
      "22-09-2022 06:16:09 - INFO - tvbwidgets - Version: 0.3\n",
      "2022-09-22 18:16:09,650 - WARNING - tvb.simulator.common - psutil module not available: no warnings will be issued when a\n",
      "    simulation may require more memory than available\n",
      "   INFO  log level set to INFO\n"
     ]
    },
    {
     "name": "stderr",
     "output_type": "stream",
     "text": [
      "C:\\Users\\david.bacter\\Anaconda3\\envs\\tvb-widgets\\lib\\site-packages\\tvb\\datatypes\\surfaces.py:64: UserWarning: Geodesic distance module is unavailable; some functionality for surfaces will be unavailable.\n",
      "  warnings.warn(msg)\n"
     ]
    }
   ],
   "source": [
    "from tvbwidgets.api import PhasePlaneWidget\n",
    "from tvb.simulator.lab import *\n",
    "w = PhasePlaneWidget(model=models.Generic2dOscillator(),\n",
    "                     integrator=integrators.HeunDeterministic())"
   ]
  },
  {
   "cell_type": "code",
   "execution_count": 4,
   "id": "c7b13003-65ce-4365-a2e6-d9cdc135b48d",
   "metadata": {},
   "outputs": [
    {
     "data": {
      "application/vnd.jupyter.widget-view+json": {
       "model_id": "fbf8a03f81db4d8e96e74e3979fbd68f",
       "version_major": 2,
       "version_minor": 0
      },
      "text/plain": [
       "HBox(children=(Tab(children=(VBox(children=(Dropdown(description='Model:', index=10, options=('Epileptor', 'Ep…"
      ]
     },
     "metadata": {},
     "output_type": "display_data"
    }
   ],
   "source": [
    "from IPython.core.display_functions import display\n",
    "display(w.get_widget(plot_size=(7,8)))"
   ]
  },
  {
   "cell_type": "code",
   "execution_count": 5,
   "id": "39bd50eb-074e-4162-be4f-01d9bfc9b1ab",
   "metadata": {},
   "outputs": [],
   "source": [
    "# w.export_model()"
   ]
  },
  {
   "cell_type": "code",
   "execution_count": null,
   "id": "f61424b8-5fda-4382-85e5-b249286c9201",
   "metadata": {},
   "outputs": [],
   "source": []
  }
 ],
 "metadata": {
  "kernelspec": {
   "display_name": "Python 3 (ipykernel)",
   "language": "python",
   "name": "python3"
  },
  "language_info": {
   "codemirror_mode": {
    "name": "ipython",
    "version": 3
   },
   "file_extension": ".py",
   "mimetype": "text/x-python",
   "name": "python",
   "nbconvert_exporter": "python",
   "pygments_lexer": "ipython3",
   "version": "3.10.2"
  }
 },
 "nbformat": 4,
 "nbformat_minor": 5
}
