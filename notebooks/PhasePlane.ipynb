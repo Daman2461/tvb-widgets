{
 "cells": [
  {
   "cell_type": "code",
   "execution_count": 3,
   "id": "c9cbde3a-5da8-462b-8b81-a7f95d93ca80",
   "metadata": {},
   "outputs": [],
   "source": [
    "from tvbwidgets.api import PhasePlaneWidget\n",
    "from tvb.simulator.lab import *\n",
    "w = PhasePlaneWidget(model=models.Generic2dOscillator(),\n",
    "                     integrator=integrators.HeunDeterministic())"
   ]
  },
  {
   "cell_type": "code",
   "execution_count": 4,
   "id": "c7b13003-65ce-4365-a2e6-d9cdc135b48d",
   "metadata": {},
   "outputs": [
    {
     "data": {
      "application/vnd.jupyter.widget-view+json": {
       "model_id": "f75beb18dd124ebe8849501f8e3571d9",
       "version_major": 2,
       "version_minor": 0
      },
      "text/plain": [
       "VBox(children=(GridBox(children=(VBox(children=(Button(description='Reset parameters', layout=Layout(width='90…"
      ]
     },
     "metadata": {},
     "output_type": "display_data"
    }
   ],
   "source": [
    "from IPython.core.display_functions import display\n",
    "display(w.get_widget())"
   ]
  },
  {
   "cell_type": "code",
   "execution_count": null,
   "id": "0f5fa273-085c-4853-8a65-504e31d0a407",
   "metadata": {},
   "outputs": [],
   "source": []
  }
 ],
 "metadata": {
  "kernelspec": {
   "display_name": "Python 3",
   "language": "python",
   "name": "python3"
  },
  "language_info": {
   "codemirror_mode": {
    "name": "ipython",
    "version": 3
   },
   "file_extension": ".py",
   "mimetype": "text/x-python",
   "name": "python",
   "nbconvert_exporter": "python",
   "pygments_lexer": "ipython3",
   "version": "3.9.10"
  }
 },
 "nbformat": 4,
 "nbformat_minor": 5
}
