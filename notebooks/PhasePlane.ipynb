{
 "cells": [
  {
   "cell_type": "markdown",
   "id": "10c2953f-29a8-4767-8a86-3306d3ecdc65",
   "metadata": {},
   "source": [
    "## TVB ShowCase Phase: Plane interactive"
   ]
  },
  {
   "cell_type": "markdown",
   "id": "fb69eefc-0c8c-480f-9e31-41576e61f1fa",
   "metadata": {},
   "source": [
    "#### Next 2 cells only when running in EBRAINS dev mode (before release)"
   ]
  },
  {
   "cell_type": "code",
   "execution_count": 1,
   "id": "8b03f797-0f0f-4b39-a7c8-f883145dc631",
   "metadata": {},
   "outputs": [],
   "source": [
    "!pip install colorcet ebrains_drive ipywidgets mne==0.24.1 pythreejs pyvista tvb-library tvb-data"
   ]
  },
  {
   "cell_type": "code",
   "execution_count": 1,
   "id": "104c601d-8ecd-49c2-97d3-10d77b77e61d",
   "metadata": {},
   "outputs": [],
   "source": [
    "import sys\n",
    "sys.path.append(\"/opt/app-root/src/shared/TVB Widgets/REPO/tvb-widgets\")"
   ]
  },
  {
   "cell_type": "markdown",
   "id": "2675a8ee-a443-4b40-b383-a0db0dc4a976",
   "metadata": {},
   "source": [
    "---"
   ]
  },
  {
   "cell_type": "markdown",
   "id": "9e4b9282-9776-4b05-83f8-817f6a6d567b",
   "metadata": {},
   "source": [
    "### Choose model and start the Phase Plane GUI"
   ]
  },
  {
   "cell_type": "code",
   "execution_count": 1,
   "id": "acd78ac4-2703-444f-bb6c-1d7080b6552d",
   "metadata": {},
   "outputs": [
    {
     "name": "stdout",
     "output_type": "stream",
     "text": [
      "12-04-2022 02:53:04 - DEBUG - tvbwidgets - Package is not fully installed\n",
      "/Users/lia.domide/WORK/TVB/tvb-widgets\n",
      "12-04-2022 02:53:04 - DEBUG - tvbwidgets - Version read from the internal package.json file\n",
      "12-04-2022 02:53:04 - INFO - tvbwidgets - Version: 0.2.0\n"
     ]
    },
    {
     "name": "stderr",
     "output_type": "stream",
     "text": [
      "/Library/Anaconda/anaconda3/envs/tvb-widgets/lib/python3.9/site-packages/tvb/datatypes/surfaces.py:63: UserWarning: Geodesic distance module is unavailable; some functionality for surfaces will be unavailable.\n",
      "  warnings.warn(msg)\n"
     ]
    }
   ],
   "source": [
    "from tvbwidgets.api import PhasePlaneWidget\n",
    "from tvb.simulator.lab import *\n",
    "w = PhasePlaneWidget(model=models.Generic2dOscillator(),\n",
    "                     integrator=integrators.HeunDeterministic())"
   ]
  },
  {
   "cell_type": "code",
   "execution_count": 2,
   "id": "c7b13003-65ce-4365-a2e6-d9cdc135b48d",
   "metadata": {},
   "outputs": [
    {
     "data": {
      "application/vnd.jupyter.widget-view+json": {
       "model_id": "00113532958040cb97bd4880edfe209f",
       "version_major": 2,
       "version_minor": 0
      },
      "text/plain": [
       "VBox(children=(GridBox(children=(VBox(children=(Button(description='Reset parameters', layout=Layout(width='90…"
      ]
     },
     "metadata": {},
     "output_type": "display_data"
    }
   ],
   "source": [
    "from IPython.core.display_functions import display\n",
    "display(w.get_widget())"
   ]
  },
  {
   "cell_type": "code",
   "execution_count": null,
   "id": "0f5fa273-085c-4853-8a65-504e31d0a407",
   "metadata": {},
   "outputs": [],
   "source": []
  }
 ],
 "metadata": {
  "kernelspec": {
   "display_name": "Python 3",
   "language": "python",
   "name": "python3"
  },
  "language_info": {
   "codemirror_mode": {
    "name": "ipython",
    "version": 3
   },
   "file_extension": ".py",
   "mimetype": "text/x-python",
   "name": "python",
   "nbconvert_exporter": "python",
   "pygments_lexer": "ipython3",
   "version": "3.9.10"
  }
 },
 "nbformat": 4,
 "nbformat_minor": 5
}
