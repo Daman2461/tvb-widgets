{
 "cells": [
  {
   "cell_type": "markdown",
   "id": "96fbe709-a421-4e87-b835-5927e65836cb",
   "metadata": {
    "tags": []
   },
   "source": [
    "### Install the pyunicore library"
   ]
  },
  {
   "cell_type": "code",
   "execution_count": null,
   "id": "59758da5-2f0d-4583-af57-3cd148c5b808",
   "metadata": {},
   "outputs": [],
   "source": [
    "! pip install pyunicore"
   ]
  },
  {
   "cell_type": "markdown",
   "id": "5d57d355-9d48-4bcf-a63e-49486f7e33de",
   "metadata": {},
   "source": [
    "### Connect to JUSUF/JUDAC site"
   ]
  },
  {
   "cell_type": "code",
   "execution_count": null,
   "id": "f2deacb3-9e01-40e6-81a9-e8096243f703",
   "metadata": {},
   "outputs": [],
   "source": [
    "import pyunicore\n",
    "import pyunicore.client as unicore_client\n",
    "print(f'pyunicore version: {pyunicore.__version__}')"
   ]
  },
  {
   "cell_type": "code",
   "execution_count": null,
   "id": "3bdcd5c1-48d4-4d50-82e5-b9cb848fa815",
   "metadata": {},
   "outputs": [],
   "source": [
    "token = 'eyJhbGciOiJSUzI1NiIsInR5cCIgOiAiSldUIiwia2lkIiA6ICJfNkZVSHFaSDNIRmVhS0pEZDhXcUx6LWFlZ3kzYXFodVNJZ1RXaTA1U2k0In0.eyJleHAiOjE2ODA3NjQzMTYsImlhdCI6MTY4MDE1OTUxNiwiYXV0aF90aW1lIjoxNjc5OTg4ODM3LCJqdGkiOiI4MjQ0NTRiYS0zMjY0LTQwMWMtODA1NC1hMmFhNGVlMmY3ZTIiLCJpc3MiOiJodHRwczovL2lhbS5lYnJhaW5zLmV1L2F1dGgvcmVhbG1zL2hicCIsImF1ZCI6WyJ0dXRvcmlhbE9pZGNBcGkiLCJqdXB5dGVyaHViLWpzYyIsInh3aWtpIiwidGVhbSIsImdyb3VwIl0sInN1YiI6IjM2NzI0ODlhLThiOGUtNDRhZC1iODNiLTU0NjMzY2I1YTc1ZSIsInR5cCI6IkJlYXJlciIsImF6cCI6Imp1cHl0ZXJodWIiLCJzZXNzaW9uX3N0YXRlIjoiNmI3MmIxOTAtMGIwYy00NjQwLWJlNGItYjYyMDc5N2U0Njg1IiwiYWNyIjoiMCIsImFsbG93ZWQtb3JpZ2lucyI6WyJodHRwczovL2p1cHl0ZXJodWIuYXBwcy5qc2MuaGJwLmV1LyIsImh0dHBzOi8vbGFiLmVicmFpbnMuZXUvIiwiaHR0cHM6Ly9sYWIuanNjLmVicmFpbnMuZXUvIl0sInJlYWxtX2FjY2VzcyI6eyJyb2xlcyI6WyJvZmZsaW5lX2FjY2VzcyJdfSwic2NvcGUiOiJjb2xsYWIuZHJpdmUgcHJvZmlsZSBvZmZsaW5lX2FjY2VzcyBjbGIud2lraS53cml0ZSBlbWFpbCByb2xlcyBvcGVuaWQgZ3JvdXAgY2xiLndpa2kucmVhZCB0ZWFtIiwic2lkIjoiNmI3MmIxOTAtMGIwYy00NjQwLWJlNGItYjYyMDc5N2U0Njg1IiwiZW1haWxfdmVyaWZpZWQiOnRydWUsIm5hbWUiOiJQYXVsYSBQb3BhIiwibWl0cmVpZC1zdWIiOiIzMDc0NDEiLCJwcmVmZXJyZWRfdXNlcm5hbWUiOiJwYXVsYXBvcGEiLCJnaXZlbl9uYW1lIjoiUGF1bGEiLCJmYW1pbHlfbmFtZSI6IlBvcGEiLCJlbWFpbCI6InBhdWxhLnBvcGFAY29kZW1hcnQucm8ifQ.jjXxYK31m_w4dODB1GXFsKPQ7eA1efbBfAk15WR8VCWFrOseMEqzTjrikf3QsEnfJPVq90v_wxvpY1YOOo6assCTApCF4EnCpRKmBcculZGh5JGreWOEFmCc5tTkUn5EXovNIk87NN-NCcLh1Ruc4WVh1N3cD_zcWDu1CfwNHJ-Zl9Er7rHsXljj47SD1izwkV2lmrDqEW78EZm2L62K1et3a6wPqhKOmnVO6KI_hQ-tt-FFlhtkknlGHoG2QH9nHd9jDw5rDfw99ER_oLNxctkfphf1ErAAvAJ9xqA8Butfva2t5MDVrplNwPegL2N4SxOYOVc6QKpzFZiDjFExIg'\n",
    "# print(token)\n",
    "transport = unicore_client.Transport(token)\n",
    "registry = unicore_client.Registry(transport, unicore_client._HBP_REGISTRY_URL)\n",
    "sites = registry.site_urls\n",
    "sites"
   ]
  },
  {
   "cell_type": "code",
   "execution_count": null,
   "id": "ee98a5b0-7a4a-479a-b2a3-65b1d6f4a786",
   "metadata": {},
   "outputs": [],
   "source": [
    "site_url = sites['JUSUF'] # change 'JUSUF' to 'JUDAC' or DAINT-CSCS\n",
    "client = unicore_client.Client(transport, site_url)\n",
    "jobs = client.get_jobs()\n",
    "jobs\n",
    "# wd = jobs[0].working_dir.listdir()\n",
    "# wd['UNICORE_SCRIPT_EXIT_CODE'].download('test_download_2')\n",
    "#jobs[0].is_running()\n"
   ]
  },
  {
   "cell_type": "code",
   "execution_count": null,
   "id": "0a6b6bf0-884c-403b-ba3e-21952ca08b7d",
   "metadata": {},
   "outputs": [],
   "source": [
    "content = jobs[0].working_dir.listdir()\n",
    "test = content.get('stderr')\n",
    "test.download('stderr-test')"
   ]
  },
  {
   "cell_type": "markdown",
   "id": "129b8bf2-b1fa-4914-9f5d-cba5dc88b2b9",
   "metadata": {},
   "source": [
    "### Launch a job with Unicore"
   ]
  },
  {
   "cell_type": "code",
   "execution_count": null,
   "id": "11e72362-3b82-4096-8642-8756cb597f9e",
   "metadata": {},
   "outputs": [],
   "source": [
    "job_description = {'Executable': \"echo 'abc' > test.txt\"}\n",
    "job = client.new_job(job_description, inputs=[])\n",
    "job"
   ]
  },
  {
   "cell_type": "code",
   "execution_count": null,
   "id": "aab9a353-d11e-412d-9b8f-49ebf148c249",
   "metadata": {},
   "outputs": [],
   "source": [
    "#job.properties\n",
    "content = job.working_dir.listdir()\n",
    "storage_file = content.get('test.txt')\n",
    "storage_file.download('test2.txt')"
   ]
  },
  {
   "cell_type": "code",
   "execution_count": null,
   "id": "48a36d83-54f3-430f-88e7-6c59d20f836a",
   "metadata": {},
   "outputs": [],
   "source": [
    "job.working_dir.properties"
   ]
  },
  {
   "cell_type": "code",
   "execution_count": null,
   "id": "7f15a06e-82e1-4b48-8d6a-9f4c7ba8d33e",
   "metadata": {},
   "outputs": [],
   "source": [
    "import tvbextunicore\n",
    "tvbextunicore.__version__"
   ]
  },
  {
   "cell_type": "markdown",
   "id": "faefedc1-d833-4364-980c-8d2c373da38e",
   "metadata": {},
   "source": [
    "#### * NOTE: if you want to test this code locally, you will need to copy your token from here into your local code (could be an environment variable)"
   ]
  },
  {
   "cell_type": "code",
   "execution_count": null,
   "id": "a85b1474-4e83-4394-814c-2cd6a1ddf426",
   "metadata": {},
   "outputs": [],
   "source": []
  }
 ],
 "metadata": {
  "kernelspec": {
   "display_name": "Python 3 (ipykernel)",
   "language": "python",
   "name": "python3"
  },
  "language_info": {
   "codemirror_mode": {
    "name": "ipython",
    "version": 3
   },
   "file_extension": ".py",
   "mimetype": "text/x-python",
   "name": "python",
   "nbconvert_exporter": "python",
   "pygments_lexer": "ipython3",
   "version": "3.10.8"
  }
 },
 "nbformat": 4,
 "nbformat_minor": 5
}
