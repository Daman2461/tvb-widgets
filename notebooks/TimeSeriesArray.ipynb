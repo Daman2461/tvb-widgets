{
 "cells": [
  {
   "cell_type": "markdown",
   "id": "bae5e88c-1828-4349-b67a-01082e41aaf7",
   "metadata": {},
   "source": [
    "## Array TimeSeries Widget"
   ]
  },
  {
   "cell_type": "markdown",
   "id": "866da714-9a4c-4242-b469-8643ba5a8573",
   "metadata": {},
   "source": [
    "---"
   ]
  },
  {
   "cell_type": "markdown",
   "id": "a28b8eb4-4709-4056-9e6e-4530a3735011",
   "metadata": {},
   "source": [
    "### This notebook is dedicated to showcasing the TimeSeries widget using data given as numpy array"
   ]
  },
  {
   "cell_type": "code",
   "execution_count": 1,
   "id": "56d5c4b6-7804-46d6-931f-fcc5593977d1",
   "metadata": {},
   "outputs": [],
   "source": [
    "%load_ext autoreload\n",
    "%autoreload 2\n",
    "%matplotlib widget"
   ]
  },
  {
   "cell_type": "code",
   "execution_count": 3,
   "id": "28420169-2274-4e0e-a73d-c1ab54e6da9c",
   "metadata": {
    "scrolled": true,
    "tags": []
   },
   "outputs": [
    {
     "name": "stdout",
     "output_type": "stream",
     "text": [
      "12-05-2023 03:15:02 - INFO - tvbwidgets.core.pse.parameters - ImportError: Dask dependency is not included, so this functionality won't be available\n"
     ]
    }
   ],
   "source": [
    "import numpy as np\n",
    "from tvbwidgets.api import plot_timeseries"
   ]
  },
  {
   "cell_type": "markdown",
   "id": "59594729-3afd-4537-87c2-7413dcb66606",
   "metadata": {},
   "source": [
    "#### Gathering data"
   ]
  },
  {
   "cell_type": "code",
   "execution_count": null,
   "id": "fb83cceb-b412-424a-8b6f-f5e5bc5bfac8",
   "metadata": {},
   "outputs": [],
   "source": [
    "raw = np.random.rand(30000, 50)"
   ]
  },
  {
   "cell_type": "markdown",
   "id": "94d8b0ec-654f-47a7-a0c8-ce3b28651e22",
   "metadata": {},
   "source": [
    "#### TS Viewer"
   ]
  },
  {
   "cell_type": "code",
   "execution_count": null,
   "id": "cac83fe3-b4fe-486a-8955-70203dda1004",
   "metadata": {},
   "outputs": [],
   "source": [
    "backend = 'plotly' # change to 'matplotlib' to see the other TS widget"
   ]
  },
  {
   "cell_type": "code",
   "execution_count": null,
   "id": "20c3eae2-49dd-4d01-af9a-06a0dba15888",
   "metadata": {},
   "outputs": [],
   "source": [
    "tsw = plot_timeseries(data=raw, sample_freq=0.1, ch_idx=1, backend=backend)"
   ]
  }
 ],
 "metadata": {
  "kernelspec": {
   "display_name": "Python 3 (ipykernel)",
   "language": "python",
   "name": "python3"
  },
  "language_info": {
   "codemirror_mode": {
    "name": "ipython",
    "version": 3
   },
   "file_extension": ".py",
   "mimetype": "text/x-python",
   "name": "python",
   "nbconvert_exporter": "python",
   "pygments_lexer": "ipython3",
   "version": "3.9.16"
  }
 },
 "nbformat": 4,
 "nbformat_minor": 5
}
