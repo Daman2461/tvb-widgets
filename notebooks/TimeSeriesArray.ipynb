{
 "cells": [
  {
   "cell_type": "markdown",
   "id": "2d6c47e5-235f-48c5-aab8-b4c638a7a4c8",
   "metadata": {},
   "source": [
    "## Array TimeSeries Widget\n",
    "#### This notebook is dedicated to showcasing the TimeSeries widget using data given as numpy array"
   ]
  },
  {
   "cell_type": "code",
   "execution_count": 1,
   "id": "56d5c4b6-7804-46d6-931f-fcc5593977d1",
   "metadata": {},
   "outputs": [],
   "source": [
    "%load_ext autoreload\n",
    "%autoreload 2"
   ]
  },
  {
   "cell_type": "code",
   "execution_count": 2,
   "id": "6f4d0a06-9637-4a26-912e-e4211e54ecef",
   "metadata": {},
   "outputs": [],
   "source": [
    "%matplotlib widget"
   ]
  },
  {
   "cell_type": "code",
   "execution_count": 3,
   "id": "28420169-2274-4e0e-a73d-c1ab54e6da9c",
   "metadata": {
    "scrolled": true,
    "tags": []
   },
   "outputs": [
    {
     "name": "stdout",
     "output_type": "stream",
     "text": [
      "10-04-2022 09:00:54 - DEBUG - tvbwidgets - Package is not fully installed\n",
      "/Users/lia.domide/WORK/TVB/tvb-widgets\n",
      "10-04-2022 09:00:54 - DEBUG - tvbwidgets - Version read from the internal package.json file\n",
      "10-04-2022 09:00:54 - INFO - tvbwidgets - Version: 0.2.0\n"
     ]
    },
    {
     "name": "stderr",
     "output_type": "stream",
     "text": [
      "/Library/Anaconda/anaconda3/envs/tvb-widgets/lib/python3.9/site-packages/tvb/datatypes/surfaces.py:63: UserWarning: Geodesic distance module is unavailable; some functionality for surfaces will be unavailable.\n",
      "  warnings.warn(msg)\n"
     ]
    }
   ],
   "source": [
    "import os\n",
    "import numpy as np\n",
    "from tvbwidgets.api import TimeSeriesWidget\n",
    "from IPython.core.display_functions import display"
   ]
  },
  {
   "cell_type": "markdown",
   "id": "59594729-3afd-4537-87c2-7413dcb66606",
   "metadata": {},
   "source": [
    "#### Gathering data"
   ]
  },
  {
   "cell_type": "code",
   "execution_count": 4,
   "id": "fb83cceb-b412-424a-8b6f-f5e5bc5bfac8",
   "metadata": {},
   "outputs": [],
   "source": [
    "raw = np.random.rand(30000, 50)"
   ]
  },
  {
   "cell_type": "markdown",
   "id": "94d8b0ec-654f-47a7-a0c8-ce3b28651e22",
   "metadata": {},
   "source": [
    "#### TS Viewer"
   ]
  },
  {
   "cell_type": "code",
   "execution_count": 5,
   "id": "20c3eae2-49dd-4d01-af9a-06a0dba15888",
   "metadata": {},
   "outputs": [
    {
     "name": "stdout",
     "output_type": "stream",
     "text": [
      "10-04-2022 09:00:56 - INFO - tvbwidgets.ui.ts_widget - Initializing TS Widget\n",
      "Creating RawArray with float64 data, n_channels=50, n_times=30000\n",
      "    Range : 0 ... 29999 =      0.000 ... 2999900.000 secs\n",
      "Ready.\n",
      "Using matplotlib as 2D backend.\n"
     ]
    },
    {
     "data": {
      "application/vnd.jupyter.widget-view+json": {
       "model_id": "703970f030a342e09395c3b116eb98f3",
       "version_major": 2,
       "version_minor": 0
      },
      "text/plain": [
       "VBox(children=(Output(layout=Layout(width='auto')), HBox(children=(Accordion(children=(VBox(children=(HBox(chi…"
      ]
     },
     "metadata": {},
     "output_type": "display_data"
    }
   ],
   "source": [
    "ts = TimeSeriesWidget()\n",
    "ts.add_data_array(raw, 0.01, ch_idx=1)\n",
    "display(ts.get_widget())"
   ]
  },
  {
   "cell_type": "code",
   "execution_count": null,
   "id": "bd108375-647b-4d0f-89dd-da34af3cb0ea",
   "metadata": {},
   "outputs": [],
   "source": []
  }
 ],
 "metadata": {
  "kernelspec": {
   "display_name": "Python 3",
   "language": "python",
   "name": "python3"
  },
  "language_info": {
   "codemirror_mode": {
    "name": "ipython",
    "version": 3
   },
   "file_extension": ".py",
   "mimetype": "text/x-python",
   "name": "python",
   "nbconvert_exporter": "python",
   "pygments_lexer": "ipython3",
   "version": "3.9.10"
  }
 },
 "nbformat": 4,
 "nbformat_minor": 5
}
