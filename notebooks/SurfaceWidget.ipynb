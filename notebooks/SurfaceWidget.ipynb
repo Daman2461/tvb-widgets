{
 "cells": [
  {
   "cell_type": "markdown",
   "id": "e768c2fa-a9e4-4784-ab29-1547da1687d2",
   "metadata": {},
   "source": [
    "## Demonstrate how tvb-widgets Surface Widget works\n",
    "\n",
    "#### Next 2 cells only when running in EBRAINS dev mode (before release)"
   ]
  },
  {
   "cell_type": "code",
   "execution_count": null,
   "id": "07c7d915-7150-49fb-9b0f-46380e68f785",
   "metadata": {},
   "outputs": [],
   "source": [
    "!pip install colorcet ebrains_drive ipywidgets mne==0.24.1 pythreejs pyvista tvb-library tvb-data"
   ]
  },
  {
   "cell_type": "code",
   "execution_count": null,
   "id": "8a573eac-c0c7-4d8b-93cd-0a4ecb2b37eb",
   "metadata": {},
   "outputs": [],
   "source": [
    "import sys\n",
    "sys.path.append(\"/opt/app-root/src/shared/TVB Widgets/REPO/tvb-widgets\")"
   ]
  },
  {
   "cell_type": "markdown",
   "id": "fecee8c5-7bf5-4ba7-87b0-5a19ba9ddb34",
   "metadata": {},
   "source": [
    "---"
   ]
  },
  {
   "cell_type": "markdown",
   "id": "950dfbda-5946-41a3-b55f-d595b1abfa44",
   "metadata": {},
   "source": [
    "### Build the sidget and add datatypes to be displayed"
   ]
  },
  {
   "cell_type": "code",
   "execution_count": 1,
   "id": "ce1b2137-8173-4ad5-a06d-69a94b2f109e",
   "metadata": {},
   "outputs": [
    {
     "name": "stdout",
     "output_type": "stream",
     "text": [
      "12-04-2022 03:09:46 - DEBUG - tvbwidgets - Package is not fully installed\n",
      "/Users/lia.domide/WORK/TVB/tvb-widgets\n",
      "12-04-2022 03:09:46 - DEBUG - tvbwidgets - Version read from the internal package.json file\n",
      "12-04-2022 03:09:46 - INFO - tvbwidgets - Version: 0.2.0\n"
     ]
    },
    {
     "name": "stderr",
     "output_type": "stream",
     "text": [
      "/Library/Anaconda/anaconda3/envs/tvb-widgets/lib/python3.9/site-packages/tvb/datatypes/surfaces.py:63: UserWarning: Geodesic distance module is unavailable; some functionality for surfaces will be unavailable.\n",
      "  warnings.warn(msg)\n"
     ]
    }
   ],
   "source": [
    "from tvbwidgets.api import SurfaceWidget, SurfaceWidgetConfig\n",
    "from tvb.simulator.lab import *\n",
    "from IPython.core.display_functions import display"
   ]
  },
  {
   "cell_type": "code",
   "execution_count": 2,
   "id": "2bfd8e45-cfe1-44f4-b934-823716e27fad",
   "metadata": {},
   "outputs": [
    {
     "name": "stderr",
     "output_type": "stream",
     "text": [
      "/Library/Anaconda/anaconda3/envs/tvb-widgets/lib/python3.9/site-packages/tvb/basic/readers.py:126: UserWarning: loadtxt: Empty input file: \"<zipfile.ZipExtFile name='vertex_normals.txt' mode='r' compress_type=deflate>\"\n",
      "  array_result = numpy.loadtxt(file_stream, dtype=dtype, skiprows=skip_rows, usecols=use_cols)\n"
     ]
    },
    {
     "name": "stdout",
     "output_type": "stream",
     "text": [
      "WARNING  File 'hemispheres' not found in ZIP.\n"
     ]
    }
   ],
   "source": [
    "surface = surfaces.Surface.from_file()\n",
    "surface.configure()\n",
    "\n",
    "face = surfaces.Surface.from_file('face_8614.zip')\n",
    "face.configure()\n",
    "\n",
    "reg_map = region_mapping.RegionMapping.from_file()\n",
    "\n",
    "conn = connectivity.Connectivity.from_file()\n",
    "conn.configure()\n",
    "\n",
    "seeg = sensors.SensorsInternal.from_file()\n",
    "seeg.configure()"
   ]
  },
  {
   "cell_type": "code",
   "execution_count": 3,
   "id": "aa76e23c-bc9e-4bdf-bd83-e68487b0aa28",
   "metadata": {},
   "outputs": [
    {
     "data": {
      "application/vnd.jupyter.widget-view+json": {
       "model_id": "620c2543efd7417585db03aa483b14bd",
       "version_major": 2,
       "version_minor": 0
      },
      "text/plain": [
       "SurfaceWidget(children=(VBox(children=(Label(value='Display controls: '), Checkbox(value=True, description='To…"
      ]
     },
     "metadata": {},
     "output_type": "display_data"
    }
   ],
   "source": [
    "wid = SurfaceWidget([face])\n",
    "display(wid)"
   ]
  },
  {
   "cell_type": "code",
   "execution_count": null,
   "id": "1493cd7b-71e2-4a34-9364-7ffaed368acb",
   "metadata": {},
   "outputs": [],
   "source": [
    "config = SurfaceWidgetConfig(name='Cortex')\n",
    "config.add_region_mapping_as_cmap(reg_map)\n",
    "config.__dict__"
   ]
  },
  {
   "cell_type": "code",
   "execution_count": null,
   "id": "fad7a0df-ffe2-4c94-b0f4-a1e828d34b50",
   "metadata": {},
   "outputs": [],
   "source": [
    "wid.add_datatype(surface, config)"
   ]
  },
  {
   "cell_type": "code",
   "execution_count": null,
   "id": "9b97202b-1413-4d34-98c2-250eb7a0bfdf",
   "metadata": {},
   "outputs": [],
   "source": [
    "wid.add_datatype(seeg)"
   ]
  },
  {
   "cell_type": "code",
   "execution_count": null,
   "id": "8dfeec2a-8cc6-46be-9a7b-f46fd7787df2",
   "metadata": {},
   "outputs": [],
   "source": [
    "wid.add_datatype(conn)"
   ]
  },
  {
   "cell_type": "code",
   "execution_count": null,
   "id": "ce09b5c2-043e-4207-9048-effcf044b394",
   "metadata": {},
   "outputs": [],
   "source": [
    "wid.add_datatype(reg_map)"
   ]
  }
 ],
 "metadata": {
  "kernelspec": {
   "display_name": "Python 3",
   "language": "python",
   "name": "python3"
  },
  "language_info": {
   "codemirror_mode": {
    "name": "ipython",
    "version": 3
   },
   "file_extension": ".py",
   "mimetype": "text/x-python",
   "name": "python",
   "nbconvert_exporter": "python",
   "pygments_lexer": "ipython3",
   "version": "3.9.10"
  }
 },
 "nbformat": 4,
 "nbformat_minor": 5
}
