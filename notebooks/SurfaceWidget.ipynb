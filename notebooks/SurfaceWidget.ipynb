{
 "cells": [
  {
   "cell_type": "markdown",
   "id": "20fa012f-9125-453e-825a-a115d158ad69",
   "metadata": {},
   "source": [
    "## Demonstrate how tvb-widgets Surface Widget works"
   ]
  },
  {
   "cell_type": "markdown",
   "id": "8b23f150-fe11-420e-9115-764a4d78060e",
   "metadata": {},
   "source": [
    "#### Next 2 cells only when running in EBRAINS dev mode (before release)"
   ]
  },
  {
   "cell_type": "code",
   "execution_count": null,
   "id": "6d707073-cfb4-4015-9b0c-27510b329ce7",
   "metadata": {},
   "outputs": [],
   "source": [
    "!pip install colorcet ebrains_drive ipywidgets mne==0.24.1 pythreejs pyvista tvb-library tvb-data"
   ]
  },
  {
   "cell_type": "code",
   "execution_count": null,
   "id": "f36f5597-9bbf-40d3-9476-50c032c96d82",
   "metadata": {},
   "outputs": [],
   "source": [
    "import sys\n",
    "sys.path.append(\"/opt/app-root/src/shared/TVB Widgets/REPO/tvb-widgets\")"
   ]
  },
  {
   "cell_type": "markdown",
   "id": "18cc394a-0f93-46cf-bd16-26f439bc9190",
   "metadata": {},
   "source": [
    "---"
   ]
  },
  {
   "cell_type": "markdown",
   "id": "8169e684-50c0-458e-aade-6c01a18a1c48",
   "metadata": {},
   "source": [
    "### Loading data from GUI"
   ]
  },
  {
   "cell_type": "code",
   "execution_count": null,
   "id": "30dceb75-9940-4d80-8c3a-f134748411b9",
   "metadata": {},
   "outputs": [],
   "source": [
    "from tvbwidgets.api import SurfaceWidget\n",
    "from IPython.core.display_functions import display"
   ]
  },
  {
   "cell_type": "code",
   "execution_count": 4,
   "id": "1c87fc03-f843-49f6-9a93-f87041818bf0",
   "metadata": {},
   "outputs": [],
   "source": [
    "### Provide token if running outside EBRAINS Lab\n",
    "# import os\n",
    "# os.environ['CLB_AUTH']=''"
   ]
  },
  {
   "cell_type": "code",
   "execution_count": null,
   "id": "1f5768a2-d390-4ad8-8780-cee90c047fd5",
   "metadata": {},
   "outputs": [],
   "source": [
    "wid = SurfaceWidget()\n",
    "display(wid)"
   ]
  },
  {
   "cell_type": "markdown",
   "id": "ac465799-bef4-4e33-812c-8856e7809787",
   "metadata": {},
   "source": [
    "---"
   ]
  },
  {
   "cell_type": "markdown",
   "id": "37f76c9c-d01a-4db1-8c09-53ab547192d5",
   "metadata": {},
   "source": [
    "### Loading data with command line interface"
   ]
  },
  {
   "cell_type": "markdown",
   "id": "03756dad-8b92-453d-9f5c-9251d9b14388",
   "metadata": {},
   "source": [
    "#### Build the sidget and add datatypes to be displayed"
   ]
  },
  {
   "cell_type": "code",
   "execution_count": null,
   "id": "4675abde-4b90-4931-be0a-645ea3a81003",
   "metadata": {},
   "outputs": [],
   "source": [
    "from tvbwidgets.api import SurfaceWidgetBase, SurfaceWidgetConfig\n",
    "from tvb.simulator.lab import *\n",
    "from IPython.core.display_functions import display"
   ]
  },
  {
   "cell_type": "code",
   "execution_count": 2,
   "id": "2bfd8e45-cfe1-44f4-b934-823716e27fad",
   "metadata": {},
   "outputs": [
    {
     "name": "stderr",
     "output_type": "stream",
     "text": [
      "/Users/pipeline/WORK/TVB_GIT/tvb-root/scientific_library/tvb/basic/readers.py:126: UserWarning: loadtxt: Empty input file: \"<zipfile.ZipExtFile name='vertex_normals.txt' mode='r' compress_type=deflate>\"\n",
      "  array_result = numpy.loadtxt(file_stream, dtype=dtype, skiprows=skip_rows, usecols=use_cols)\n"
     ]
    },
    {
     "name": "stdout",
     "output_type": "stream",
     "text": [
      "WARNING  File 'hemispheres' not found in ZIP.\n"
     ]
    }
   ],
   "source": [
    "surface = surfaces.Surface.from_file()\n",
    "surface.configure()\n",
    "\n",
    "face = surfaces.Surface.from_file('face_8614.zip')\n",
    "face.configure()\n",
    "\n",
    "reg_map = region_mapping.RegionMapping.from_file()\n",
    "\n",
    "conn = connectivity.Connectivity.from_file()\n",
    "conn.configure()\n",
    "\n",
    "seeg = sensors.SensorsInternal.from_file()\n",
    "seeg.configure()"
   ]
  },
  {
   "cell_type": "code",
   "execution_count": 4,
   "id": "aa76e23c-bc9e-4bdf-bd83-e68487b0aa28",
   "metadata": {},
   "outputs": [],
   "source": [
    "wid = SurfaceWidgetBase([face])"
   ]
  },
  {
   "cell_type": "code",
   "execution_count": 5,
   "id": "0b6c41e9-8a03-4996-929f-3ebbafadcc49",
   "metadata": {},
   "outputs": [
    {
     "data": {
      "application/vnd.jupyter.widget-view+json": {
       "model_id": "762ec6312aa14770985673bc70d0171f",
       "version_major": 2,
       "version_minor": 0
      },
      "text/plain": [
       "SurfaceWidgetBase(children=(Accordion(children=(VBox(children=(Checkbox(value=True, description='Toggle Surfac…"
      ]
     },
     "metadata": {},
     "output_type": "display_data"
    }
   ],
   "source": [
    "display(wid)"
   ]
  },
  {
   "cell_type": "code",
   "execution_count": 6,
   "id": "1493cd7b-71e2-4a34-9364-7ffaed368acb",
   "metadata": {},
   "outputs": [],
   "source": [
    "config = SurfaceWidgetConfig(name='Cortex')\n",
    "config.add_region_mapping_as_cmap(reg_map)"
   ]
  },
  {
   "cell_type": "code",
   "execution_count": 7,
   "id": "000e4e2c-b7b4-48b7-9f5b-bcc85cac5f40",
   "metadata": {},
   "outputs": [
    {
     "data": {
      "text/plain": [
       "{'name': 'Cortex',\n",
       " 'style': 'Surface',\n",
       " 'color': 'White',\n",
       " 'light': True,\n",
       " 'size': 1500,\n",
       " 'cmap': 'fire',\n",
       " 'scalars': array([36, 36, 36, ..., 68, 67, 68]),\n",
       " 'widget': None}"
      ]
     },
     "execution_count": 7,
     "metadata": {},
     "output_type": "execute_result"
    }
   ],
   "source": [
    "config.__dict__"
   ]
  },
  {
   "cell_type": "code",
   "execution_count": 8,
   "id": "fad7a0df-ffe2-4c94-b0f4-a1e828d34b50",
   "metadata": {},
   "outputs": [],
   "source": [
    "wid.add_datatype(surface, config)"
   ]
  },
  {
   "cell_type": "code",
   "execution_count": 9,
   "id": "9b97202b-1413-4d34-98c2-250eb7a0bfdf",
   "metadata": {},
   "outputs": [],
   "source": [
    "wid.add_datatype(seeg)"
   ]
  },
  {
   "cell_type": "code",
   "execution_count": 10,
   "id": "8dfeec2a-8cc6-46be-9a7b-f46fd7787df2",
   "metadata": {},
   "outputs": [],
   "source": [
    "wid.add_datatype(conn)"
   ]
  },
  {
   "cell_type": "code",
   "execution_count": 11,
   "id": "ce09b5c2-043e-4207-9048-effcf044b394",
   "metadata": {},
   "outputs": [
    {
     "name": "stdout",
     "output_type": "stream",
     "text": [
      "14-04-2022 04:50:44 - INFO - tvbwidgets.ui.surface_widget - RegionMapping should be given as cmap in the config parameter!\n"
     ]
    }
   ],
   "source": [
    "wid.add_datatype(reg_map)"
   ]
  },
  {
   "cell_type": "code",
   "execution_count": null,
   "id": "64a28aa8-7b21-4c28-9bf3-ff1d82d2ded7",
   "metadata": {},
   "outputs": [],
   "source": []
  }
 ],
 "metadata": {
  "kernelspec": {
   "display_name": "Python 3 (ipykernel)",
   "language": "python",
   "name": "python3"
  },
  "language_info": {
   "codemirror_mode": {
    "name": "ipython",
    "version": 3
   },
   "file_extension": ".py",
   "mimetype": "text/x-python",
   "name": "python",
   "nbconvert_exporter": "python",
   "pygments_lexer": "ipython3",
   "version": "3.8.13"
  }
 },
 "nbformat": 4,
 "nbformat_minor": 5
}
