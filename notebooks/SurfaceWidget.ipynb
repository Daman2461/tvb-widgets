{
 "cells": [
  {
   "cell_type": "code",
   "execution_count": 2,
   "id": "ea32325b-f1c4-4e78-b893-b1fc5c36cd1b",
   "metadata": {},
   "outputs": [],
   "source": [
    "from tvbwidgets.api import SurfaceWidget, SurfaceWidgetConfig\n",
    "from tvb.simulator.lab import *\n",
    "from IPython.core.display_functions import display"
   ]
  },
  {
   "cell_type": "code",
   "execution_count": 3,
   "id": "2bfd8e45-cfe1-44f4-b934-823716e27fad",
   "metadata": {},
   "outputs": [
    {
     "name": "stderr",
     "output_type": "stream",
     "text": [
      "/Users/pipeline/anaconda/anaconda3/envs/3dplots/lib/python3.10/site-packages/tvb/basic/readers.py:126: UserWarning: loadtxt: Empty input file: \"<zipfile.ZipExtFile name='vertex_normals.txt' mode='r' compress_type=deflate>\"\n",
      "  array_result = numpy.loadtxt(file_stream, dtype=dtype, skiprows=skip_rows, usecols=use_cols)\n"
     ]
    },
    {
     "name": "stdout",
     "output_type": "stream",
     "text": [
      "WARNING  File 'hemispheres' not found in ZIP.\n"
     ]
    }
   ],
   "source": [
    "surface = surfaces.Surface.from_file()\n",
    "surface.configure()\n",
    "\n",
    "face = surfaces.Surface.from_file('face_8614.zip')\n",
    "face.configure()\n",
    "\n",
    "reg_map = region_mapping.RegionMapping.from_file()\n",
    "\n",
    "conn = connectivity.Connectivity.from_file()\n",
    "conn.configure()\n",
    "\n",
    "seeg = sensors.SensorsInternal.from_file()\n",
    "seeg.configure()"
   ]
  },
  {
   "cell_type": "code",
   "execution_count": 4,
   "id": "aa76e23c-bc9e-4bdf-bd83-e68487b0aa28",
   "metadata": {},
   "outputs": [],
   "source": [
    "wid = SurfaceWidget([face])"
   ]
  },
  {
   "cell_type": "code",
   "execution_count": 5,
   "id": "0b6c41e9-8a03-4996-929f-3ebbafadcc49",
   "metadata": {},
   "outputs": [
    {
     "data": {
      "application/vnd.jupyter.widget-view+json": {
       "model_id": "0227e8ca42254508bc5bcce616b95653",
       "version_major": 2,
       "version_minor": 0
      },
      "text/plain": [
       "SurfaceWidget(children=(VBox(children=(Label(value='Display controls: '), Checkbox(value=True, description='To…"
      ]
     },
     "metadata": {},
     "output_type": "display_data"
    }
   ],
   "source": [
    "display(wid)"
   ]
  },
  {
   "cell_type": "code",
   "execution_count": 6,
   "id": "1493cd7b-71e2-4a34-9364-7ffaed368acb",
   "metadata": {},
   "outputs": [],
   "source": [
    "config = SurfaceWidgetConfig(name='Cortex')\n",
    "config.add_region_mapping_as_cmap(reg_map)"
   ]
  },
  {
   "cell_type": "code",
   "execution_count": 7,
   "id": "000e4e2c-b7b4-48b7-9f5b-bcc85cac5f40",
   "metadata": {},
   "outputs": [
    {
     "data": {
      "text/plain": [
       "{'name': 'Cortex',\n",
       " 'style': 'Surface',\n",
       " 'color': 'White',\n",
       " 'light': True,\n",
       " 'size': 1500,\n",
       " 'cmap': 'fire',\n",
       " 'scalars': array([36, 36, 36, ..., 68, 67, 68])}"
      ]
     },
     "execution_count": 7,
     "metadata": {},
     "output_type": "execute_result"
    }
   ],
   "source": [
    "config.__dict__"
   ]
  },
  {
   "cell_type": "code",
   "execution_count": 8,
   "id": "fad7a0df-ffe2-4c94-b0f4-a1e828d34b50",
   "metadata": {},
   "outputs": [],
   "source": [
    "wid.add_datatype(surface, config)"
   ]
  },
  {
   "cell_type": "code",
   "execution_count": 9,
   "id": "9b97202b-1413-4d34-98c2-250eb7a0bfdf",
   "metadata": {},
   "outputs": [],
   "source": [
    "wid.add_datatype(seeg)"
   ]
  },
  {
   "cell_type": "code",
   "execution_count": 10,
   "id": "8dfeec2a-8cc6-46be-9a7b-f46fd7787df2",
   "metadata": {},
   "outputs": [],
   "source": [
    "wid.add_datatype(conn)"
   ]
  },
  {
   "cell_type": "code",
   "execution_count": 11,
   "id": "ce09b5c2-043e-4207-9048-effcf044b394",
   "metadata": {},
   "outputs": [
    {
     "name": "stdout",
     "output_type": "stream",
     "text": [
      "01-04-2022 10:00:29 - INFO - tvbwidgets.ui.surface_widget - RegionMapping should be given as cmap in the config parameter!\n",
      "   INFO  RegionMapping should be given as cmap in the config parameter!\n"
     ]
    }
   ],
   "source": [
    "wid.add_datatype(reg_map)"
   ]
  },
  {
   "cell_type": "code",
   "execution_count": null,
   "id": "64a28aa8-7b21-4c28-9bf3-ff1d82d2ded7",
   "metadata": {},
   "outputs": [],
   "source": []
  }
 ],
 "metadata": {
  "kernelspec": {
   "display_name": "Python 3 (ipykernel)",
   "language": "python",
   "name": "python3"
  },
  "language_info": {
   "codemirror_mode": {
    "name": "ipython",
    "version": 3
   },
   "file_extension": ".py",
   "mimetype": "text/x-python",
   "name": "python",
   "nbconvert_exporter": "python",
   "pygments_lexer": "ipython3",
   "version": "3.10.2"
  }
 },
 "nbformat": 4,
 "nbformat_minor": 5
}
