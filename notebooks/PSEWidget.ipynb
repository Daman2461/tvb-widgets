{
 "cells": [
  {
   "cell_type": "markdown",
   "id": "7eafe439",
   "metadata": {
    "pycharm": {
     "name": "#%% md\n"
    }
   },
   "source": [
    "# Demonstrate Parameters Search Exploration (PSE) Widgets"
   ]
  },
  {
   "cell_type": "code",
   "execution_count": null,
   "id": "5b0e28bc",
   "metadata": {
    "collapsed": false,
    "jupyter": {
     "outputs_hidden": false
    },
    "pycharm": {
     "name": "#%%\n"
    }
   },
   "outputs": [],
   "source": [
    "%load_ext autoreload\n",
    "%autoreload 2\n",
    "%matplotlib widget"
   ]
  },
  {
   "cell_type": "markdown",
   "id": "211d660b-0a1e-4dd3-a702-283f6b244400",
   "metadata": {
    "jupyter": {
     "outputs_hidden": false
    },
    "pycharm": {
     "name": "#%%\n"
    }
   },
   "source": [
    "## Visualize in 2D a PSE result"
   ]
  },
  {
   "cell_type": "code",
   "execution_count": null,
   "id": "8127f3f3",
   "metadata": {
    "collapsed": false,
    "jupyter": {
     "outputs_hidden": false
    },
    "pycharm": {
     "name": "#%%\n"
    }
   },
   "outputs": [],
   "source": [
    "from tvbwidgets.api import PSEWidget\n",
    "import numpy as np\n",
    "\n",
    "# PSEWidget(data, x_title, y_title, x_value, y_value, metrics_names)\n",
    "pse = PSEWidget(np.random.rand(5, 50, 50),\"X axis\",\"Y axis\",[0,30,4],[0,30,4], [\"Example_1\",\"Example_2\",\"Example_3\",\"Example_4\",\"Example_5\",])"
   ]
  },
  {
   "cell_type": "code",
   "execution_count": null,
   "id": "cd7ccb88-09f9-42f3-9d9a-78cd446e76b8",
   "metadata": {},
   "outputs": [],
   "source": []
  }
 ],
 "metadata": {
  "kernelspec": {
   "display_name": "Python 3 (ipykernel)",
   "language": "python",
   "name": "python3"
  },
  "language_info": {
   "codemirror_mode": {
    "name": "ipython",
    "version": 3
   },
   "file_extension": ".py",
   "mimetype": "text/x-python",
   "name": "python",
   "nbconvert_exporter": "python",
   "pygments_lexer": "ipython3",
   "version": "3.8.16"
  }
 },
 "nbformat": 4,
 "nbformat_minor": 5
}