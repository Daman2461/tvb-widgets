{
 "cells": [
  {
   "cell_type": "code",
   "execution_count": null,
   "id": "bcfedfcb-6edf-4b22-a1e0-fd5075f264a8",
   "metadata": {},
   "outputs": [],
   "source": [
    "%load_ext autoreload\n",
    "%autoreload 2\n",
    "%matplotlib widget"
   ]
  },
  {
   "cell_type": "code",
   "execution_count": null,
   "id": "73b57d8a-e034-4926-8858-d209bc70426d",
   "metadata": {
    "pycharm": {
     "is_executing": true
    }
   },
   "outputs": [],
   "source": [
    "from tvbwidgets.api import PSEWidget\n",
    "import numpy as np"
   ]
  },
  {
   "cell_type": "code",
   "execution_count": null,
   "id": "e0531717-d112-432b-bb81-764d49c102d5",
   "metadata": {},
   "outputs": [],
   "source": [
    "# PSEWidget(data, x_title, y_title, x_value, y_value, metrics_names)\n",
    "pse = PSEWidget(np.random.rand(5, 50, 50),\"X axis\",\"Y axis\",[0,30,4],[0,30,4], [\"Example_1\",\"Example_2\",\"Example_3\",\"Example_4\",\"Example_5\",])"
   ]
  },
  {
   "cell_type": "code",
   "execution_count": null,
   "id": "cd7ccb88-09f9-42f3-9d9a-78cd446e76b8",
   "metadata": {},
   "outputs": [],
   "source": []
  }
 ],
 "metadata": {
  "kernelspec": {
   "display_name": "Python 3 (ipykernel)",
   "language": "python",
   "name": "python3"
  },
  "language_info": {
   "codemirror_mode": {
    "name": "ipython",
    "version": 3
   },
   "file_extension": ".py",
   "mimetype": "text/x-python",
   "name": "python",
   "nbconvert_exporter": "python",
   "pygments_lexer": "ipython3",
   "version": "3.9.13"
  }
 },
 "nbformat": 4,
 "nbformat_minor": 5
}
