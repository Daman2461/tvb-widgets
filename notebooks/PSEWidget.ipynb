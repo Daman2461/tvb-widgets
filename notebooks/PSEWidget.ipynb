{
 "cells": [
  {
   "cell_type": "code",
   "execution_count": null,
   "id": "de386201-317c-4783-b515-acd2a53ad76e",
   "metadata": {},
   "outputs": [],
   "source": [
    "%pip install --quiet --upgrade pip\n",
    "%pip install --quiet -e ..\n",
    "%pip install tvb-data"
   ]
  },
  {
   "cell_type": "code",
   "execution_count": null,
   "id": "bcfedfcb-6edf-4b22-a1e0-fd5075f264a8",
   "metadata": {},
   "outputs": [],
   "source": [
    "%load_ext autoreload\n",
    "%autoreload 2\n",
    "%matplotlib widget"
   ]
  },
  {
   "cell_type": "code",
   "execution_count": null,
   "id": "73b57d8a-e034-4926-8858-d209bc70426d",
   "metadata": {
    "pycharm": {
     "is_executing": true
    }
   },
   "outputs": [],
   "source": [
    "from tvbwidgets.api import PSEWidget"
   ]
  },
  {
   "cell_type": "code",
   "execution_count": null,
   "id": "e0531717-d112-432b-bb81-764d49c102d5",
   "metadata": {},
   "outputs": [],
   "source": [
    "pse = PSEWidget()"
   ]
  },
  {
   "cell_type": "code",
   "execution_count": null,
   "id": "7972ad2b-723c-4cb5-9a11-54a01cb2123e",
   "metadata": {},
   "outputs": [],
   "source": []
  },
  {
   "cell_type": "code",
   "execution_count": null,
   "id": "e68856c3-6924-4189-87f7-5119ecceb2a7",
   "metadata": {},
   "outputs": [],
   "source": []
  }
 ],
 "metadata": {
  "kernelspec": {
   "display_name": "Python 3 (ipykernel)",
   "language": "python",
   "name": "python3"
  },
  "language_info": {
   "codemirror_mode": {
    "name": "ipython",
    "version": 3
   },
   "file_extension": ".py",
   "mimetype": "text/x-python",
   "name": "python",
   "nbconvert_exporter": "python",
   "pygments_lexer": "ipython3",
   "version": "3.10.8"
  }
 },
 "nbformat": 4,
 "nbformat_minor": 5
}
