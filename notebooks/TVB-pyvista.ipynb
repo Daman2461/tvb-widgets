{
 "cells": [
  {
   "cell_type": "code",
   "execution_count": 1,
   "id": "b05e25c9-4ad0-4dcd-a59f-ca73828e9887",
   "metadata": {},
   "outputs": [
    {
     "name": "stdout",
     "output_type": "stream",
     "text": [
      "2022-03-15 16:50:48,256 - WARNING - tvb.simulator.common - psutil module not available: no warnings will be issued when a\n",
      "    simulation may require more memory than available\n",
      "   INFO  log level set to INFO\n"
     ]
    },
    {
     "name": "stderr",
     "output_type": "stream",
     "text": [
      "/Users/pipeline/anaconda/anaconda3/envs/3dplots/lib/python3.10/site-packages/tvb/datatypes/surfaces.py:63: UserWarning: Geodesic distance module is unavailable; some functionality for surfaces will be unavailable.\n",
      "  warnings.warn(msg)\n"
     ]
    }
   ],
   "source": [
    "from tvb.simulator.lab import *\n",
    "import pyvista as pv\n",
    "import numpy"
   ]
  },
  {
   "cell_type": "code",
   "execution_count": 2,
   "id": "e272a469-4234-4826-9a21-cd2b57a68140",
   "metadata": {},
   "outputs": [
    {
     "data": {
      "text/html": [
       "<table>\n",
       "<h3>Surface</h3>\n",
       "<thead><tr><th></th><th style=\"text-align:left;width:40%\">value</th></tr></thead>\n",
       "<tbody>\n",
       "<tr><td>Edge lengths, longest (mm)</td><td style=\"text-align:left;\"><pre>7.756718245437372</pre></td>\n",
       "<tr><td>Edge lengths, mean (mm)</td><td style=\"text-align:left;\"><pre>3.9760529287149735</pre></td>\n",
       "<tr><td>Edge lengths, shortest (mm)</td><td style=\"text-align:left;\"><pre>0.6638077082371072</pre></td>\n",
       "<tr><td>Has two hemispheres</td><td style=\"text-align:left;\"><pre>False</pre></td>\n",
       "<tr><td>Number of edges</td><td style=\"text-align:left;\"><pre>49140</pre></td>\n",
       "<tr><td>Number of triangles</td><td style=\"text-align:left;\"><pre>32760</pre></td>\n",
       "<tr><td>Number of vertices</td><td style=\"text-align:left;\"><pre>16384</pre></td>\n",
       "<tr><td>Surface type</td><td style=\"text-align:left;\"><pre>Surface</pre></td>\n",
       "<tr><td>Valid for simulations</td><td style=\"text-align:left;\"><pre>True</pre></td>\n",
       "</tbody></table>"
      ],
      "text/plain": [
       "<tvb.datatypes.surfaces.Surface at 0x1685eb040>"
      ]
     },
     "execution_count": 2,
     "metadata": {},
     "output_type": "execute_result"
    }
   ],
   "source": [
    "surface = surfaces.Surface.from_file()\n",
    "surface.configure()\n",
    "surface"
   ]
  },
  {
   "cell_type": "code",
   "execution_count": 3,
   "id": "21623c22-fd73-416f-9739-ef910964f628",
   "metadata": {},
   "outputs": [
    {
     "name": "stderr",
     "output_type": "stream",
     "text": [
      "/Users/pipeline/anaconda/anaconda3/envs/3dplots/lib/python3.10/site-packages/tvb/basic/readers.py:126: UserWarning: loadtxt: Empty input file: \"<zipfile.ZipExtFile name='vertex_normals.txt' mode='r' compress_type=deflate>\"\n",
      "  array_result = numpy.loadtxt(file_stream, dtype=dtype, skiprows=skip_rows, usecols=use_cols)\n"
     ]
    },
    {
     "data": {
      "text/html": [
       "<table>\n",
       "<h3>Surface</h3>\n",
       "<thead><tr><th></th><th style=\"text-align:left;width:40%\">value</th></tr></thead>\n",
       "<tbody>\n",
       "<tr><td>Edge lengths, longest (mm)</td><td style=\"text-align:left;\"><pre>42.14195029157075</pre></td>\n",
       "<tr><td>Edge lengths, mean (mm)</td><td style=\"text-align:left;\"><pre>4.253436249785085</pre></td>\n",
       "<tr><td>Edge lengths, shortest (mm)</td><td style=\"text-align:left;\"><pre>0.24686098410440968</pre></td>\n",
       "<tr><td>Has two hemispheres</td><td style=\"text-align:left;\"><pre>False</pre></td>\n",
       "<tr><td>Number of edges</td><td style=\"text-align:left;\"><pre>25836</pre></td>\n",
       "<tr><td>Number of triangles</td><td style=\"text-align:left;\"><pre>17224</pre></td>\n",
       "<tr><td>Number of vertices</td><td style=\"text-align:left;\"><pre>8614</pre></td>\n",
       "<tr><td>Surface type</td><td style=\"text-align:left;\"><pre>Surface</pre></td>\n",
       "<tr><td>Valid for simulations</td><td style=\"text-align:left;\"><pre>True</pre></td>\n",
       "</tbody></table>"
      ],
      "text/plain": [
       "<tvb.datatypes.surfaces.Surface at 0x168650220>"
      ]
     },
     "execution_count": 3,
     "metadata": {},
     "output_type": "execute_result"
    }
   ],
   "source": [
    "face = surfaces.Surface.from_file('face_8614.zip')\n",
    "face.configure()\n",
    "face"
   ]
  },
  {
   "cell_type": "code",
   "execution_count": 4,
   "id": "43f8b273-1a5e-4be9-8f7d-567b61e6fc78",
   "metadata": {},
   "outputs": [
    {
     "data": {
      "text/plain": [
       "array([36, 36, 36, ..., 68, 67, 68])"
      ]
     },
     "execution_count": 4,
     "metadata": {},
     "output_type": "execute_result"
    }
   ],
   "source": [
    "reg_map = region_mapping.RegionMapping.from_file()\n",
    "reg_map.array_data"
   ]
  },
  {
   "cell_type": "code",
   "execution_count": 5,
   "id": "71e0bbce-3b71-4420-9d44-d74dd309af36",
   "metadata": {},
   "outputs": [
    {
     "name": "stdout",
     "output_type": "stream",
     "text": [
      "WARNING  File 'hemispheres' not found in ZIP.\n"
     ]
    },
    {
     "data": {
      "text/html": [
       "<table>\n",
       "<h3>Connectivity</h3>\n",
       "<thead><tr><th></th><th style=\"text-align:left;width:40%\">value</th></tr></thead>\n",
       "<tbody>\n",
       "<tr><td>Number of connections</td><td style=\"text-align:left;\"><pre>1560</pre></td>\n",
       "<tr><td>Number of regions</td><td style=\"text-align:left;\"><pre>76</pre></td>\n",
       "<tr><td>Undirected</td><td style=\"text-align:left;\"><pre>False</pre></td>\n",
       "<tr><td>areas [min, median, max]</td><td style=\"text-align:left;\"><pre>[0, 2580.89, 10338.2]</pre></td>\n",
       "<tr><td>areas dtype</td><td style=\"text-align:left;\"><pre>float64</pre></td>\n",
       "<tr><td>areas shape</td><td style=\"text-align:left;\"><pre>(76,)</pre></td>\n",
       "<tr><td>tract_lengths (connections) [min, median, max]</td><td style=\"text-align:left;\"><pre>[0, 55.8574, 138.454]</pre></td>\n",
       "<tr><td>tract_lengths [min, median, max]</td><td style=\"text-align:left;\"><pre>[0, 71.6635, 153.486]</pre></td>\n",
       "<tr><td>tract_lengths-non-zero [min, median, max]</td><td style=\"text-align:left;\"><pre>[4.93328, 74.0646, 153.486]</pre></td>\n",
       "<tr><td>weights [min, median, max]</td><td style=\"text-align:left;\"><pre>[0, 0, 3]</pre></td>\n",
       "<tr><td>weights dtype</td><td style=\"text-align:left;\"><pre>float64</pre></td>\n",
       "<tr><td>weights shape</td><td style=\"text-align:left;\"><pre>(76, 76)</pre></td>\n",
       "<tr><td>weights-non-zero [min, median, max]</td><td style=\"text-align:left;\"><pre>[0.00462632, 2, 3]</pre></td>\n",
       "</tbody></table>"
      ],
      "text/plain": [
       "<tvb.datatypes.connectivity.Connectivity at 0x1685eada0>"
      ]
     },
     "execution_count": 5,
     "metadata": {},
     "output_type": "execute_result"
    }
   ],
   "source": [
    "conn = connectivity.Connectivity.from_file()\n",
    "conn.configure()\n",
    "conn"
   ]
  },
  {
   "cell_type": "code",
   "execution_count": 6,
   "id": "5fe81ff2-17cd-4db0-a6a5-faabaa9db12d",
   "metadata": {},
   "outputs": [
    {
     "data": {
      "text/html": [
       "<table>\n",
       "<h3>SensorsInternal</h3>\n",
       "<thead><tr><th></th><th style=\"text-align:left;width:40%\">value</th></tr></thead>\n",
       "<tbody>\n",
       "<tr><td>Number of Sensors</td><td style=\"text-align:left;\"><pre>103</pre></td>\n",
       "<tr><td>Sensor type</td><td style=\"text-align:left;\"><pre>Internal</pre></td>\n",
       "</tbody></table>"
      ],
      "text/plain": [
       "<tvb.datatypes.sensors.SensorsInternal at 0x1685eb0d0>"
      ]
     },
     "execution_count": 6,
     "metadata": {},
     "output_type": "execute_result"
    }
   ],
   "source": [
    "seeg = sensors.SensorsInternal.from_file()\n",
    "seeg.configure()\n",
    "seeg"
   ]
  },
  {
   "cell_type": "code",
   "execution_count": 7,
   "id": "db9abf83-4628-495f-a479-6b4cb8ea97db",
   "metadata": {},
   "outputs": [],
   "source": [
    "# ! pip install ipygany"
   ]
  },
  {
   "cell_type": "code",
   "execution_count": 8,
   "id": "4547a46b-2989-4e78-b215-ba3755fe73a3",
   "metadata": {},
   "outputs": [],
   "source": [
    "pv.set_jupyter_backend('ipyvtklink')"
   ]
  },
  {
   "cell_type": "code",
   "execution_count": 9,
   "id": "511bd398-736c-4614-9a73-fbdd559bbaad",
   "metadata": {},
   "outputs": [],
   "source": [
    "a = numpy.full((surface.triangles.shape[0], 1), 3, dtype=int)\n",
    "faces = numpy.hstack((a, surface.triangles))\n",
    "\n",
    "mesh = pv.PolyData(surface.vertices, faces)"
   ]
  },
  {
   "cell_type": "code",
   "execution_count": 10,
   "id": "7b4e5967-379c-4760-8066-4c88ca55cde5",
   "metadata": {},
   "outputs": [],
   "source": [
    "a = numpy.full((face.triangles.shape[0], 1), 3, dtype=int)\n",
    "faces = numpy.hstack((a, face.triangles))\n",
    "\n",
    "face_mesh = pv.PolyData(face.vertices, faces)"
   ]
  },
  {
   "cell_type": "code",
   "execution_count": 11,
   "id": "8ed46749-7f4d-40f2-b1e9-c893f137af08",
   "metadata": {},
   "outputs": [],
   "source": [
    "# !pip install colorcet panel ipygany"
   ]
  },
  {
   "cell_type": "code",
   "execution_count": 12,
   "id": "54d50e49-212a-45c1-a098-983ebfd61f36",
   "metadata": {},
   "outputs": [],
   "source": [
    "import ipywidgets"
   ]
  },
  {
   "cell_type": "code",
   "execution_count": 36,
   "id": "47631bab-b045-4ced-9dcd-e936b172ebf4",
   "metadata": {},
   "outputs": [],
   "source": [
    "plotter = pv.Plotter()\n",
    "\n",
    "# plotter.add_mesh(mesh, style='wireframe', scalars=reg_map.array_data, cmap=\"fire\", lighting=True)\n",
    "actor_face = plotter.add_mesh(face_mesh, name='Face', style='surface', color='white', lighting=True, opacity=0.2)\n",
    "actor_mesh = plotter.add_mesh(mesh, name='Cortex', style='surface', color='pink', lighting=True)\n",
    "\n",
    "\n",
    "\n",
    "# pc = pv.PolyData(seeg.locations)\n",
    "# pc['scalars'] = numpy.random.random(100)\n",
    "# pc.plot(jupyter_backend='pythreejs', style='points', point_size=500, cmap='jet')\n",
    "\n",
    "actor_seeg = plotter.add_points(seeg.locations, name='SEEG', color='blue', point_size=20, render_points_as_spheres=True)\n",
    "plotter.camera.zoom(2)\n",
    "\n",
    "# plotter.show(auto_close=True)\n",
    "# plotter.show(interactive_update=True)"
   ]
  },
  {
   "cell_type": "code",
   "execution_count": 37,
   "id": "7c3b1f89-8850-43fa-bc7d-8ce56de23f6e",
   "metadata": {},
   "outputs": [],
   "source": [
    "def toggle_surface(change):\n",
    "    a=change.type\n",
    "    b=change.new\n",
    "    if change.type == 'change':\n",
    "        if change.new is True:\n",
    "            plotter.add_actor(actor_face)\n",
    "            # plotter.add_mesh(face_mesh)\n",
    "            # plotter.update()\n",
    "        # actor = list(plotter.renderer.actors.values())[1]\n",
    "        else:\n",
    "            # plotter.remove_actor(actor_face)\n",
    "            plotter.renderer.remove_actor(actor_face, render=False)\n",
    "            # actor = list(plotter.renderer.actors.values())[1]\n",
    "            # plotter.renderer.remove_actor(actor)\n",
    "    # with output:\n",
    "    #     plotter.update()\n",
    "        # output.clear_output()\n",
    "        # plotter.update(force_redraw=True)\n",
    "        # output.clear_output()"
   ]
  },
  {
   "cell_type": "code",
   "execution_count": 38,
   "id": "7ec5431f-f8b3-40d1-8df0-e2ff434532e2",
   "metadata": {},
   "outputs": [],
   "source": [
    "output = ipywidgets.Output()\n",
    "\n",
    "actors_to_toggle = {'Face': actor_face, \n",
    "                    'Cortex': actor_mesh, \n",
    "                    'SEEG': actor_seeg}\n",
    "\n",
    "hbox_checkboxes = ipywidgets.VBox()\n",
    "\n",
    "for key, actor in actors_to_toggle.items():\n",
    "    checkbox = ipywidgets.Checkbox(description=\"Toggle \" + key, value=True)\n",
    "    checkbox.observe(toggle_surface, names=['value'])\n",
    "    hbox_checkboxes.children += checkbox,\n",
    "\n",
    "# view_button = ipywidgets.Checkbox(description=\"Toggle face\", value=True)\n",
    "# view_button.observe(toggle_surface, names=['value'])\n",
    "\n",
    "vbox = ipywidgets.HBox([hbox_checkboxes, output])\n",
    "\n",
    "with output:\n",
    "    plotter.show(interactive_update=True, cpos=campos)"
   ]
  },
  {
   "cell_type": "code",
   "execution_count": 39,
   "id": "786c107b-bbf0-488f-82a3-b30d0319d6e6",
   "metadata": {},
   "outputs": [
    {
     "data": {
      "application/vnd.jupyter.widget-view+json": {
       "model_id": "baf67b87f8684437babc4dfbff2f14f3",
       "version_major": 2,
       "version_minor": 0
      },
      "text/plain": [
       "HBox(children=(VBox(children=(Checkbox(value=True, description='Toggle Face'), Checkbox(value=True, descriptio…"
      ]
     },
     "metadata": {},
     "output_type": "display_data"
    }
   ],
   "source": [
    "display(vbox)"
   ]
  },
  {
   "cell_type": "code",
   "execution_count": 27,
   "id": "9cded43c-1414-4fad-a06e-a3ba6ab074b0",
   "metadata": {},
   "outputs": [
    {
     "ename": "RuntimeError",
     "evalue": "This plotter has been closed and cannot be shown.",
     "output_type": "error",
     "traceback": [
      "\u001b[0;31m---------------------------------------------------------------------------\u001b[0m",
      "\u001b[0;31mRuntimeError\u001b[0m                              Traceback (most recent call last)",
      "Input \u001b[0;32mIn [27]\u001b[0m, in \u001b[0;36m<module>\u001b[0;34m\u001b[0m\n\u001b[0;32m----> 1\u001b[0m \u001b[43mplotter\u001b[49m\u001b[38;5;241;43m.\u001b[39;49m\u001b[43mshow\u001b[49m\u001b[43m(\u001b[49m\u001b[43m)\u001b[49m\n",
      "File \u001b[0;32m~/anaconda/anaconda3/envs/3dplots/lib/python3.10/site-packages/pyvista/plotting/plotting.py:4715\u001b[0m, in \u001b[0;36mPlotter.show\u001b[0;34m(self, title, window_size, interactive, auto_close, interactive_update, full_screen, screenshot, return_img, cpos, use_ipyvtk, jupyter_backend, return_viewer, return_cpos, **kwargs)\u001b[0m\n\u001b[1;32m   4712\u001b[0m     \u001b[38;5;28;01mraise\u001b[39;00m DeprecationError(txt)\n\u001b[1;32m   4714\u001b[0m \u001b[38;5;28;01mif\u001b[39;00m \u001b[38;5;129;01mnot\u001b[39;00m \u001b[38;5;28mhasattr\u001b[39m(\u001b[38;5;28mself\u001b[39m, \u001b[38;5;124m\"\u001b[39m\u001b[38;5;124mren_win\u001b[39m\u001b[38;5;124m\"\u001b[39m):\n\u001b[0;32m-> 4715\u001b[0m     \u001b[38;5;28;01mraise\u001b[39;00m \u001b[38;5;167;01mRuntimeError\u001b[39;00m(\u001b[38;5;124m\"\u001b[39m\u001b[38;5;124mThis plotter has been closed and cannot be shown.\u001b[39m\u001b[38;5;124m\"\u001b[39m)\n\u001b[1;32m   4717\u001b[0m \u001b[38;5;28;01mif\u001b[39;00m full_screen \u001b[38;5;129;01mis\u001b[39;00m \u001b[38;5;28;01mNone\u001b[39;00m:\n\u001b[1;32m   4718\u001b[0m     full_screen \u001b[38;5;241m=\u001b[39m \u001b[38;5;28mself\u001b[39m\u001b[38;5;241m.\u001b[39m_theme\u001b[38;5;241m.\u001b[39mfull_screen\n",
      "\u001b[0;31mRuntimeError\u001b[0m: This plotter has been closed and cannot be shown."
     ]
    }
   ],
   "source": [
    "plotter.show()"
   ]
  },
  {
   "cell_type": "code",
   "execution_count": 25,
   "id": "5d017e61-ffad-445e-9f20-4ad244b1ba93",
   "metadata": {},
   "outputs": [
    {
     "data": {
      "text/plain": [
       "[(-3918.8018540573426, 3379.314171540247, 2231.791430199315),\n",
       " (-21.715947, 0.5550595000000058, -49.270957),\n",
       " (0.21422028935440462, -0.3646792916603532, 0.9061559920140783)]"
      ]
     },
     "execution_count": 25,
     "metadata": {},
     "output_type": "execute_result"
    }
   ],
   "source": [
    "plotter.camera_position"
   ]
  },
  {
   "cell_type": "code",
   "execution_count": 21,
   "id": "d17f5586-2f66-4e68-b471-4a0e72d75a1d",
   "metadata": {},
   "outputs": [],
   "source": [
    "campos=plotter.camera_position"
   ]
  },
  {
   "cell_type": "code",
   "execution_count": 34,
   "id": "3bae51b1-eccc-4ee9-85bc-39f27b5e9a5f",
   "metadata": {},
   "outputs": [
    {
     "ename": "AttributeError",
     "evalue": "'Renderer' object has no attribute 'update'",
     "output_type": "error",
     "traceback": [
      "\u001b[0;31m---------------------------------------------------------------------------\u001b[0m",
      "\u001b[0;31mAttributeError\u001b[0m                            Traceback (most recent call last)",
      "Input \u001b[0;32mIn [34]\u001b[0m, in \u001b[0;36m<module>\u001b[0;34m\u001b[0m\n\u001b[1;32m      1\u001b[0m actor \u001b[38;5;241m=\u001b[39m \u001b[38;5;28mlist\u001b[39m(plotter\u001b[38;5;241m.\u001b[39mrenderer\u001b[38;5;241m.\u001b[39mactors\u001b[38;5;241m.\u001b[39mvalues())[\u001b[38;5;241m0\u001b[39m]\n\u001b[1;32m      2\u001b[0m plotter\u001b[38;5;241m.\u001b[39mrenderer\u001b[38;5;241m.\u001b[39mremove_actor(actor, render\u001b[38;5;241m=\u001b[39m\u001b[38;5;28;01mTrue\u001b[39;00m)\n\u001b[0;32m----> 3\u001b[0m \u001b[43mviewer\u001b[49m\u001b[38;5;241;43m.\u001b[39;49m\u001b[43mupdate\u001b[49m()\n",
      "\u001b[0;31mAttributeError\u001b[0m: 'Renderer' object has no attribute 'update'"
     ]
    }
   ],
   "source": [
    "actor = list(plotter.renderer.actors.values())[0]\n",
    "plotter.renderer.remove_actor(actor, render=True)\n",
    "viewer.update()"
   ]
  },
  {
   "cell_type": "code",
   "execution_count": 18,
   "id": "4dcc043b-ce4c-4a65-8736-5df8ddd4c189",
   "metadata": {},
   "outputs": [
    {
     "data": {
      "text/plain": [
       "True"
      ]
     },
     "execution_count": 18,
     "metadata": {},
     "output_type": "execute_result"
    }
   ],
   "source": [
    "actor = list(plotter.renderer.actors.values())[0]\n",
    "plotter.renderer.remove_actor(actor, render=True)\n",
    "plotter.update()"
   ]
  },
  {
   "cell_type": "code",
   "execution_count": 41,
   "id": "b9feb041-1f4c-470b-851a-3b94df56e49a",
   "metadata": {},
   "outputs": [],
   "source": [
    "actor = list(plotter.renderer.actors.values())[0]"
   ]
  },
  {
   "cell_type": "code",
   "execution_count": 40,
   "id": "36cbfeb1-3f78-45c5-84d3-d9aa0bc5be65",
   "metadata": {},
   "outputs": [
    {
     "data": {
      "text/plain": [
       "{'PolyData(Addr=0x6000004d3c40)': <vtkmodules.vtkRenderingOpenGL2.vtkOpenGLActor(0x7fcc13098840) at 0x190ed75e0>,\n",
       " 'PolyData(Addr=0x600000475ec0)': <vtkmodules.vtkRenderingOpenGL2.vtkOpenGLActor(0x7fcc1309bb20) at 0x190ed68c0>,\n",
       " 'PolyData(Addr=0x6000004d3cc0)': <vtkmodules.vtkRenderingOpenGL2.vtkOpenGLActor(0x7fcbf17f2660) at 0x182d83dc0>}"
      ]
     },
     "execution_count": 40,
     "metadata": {},
     "output_type": "execute_result"
    }
   ],
   "source": [
    "renderer = plotter.renderer\n",
    "plotter.renderer.actors"
   ]
  },
  {
   "cell_type": "code",
   "execution_count": null,
   "id": "7bdc2168-c474-4340-b2b2-64f4e865146f",
   "metadata": {},
   "outputs": [],
   "source": [
    "renderer.remove_actor(actor, render=True)"
   ]
  },
  {
   "cell_type": "code",
   "execution_count": 114,
   "id": "3600ebbd-cd18-485d-ad50-a9061642ecf9",
   "metadata": {},
   "outputs": [],
   "source": [
    "# renderer.remove_actor(actor)\n",
    "plotter.add_mesh(face_mesh, style='surface', color='white', lighting=True, opacity=0.2)\n",
    "\n",
    "plotter.update()"
   ]
  },
  {
   "cell_type": "code",
   "execution_count": 36,
   "id": "43cd717e-fad8-49ac-8999-7249b6feaa44",
   "metadata": {
    "tags": []
   },
   "outputs": [
    {
     "data": {
      "application/vnd.jupyter.widget-view+json": {
       "model_id": "b3830426e50447ce964e9631ec004aaa",
       "version_major": 2,
       "version_minor": 0
      },
      "text/plain": [
       "Renderer(camera=PerspectiveCamera(aspect=1.3333333333333333, children=(DirectionalLight(color='#fefefe', inten…"
      ]
     },
     "metadata": {},
     "output_type": "display_data"
    }
   ],
   "source": [
    "pc = pv.PolyData(numpy.random.random((100, 3)))\n",
    "pc['scalars'] = numpy.random.random(100)\n",
    "pc.plot(jupyter_backend='pythreejs', style='points', point_size=30, cmap='jet')"
   ]
  },
  {
   "cell_type": "code",
   "execution_count": null,
   "id": "e1b25bc3-72c7-4ea9-ac92-6253043a07f9",
   "metadata": {},
   "outputs": [],
   "source": []
  },
  {
   "cell_type": "code",
   "execution_count": 13,
   "id": "a07c7d11-30bf-4fa3-9058-7d7d060dbc7d",
   "metadata": {},
   "outputs": [],
   "source": [
    "# plotter.screenshot('points.png')  \n",
    "plotter.close()"
   ]
  },
  {
   "cell_type": "code",
   "execution_count": 19,
   "id": "cfbe6b30-a127-4b65-91d7-0b99b6d69b0f",
   "metadata": {},
   "outputs": [
    {
     "data": {
      "text/plain": [
       "array([[[77, 77, 77],\n",
       "        [77, 77, 77],\n",
       "        [77, 77, 77],\n",
       "        ...,\n",
       "        [77, 77, 77],\n",
       "        [77, 77, 77],\n",
       "        [77, 77, 77]],\n",
       "\n",
       "       [[77, 77, 77],\n",
       "        [77, 77, 77],\n",
       "        [77, 77, 77],\n",
       "        ...,\n",
       "        [77, 77, 77],\n",
       "        [77, 77, 77],\n",
       "        [77, 77, 77]],\n",
       "\n",
       "       [[77, 77, 77],\n",
       "        [77, 77, 77],\n",
       "        [77, 77, 77],\n",
       "        ...,\n",
       "        [77, 77, 77],\n",
       "        [77, 77, 77],\n",
       "        [77, 77, 77]],\n",
       "\n",
       "       ...,\n",
       "\n",
       "       [[77, 77, 77],\n",
       "        [77, 77, 77],\n",
       "        [77, 77, 77],\n",
       "        ...,\n",
       "        [77, 77, 77],\n",
       "        [77, 77, 77],\n",
       "        [77, 77, 77]],\n",
       "\n",
       "       [[77, 77, 77],\n",
       "        [77, 77, 77],\n",
       "        [77, 77, 77],\n",
       "        ...,\n",
       "        [77, 77, 77],\n",
       "        [77, 77, 77],\n",
       "        [77, 77, 77]],\n",
       "\n",
       "       [[77, 77, 77],\n",
       "        [77, 77, 77],\n",
       "        [77, 77, 77],\n",
       "        ...,\n",
       "        [77, 77, 77],\n",
       "        [77, 77, 77],\n",
       "        [77, 77, 77]]], dtype=uint8)"
      ]
     },
     "execution_count": 19,
     "metadata": {},
     "output_type": "execute_result"
    }
   ],
   "source": [
    "plotter = pv.Plotter(off_screen=True)\n",
    "plotter.add_mesh(face_mesh, style='wireframe', color='white', lighting=True)\n",
    "plotter.add_mesh(mesh, style='surface', opacity=0.2, color='pink', lighting=True)\n",
    "\n",
    "\n",
    "plotter.add_points(seeg.locations, color='blue', point_size=20, render_points_as_spheres=True)\n",
    "plotter.camera.zoom(2)\n",
    "plotter.screenshot('overlap_seeg.png')  "
   ]
  },
  {
   "cell_type": "code",
   "execution_count": null,
   "id": "c8928255-9b6c-4a3a-8d59-7343b9ee9ef0",
   "metadata": {},
   "outputs": [],
   "source": []
  },
  {
   "cell_type": "code",
   "execution_count": null,
   "id": "f0637147-4235-4943-9cef-ad6fc57c02ea",
   "metadata": {},
   "outputs": [],
   "source": []
  },
  {
   "cell_type": "code",
   "execution_count": null,
   "id": "1867ec3a-134e-4e93-9f11-f7a63acfe7a0",
   "metadata": {},
   "outputs": [],
   "source": []
  },
  {
   "cell_type": "code",
   "execution_count": 55,
   "id": "4220f29d-398a-400e-8083-1aac79db6b7d",
   "metadata": {},
   "outputs": [
    {
     "name": "stdout",
     "output_type": "stream",
     "text": [
      "Requirement already satisfied: pyvistaqt in /Users/pipeline/anaconda/anaconda3/envs/3dplots/lib/python3.10/site-packages (0.7.0)\n",
      "Collecting PyQt5\n",
      "  Downloading PyQt5-5.15.6-cp36-abi3-macosx_10_13_x86_64.whl (7.0 MB)\n",
      "\u001b[2K     \u001b[90m━━━━━━━━━━━━━━━━━━━━━━━━━━━━━━━━━━━━━━━━\u001b[0m \u001b[32m7.0/7.0 MB\u001b[0m \u001b[31m19.7 MB/s\u001b[0m eta \u001b[36m0:00:00\u001b[0m00:01\u001b[0m00:01\u001b[0m\n",
      "\u001b[?25hRequirement already satisfied: pyvista>=0.25.0 in /Users/pipeline/anaconda/anaconda3/envs/3dplots/lib/python3.10/site-packages (from pyvistaqt) (0.33.3)\n",
      "Requirement already satisfied: QtPy>=1.9.0 in /Users/pipeline/anaconda/anaconda3/envs/3dplots/lib/python3.10/site-packages (from pyvistaqt) (2.0.1)\n",
      "Collecting PyQt5-Qt5>=5.15.2\n",
      "  Downloading PyQt5_Qt5-5.15.2-py3-none-macosx_10_13_intel.whl (40.5 MB)\n",
      "\u001b[2K     \u001b[90m━━━━━━━━━━━━━━━━━━━━━━━━━━━━━━━━━━━━━━━━\u001b[0m \u001b[32m40.5/40.5 MB\u001b[0m \u001b[31m31.9 MB/s\u001b[0m eta \u001b[36m0:00:00\u001b[0m00:01\u001b[0m00:01\u001b[0m\n",
      "\u001b[?25hCollecting PyQt5-sip<13,>=12.8\n",
      "  Downloading PyQt5_sip-12.9.1-cp310-cp310-macosx_10_9_universal2.whl (140 kB)\n",
      "\u001b[2K     \u001b[90m━━━━━━━━━━━━━━━━━━━━━━━━━━━━━━━━━━━━━━━\u001b[0m \u001b[32m140.3/140.3 KB\u001b[0m \u001b[31m6.1 MB/s\u001b[0m eta \u001b[36m0:00:00\u001b[0m\n",
      "\u001b[?25hRequirement already satisfied: pillow in /Users/pipeline/anaconda/anaconda3/envs/3dplots/lib/python3.10/site-packages (from pyvista>=0.25.0->pyvistaqt) (9.0.1)\n",
      "Requirement already satisfied: imageio in /Users/pipeline/anaconda/anaconda3/envs/3dplots/lib/python3.10/site-packages (from pyvista>=0.25.0->pyvistaqt) (2.16.1)\n",
      "Requirement already satisfied: vtk in /Users/pipeline/anaconda/anaconda3/envs/3dplots/lib/python3.10/site-packages (from pyvista>=0.25.0->pyvistaqt) (9.1.0)\n",
      "Requirement already satisfied: numpy in /Users/pipeline/anaconda/anaconda3/envs/3dplots/lib/python3.10/site-packages (from pyvista>=0.25.0->pyvistaqt) (1.21.5)\n",
      "Requirement already satisfied: appdirs in /Users/pipeline/anaconda/anaconda3/envs/3dplots/lib/python3.10/site-packages (from pyvista>=0.25.0->pyvistaqt) (1.4.4)\n",
      "Requirement already satisfied: scooby>=0.5.1 in /Users/pipeline/anaconda/anaconda3/envs/3dplots/lib/python3.10/site-packages (from pyvista>=0.25.0->pyvistaqt) (0.5.11)\n",
      "Requirement already satisfied: packaging in /Users/pipeline/anaconda/anaconda3/envs/3dplots/lib/python3.10/site-packages (from QtPy>=1.9.0->pyvistaqt) (21.3)\n",
      "Requirement already satisfied: pyparsing!=3.0.5,>=2.0.2 in /Users/pipeline/anaconda/anaconda3/envs/3dplots/lib/python3.10/site-packages (from packaging->QtPy>=1.9.0->pyvistaqt) (3.0.7)\n",
      "Installing collected packages: PyQt5-Qt5, PyQt5-sip, PyQt5\n",
      "Successfully installed PyQt5-5.15.6 PyQt5-Qt5-5.15.2 PyQt5-sip-12.9.1\n"
     ]
    }
   ],
   "source": [
    "! pip install pyvistaqt PyQt5"
   ]
  },
  {
   "cell_type": "code",
   "execution_count": 9,
   "id": "e785bf0c-8320-4d66-9f85-3ed3aa7f1190",
   "metadata": {},
   "outputs": [],
   "source": [
    "ts_data = numpy.random.rand(76, 100)\n",
    "\n",
    "# ts = time_series.TimeSeriesRegion(data=ts_data, start_time=0.0, connectivity=conn, region_mapping=reg_map)"
   ]
  },
  {
   "cell_type": "code",
   "execution_count": 10,
   "id": "6e9d5c1e-5c76-4ed7-9c80-1ad99d478747",
   "metadata": {},
   "outputs": [
    {
     "data": {
      "text/plain": [
       "(76,)"
      ]
     },
     "execution_count": 10,
     "metadata": {},
     "output_type": "execute_result"
    }
   ],
   "source": [
    "ts_data[:, 0].shape"
   ]
  },
  {
   "cell_type": "code",
   "execution_count": 11,
   "id": "3d6ece8c-6d70-445b-810a-d2df4d279521",
   "metadata": {},
   "outputs": [],
   "source": [
    "from threading import Thread\n",
    "import time\n",
    "import numpy as np\n",
    "import pyvista as pv\n",
    "import pyvistaqt as pvqt\n",
    "from pyvista import examples\n",
    "\n",
    "\n",
    "cortex = mesh\n",
    "cortex.point_data['ts'] = [ts_data[i, 0] for i in reg_map.array_data]\n",
    "cortex.set_active_scalars('ts')\n",
    "\n",
    "\n",
    "plotter = pvqt.BackgroundPlotter()\n",
    "plotter.add_mesh(cortex, lighting=False, show_edges=True, scalars='ts')\n",
    "plotter.view_isometric()\n",
    "\n",
    "def movie():\n",
    "    for j in range(100):\n",
    "        cortex.point_data['ts'] = [ts_data[i, j] for i in reg_map.array_data]\n",
    "        time.sleep(0.5)\n",
    "\n",
    "thread = Thread(target=movie)\n",
    "thread.start()"
   ]
  },
  {
   "cell_type": "code",
   "execution_count": null,
   "id": "370cdb43-3e39-43ca-9ba5-77e32fb59239",
   "metadata": {},
   "outputs": [],
   "source": []
  },
  {
   "cell_type": "code",
   "execution_count": null,
   "id": "22d4aaa0-5671-4430-9244-2beab736bb5a",
   "metadata": {},
   "outputs": [],
   "source": []
  },
  {
   "cell_type": "code",
   "execution_count": null,
   "id": "be163956-6cb1-48e3-854e-998dcdc7ba43",
   "metadata": {},
   "outputs": [
    {
     "data": {
      "application/vnd.jupyter.widget-view+json": {
       "model_id": "8c6896aa5a05498aa50327f1f6aa7784",
       "version_major": 2,
       "version_minor": 0
      },
      "text/plain": [
       "ViewInteractiveWidget(height=768, layout=Layout(height='auto', width='100%'), width=1024)"
      ]
     },
     "metadata": {},
     "output_type": "display_data"
    }
   ],
   "source": [
    "import numpy as np\n",
    "import pyvista as pv\n",
    "\n",
    "# Creating random data\n",
    "N = 100\n",
    "data = np.zeros((1, N, N))\n",
    "data[:] = np.random.randint(0, 10000, data.shape)\n",
    "\n",
    "# Creating a mesh from our data\n",
    "g = pv.UniformGrid()\n",
    "g.dimensions = np.array(data.shape) + 1\n",
    "g.spacing = (10, 10, 10)\n",
    "g.cell_data['data'] = data.flatten()\n",
    "#Careful with threshold as it will turn your data into UnstructuredGrid\n",
    "#g = g.threshold([0.0001, int(data.max())])\n",
    "\n",
    "# Creating scene and loading the mesh\n",
    "p = pv.Plotter()\n",
    "p.add_mesh(g, opacity=0.5, name='data', cmap='gist_ncar')\n",
    "p.show(interactive_update=True)\n",
    "\n",
    "# Animation\n",
    "for i in range(5, 1000):\n",
    "    # Updating our data\n",
    "    data = np.full((i, N, N),0)\n",
    "    data[:] = np.random.randint(0,1000000, data.shape)\n",
    "    \n",
    "    # Recreating the mesh\n",
    "    g = pv.UniformGrid()\n",
    "    g.dimensions = np.array(data.shape) + 1\n",
    "    g.spacing = (10, 10, 10)\n",
    "    g.cell_data['data'] = data.flatten()\n",
    "\n",
    "    # Reloading the mesh to the scene\n",
    "    p.clear()\n",
    "    p.add_mesh(g, opacity=0.5, name='data')\n",
    "\n",
    "    # Redrawing\n",
    "    p.update()"
   ]
  },
  {
   "cell_type": "code",
   "execution_count": null,
   "id": "88e46bde-0a22-4644-988b-a1703a97fff6",
   "metadata": {},
   "outputs": [],
   "source": [
    "for i in range(5, 1000):\n",
    "    # Updating our data\n",
    "    data = np.full((i, N, N),0)\n",
    "    data[:] = np.random.randint(0,1000000, data.shape)\n",
    "    \n",
    "    # Recreating the mesh\n",
    "    g = pv.UniformGrid()\n",
    "    g.dimensions = np.array(data.shape) + 1\n",
    "    g.spacing = (10, 10, 10)\n",
    "    g.cell_data['data'] = data.flatten()\n",
    "\n",
    "    # Reloading the mesh to the scene\n",
    "    p.clear()\n",
    "    p.add_mesh(g, opacity=0.5, name='data')\n",
    "\n",
    "    # Redrawing\n",
    "    p.update()"
   ]
  },
  {
   "cell_type": "code",
   "execution_count": null,
   "id": "00a5af5e-b429-457a-a317-5d9cb7591701",
   "metadata": {},
   "outputs": [],
   "source": []
  },
  {
   "cell_type": "code",
   "execution_count": null,
   "id": "e3bb3bf9-db40-4865-8299-cd3e4eff55c5",
   "metadata": {},
   "outputs": [],
   "source": []
  },
  {
   "cell_type": "code",
   "execution_count": null,
   "id": "649bcd90-c8d8-4ea7-b877-55ee34b75ef1",
   "metadata": {},
   "outputs": [],
   "source": []
  },
  {
   "cell_type": "code",
   "execution_count": 75,
   "id": "17c9e768-fc5b-44ea-885c-a70aed480b40",
   "metadata": {},
   "outputs": [
    {
     "name": "stdout",
     "output_type": "stream",
     "text": [
      "PVDReader('/Users/pipeline/Library/Application Support/pyvista/examples/wavy/wavy.pvd')\n"
     ]
    }
   ],
   "source": [
    "from pyvista import examples\n",
    "\n",
    "filename = examples.download_wavy(load=False)\n",
    "reader = pv.get_reader(filename)\n",
    "print(reader)\n",
    "\n",
    "plotter = pv.Plotter()\n",
    "# Open a gif\n",
    "plotter.open_gif(\"wave_pvd.gif\")\n",
    "\n",
    "for time_value in reader.time_values:\n",
    "    reader.set_active_time_value(time_value)\n",
    "    mesh = reader.read()[0]  # This dataset only has 1 block\n",
    "    plotter.add_mesh(mesh, scalars='z', show_scalar_bar=False)\n",
    "    plotter.add_text(f\"Time: {time_value:.0f}\", color=\"black\")\n",
    "    plotter.render()\n",
    "    plotter.write_frame()\n",
    "    plotter.clear()\n",
    "\n",
    "plotter.close()\n"
   ]
  },
  {
   "cell_type": "code",
   "execution_count": null,
   "id": "92d30de8-5c2a-4439-a6b0-eabe4304988c",
   "metadata": {},
   "outputs": [],
   "source": []
  }
 ],
 "metadata": {
  "kernelspec": {
   "display_name": "Python 3 (ipykernel)",
   "language": "python",
   "name": "python3"
  },
  "language_info": {
   "codemirror_mode": {
    "name": "ipython",
    "version": 3
   },
   "file_extension": ".py",
   "mimetype": "text/x-python",
   "name": "python",
   "nbconvert_exporter": "python",
   "pygments_lexer": "ipython3",
   "version": "3.10.2"
  }
 },
 "nbformat": 4,
 "nbformat_minor": 5
}
