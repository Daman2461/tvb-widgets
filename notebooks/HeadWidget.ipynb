{
 "cells": [
  {
   "cell_type": "markdown",
   "id": "20fa012f-9125-453e-825a-a115d158ad69",
   "metadata": {},
   "source": [
    "## Demonstrate Head Widget "
   ]
  },
  {
   "cell_type": "markdown",
   "id": "18cc394a-0f93-46cf-bd16-26f439bc9190",
   "metadata": {},
   "source": [
    "---"
   ]
  },
  {
   "cell_type": "markdown",
   "id": "37f76c9c-d01a-4db1-8c09-53ab547192d5",
   "metadata": {},
   "source": [
    "### A. Loading data with command line interface"
   ]
  },
  {
   "cell_type": "markdown",
   "id": "03756dad-8b92-453d-9f5c-9251d9b14388",
   "metadata": {},
   "source": [
    "#### Build the widget and add datatypes to be displayed"
   ]
  },
  {
   "cell_type": "code",
   "execution_count": 1,
   "id": "4675abde-4b90-4931-be0a-645ea3a81003",
   "metadata": {},
   "outputs": [
    {
     "name": "stdout",
     "output_type": "stream",
     "text": [
      "25-08-2023 10:55:57 - DEBUG - tvbwidgets - Package is not fully installed\n",
      "25-08-2023 10:55:57 - DEBUG - tvbwidgets - Version read from the internal package.json file\n",
      "25-08-2023 10:55:57 - INFO - tvbwidgets - Version: 1.5.0\n",
      "2023-08-25 10:56:02,673 - INFO - tvb.storage.h5.encryption.data_encryption_handler - Cannot import syncrypto library.\n",
      "25-08-2023 10:56:02 - INFO - tvbwidgets.core.pse.parameters - ImportError: Dask dependency is not included, so this functionality won't be available\n"
     ]
    }
   ],
   "source": [
    "from tvbwidgets.api import HeadWidget, HeadWidgetConfig\n",
    "from tvb.simulator.lab import *\n",
    "from IPython.core.display_functions import display"
   ]
  },
  {
   "cell_type": "code",
   "execution_count": 2,
   "id": "2bfd8e45-cfe1-44f4-b934-823716e27fad",
   "metadata": {},
   "outputs": [
    {
     "name": "stderr",
     "output_type": "stream",
     "text": [
      "C:\\Users\\david.bacter\\AppData\\Roaming\\Python\\Python310\\site-packages\\tvb\\basic\\readers.py:122: UserWarning: loadtxt: input contained no data: \"<zipfile.ZipExtFile name='vertex_normals.txt' mode='r' compress_type=deflate>\"\n",
      "  array_result = numpy.loadtxt(file_stream, dtype=dtype, skiprows=skip_rows, usecols=use_cols)\n"
     ]
    },
    {
     "name": "stdout",
     "output_type": "stream",
     "text": [
      "2023-08-25 10:56:03,843 - WARNING - tvb.basic.readers - File 'hemispheres' not found in ZIP.\n"
     ]
    }
   ],
   "source": [
    "surface = surfaces.Surface.from_file()\n",
    "surface.configure()\n",
    "\n",
    "face = surfaces.Surface.from_file('face_8614.zip')\n",
    "face.configure()\n",
    "\n",
    "reg_map = region_mapping.RegionMapping.from_file()\n",
    "\n",
    "conn = connectivity.Connectivity.from_file()\n",
    "conn.configure()\n",
    "\n",
    "seeg = sensors.SensorsInternal.from_file()\n",
    "seeg.configure()"
   ]
  },
  {
   "cell_type": "code",
   "execution_count": 3,
   "id": "aa76e23c-bc9e-4bdf-bd83-e68487b0aa28",
   "metadata": {},
   "outputs": [],
   "source": [
    "wid = HeadWidget([face, seeg, conn])"
   ]
  },
  {
   "cell_type": "code",
   "execution_count": 4,
   "id": "fad7a0df-ffe2-4c94-b0f4-a1e828d34b50",
   "metadata": {},
   "outputs": [
    {
     "data": {
      "text/plain": [
       "{'name': 'Cortex',\n",
       " 'style': 'Surface',\n",
       " 'color': 'beige',\n",
       " 'light': True,\n",
       " 'size': 1500,\n",
       " 'cmap': None,\n",
       " 'scalars': None,\n",
       " 'widget': None}"
      ]
     },
     "execution_count": 4,
     "metadata": {},
     "output_type": "execute_result"
    }
   ],
   "source": [
    "config = HeadWidgetConfig(name='Cortex', color='beige')\n",
    "wid.add_datatype(surface, config)\n",
    "config.__dict__"
   ]
  },
  {
   "cell_type": "code",
   "execution_count": 5,
   "id": "0b6c41e9-8a03-4996-929f-3ebbafadcc49",
   "metadata": {},
   "outputs": [
    {
     "data": {
      "application/vnd.jupyter.widget-view+json": {
       "model_id": "72e426c2465540d4ac9b4dcbea84101f",
       "version_major": 2,
       "version_minor": 0
      },
      "text/plain": [
       "HeadWidget(children=(Accordion(children=(VBox(children=(Checkbox(value=True, description='Toggle Surface-8614'…"
      ]
     },
     "metadata": {},
     "output_type": "display_data"
    }
   ],
   "source": [
    "display(wid)"
   ]
  },
  {
   "cell_type": "markdown",
   "id": "10908505-9812-450f-aaab-8a4479aee44b",
   "metadata": {},
   "source": [
    "#### Show region mapping on cortical surface"
   ]
  },
  {
   "cell_type": "code",
   "execution_count": 6,
   "id": "51e351e9-e1c9-416a-b486-3579fe718c43",
   "metadata": {},
   "outputs": [
    {
     "data": {
      "text/plain": [
       "{'name': 'Cortex',\n",
       " 'style': 'Surface',\n",
       " 'color': 'White',\n",
       " 'light': True,\n",
       " 'size': 1500,\n",
       " 'cmap': 'fire',\n",
       " 'scalars': array([36, 36, 36, ..., 68, 67, 68], dtype=int64),\n",
       " 'widget': None}"
      ]
     },
     "execution_count": 6,
     "metadata": {},
     "output_type": "execute_result"
    }
   ],
   "source": [
    "config = HeadWidgetConfig(name='Cortex')\n",
    "config.add_region_mapping_as_cmap(reg_map)\n",
    "config.__dict__"
   ]
  },
  {
   "cell_type": "code",
   "execution_count": 7,
   "id": "d50f83a3-667f-413f-a8d9-77437e41f9a4",
   "metadata": {
    "tags": []
   },
   "outputs": [
    {
     "data": {
      "application/vnd.jupyter.widget-view+json": {
       "model_id": "f1e2f33eee654b3eb7949ef130e8ba7f",
       "version_major": 2,
       "version_minor": 0
      },
      "text/plain": [
       "HeadWidget(children=(Accordion(children=(VBox(children=(Checkbox(value=True, description='Toggle Cortex'), Tex…"
      ]
     },
     "metadata": {},
     "output_type": "display_data"
    }
   ],
   "source": [
    "wid = HeadWidget()\n",
    "wid.add_datatype(surface, config)\n",
    "display(wid)"
   ]
  },
  {
   "cell_type": "markdown",
   "id": "ac465799-bef4-4e33-812c-8856e7809787",
   "metadata": {
    "tags": []
   },
   "source": [
    "---"
   ]
  },
  {
   "cell_type": "markdown",
   "id": "8169e684-50c0-458e-aade-6c01a18a1c48",
   "metadata": {
    "tags": []
   },
   "source": [
    "### B. Loading data from Drive with GUI"
   ]
  },
  {
   "cell_type": "code",
   "execution_count": 8,
   "id": "30dceb75-9940-4d80-8c3a-f134748411b9",
   "metadata": {},
   "outputs": [
    {
     "name": "stdout",
     "output_type": "stream",
     "text": [
      "25-08-2023 10:56:04 - INFO - tvbwidgets.core.auth - We could not find Collab Auth Token, we will search for env CLB_AUTH variable\n",
      "25-08-2023 10:56:04 - INFO - tvbwidgets.core.auth - We found Collab Auth in environment!\n",
      "25-08-2023 10:56:04 - ERROR - tvbwidgets.ui.drive_widget - Could not retrieve Repos from EBRAINS Drive!\n"
     ]
    },
    {
     "data": {
      "application/vnd.jupyter.widget-view+json": {
       "model_id": "1562b480444a4c1eb091d8d60007af6f",
       "version_major": 2,
       "version_minor": 0
      },
      "text/plain": [
       "HeadBrowser(children=(StorageWidget(children=(VBox(), DriveWidget(children=(Dropdown(description='Repository',…"
      ]
     },
     "metadata": {},
     "output_type": "display_data"
    }
   ],
   "source": [
    "from tvbwidgets.api import HeadBrowser\n",
    "from IPython.core.display_functions import display\n",
    "wid = HeadBrowser()\n",
    "display(wid)"
   ]
  },
  {
   "cell_type": "code",
   "execution_count": null,
   "id": "c0f85a66-387f-42a0-bda7-1589d9a58595",
   "metadata": {},
   "outputs": [],
   "source": []
  }
 ],
 "metadata": {
  "kernelspec": {
   "display_name": "Python 3 (ipykernel)",
   "language": "python",
   "name": "python3"
  },
  "language_info": {
   "codemirror_mode": {
    "name": "ipython",
    "version": 3
   },
   "file_extension": ".py",
   "mimetype": "text/x-python",
   "name": "python",
   "nbconvert_exporter": "python",
   "pygments_lexer": "ipython3",
   "version": "3.10.12"
  }
 },
 "nbformat": 4,
 "nbformat_minor": 5
}
