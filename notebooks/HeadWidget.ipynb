{
 "cells": [
  {
   "cell_type": "markdown",
   "id": "20fa012f-9125-453e-825a-a115d158ad69",
   "metadata": {},
   "source": [
    "## Demonstrate how tvb-widgets Surface Widget works"
   ]
  },
  {
   "cell_type": "code",
   "execution_count": null,
   "id": "6d707073-cfb4-4015-9b0c-27510b329ce7",
   "metadata": {},
   "outputs": [],
   "source": [
    "%pip install --quiet --upgrade pip\n",
    "%pip install --quiet -e ..\n",
    "%pip install tvb-data"
   ]
  },
  {
   "cell_type": "markdown",
   "id": "18cc394a-0f93-46cf-bd16-26f439bc9190",
   "metadata": {},
   "source": [
    "---"
   ]
  },
  {
   "cell_type": "markdown",
   "id": "8169e684-50c0-458e-aade-6c01a18a1c48",
   "metadata": {},
   "source": [
    "### Loading data from GUI"
   ]
  },
  {
   "cell_type": "code",
   "execution_count": 1,
   "id": "30dceb75-9940-4d80-8c3a-f134748411b9",
   "metadata": {},
   "outputs": [
    {
     "name": "stdout",
     "output_type": "stream",
     "text": [
      "17-05-2022 11:58:59 - DEBUG - tvbwidgets - Package is not fully installed\n",
      "/Users/lia.domide/WORK/TVB/tvb-widgets\n",
      "17-05-2022 11:58:59 - DEBUG - tvbwidgets - Version read from the internal package.json file\n",
      "17-05-2022 11:58:59 - INFO - tvbwidgets - Version: 0.2.0\n"
     ]
    },
    {
     "name": "stderr",
     "output_type": "stream",
     "text": [
      "/Library/Anaconda/anaconda3/envs/tvb-widgets/lib/python3.9/site-packages/tvb/datatypes/surfaces.py:64: UserWarning: Geodesic distance module is unavailable; some functionality for surfaces will be unavailable.\n",
      "  warnings.warn(msg)\n"
     ]
    }
   ],
   "source": [
    "from tvbwidgets.api import HeadWidget\n",
    "from IPython.core.display_functions import display"
   ]
  },
  {
   "cell_type": "code",
   "execution_count": 2,
   "id": "1c87fc03-f843-49f6-9a93-f87041818bf0",
   "metadata": {},
   "outputs": [],
   "source": [
    "### Provide token if running outside EBRAINS Lab\n",
    "# import os\n",
    "# os.environ['CLB_AUTH']=''"
   ]
  },
  {
   "cell_type": "code",
   "execution_count": 3,
   "id": "1f5768a2-d390-4ad8-8780-cee90c047fd5",
   "metadata": {},
   "outputs": [
    {
     "name": "stdout",
     "output_type": "stream",
     "text": [
      "17-05-2022 11:59:03 - INFO - tvbwidgets.core.auth - We could not find Collab Auth Token, we will search for env CLB_AUTH variable\n",
      "17-05-2022 11:59:03 - INFO - tvbwidgets.core.auth - We found Collab Auth in environment!\n"
     ]
    },
    {
     "data": {
      "application/vnd.jupyter.widget-view+json": {
       "model_id": "579b5d7b33244186badaead1dda3ac43",
       "version_major": 2,
       "version_minor": 0
      },
      "text/plain": [
       "HeadWidget(children=(StorageWidget(children=(VBox(), DriveWidget(children=(Dropdown(description='Repository', …"
      ]
     },
     "metadata": {},
     "output_type": "display_data"
    }
   ],
   "source": [
    "wid = HeadWidget()\n",
    "display(wid)"
   ]
  },
  {
   "cell_type": "markdown",
   "id": "ac465799-bef4-4e33-812c-8856e7809787",
   "metadata": {},
   "source": [
    "---"
   ]
  },
  {
   "cell_type": "markdown",
   "id": "37f76c9c-d01a-4db1-8c09-53ab547192d5",
   "metadata": {},
   "source": [
    "### Loading data with command line interface"
   ]
  },
  {
   "cell_type": "markdown",
   "id": "03756dad-8b92-453d-9f5c-9251d9b14388",
   "metadata": {},
   "source": [
    "#### Build the widget and add datatypes to be displayed"
   ]
  },
  {
   "cell_type": "code",
   "execution_count": null,
   "id": "4675abde-4b90-4931-be0a-645ea3a81003",
   "metadata": {},
   "outputs": [],
   "source": [
    "from tvbwidgets.api import HeadWidgetBase, HeadWidgetConfig\n",
    "from tvb.simulator.lab import *\n",
    "from IPython.core.display_functions import display"
   ]
  },
  {
   "cell_type": "code",
   "execution_count": null,
   "id": "2bfd8e45-cfe1-44f4-b934-823716e27fad",
   "metadata": {},
   "outputs": [],
   "source": [
    "surface = surfaces.Surface.from_file()\n",
    "surface.configure()\n",
    "\n",
    "face = surfaces.Surface.from_file('face_8614.zip')\n",
    "face.configure()\n",
    "\n",
    "reg_map = region_mapping.RegionMapping.from_file()\n",
    "\n",
    "conn = connectivity.Connectivity.from_file()\n",
    "conn.configure()\n",
    "\n",
    "seeg = sensors.SensorsInternal.from_file()\n",
    "seeg.configure()"
   ]
  },
  {
   "cell_type": "code",
   "execution_count": null,
   "id": "aa76e23c-bc9e-4bdf-bd83-e68487b0aa28",
   "metadata": {},
   "outputs": [],
   "source": [
    "wid = HeadWidgetBase([face])"
   ]
  },
  {
   "cell_type": "code",
   "execution_count": null,
   "id": "0b6c41e9-8a03-4996-929f-3ebbafadcc49",
   "metadata": {},
   "outputs": [],
   "source": [
    "display(wid)"
   ]
  },
  {
   "cell_type": "code",
   "execution_count": null,
   "id": "1493cd7b-71e2-4a34-9364-7ffaed368acb",
   "metadata": {},
   "outputs": [],
   "source": [
    "config = HeadWidgetConfig(name='Cortex', color='beige')\n",
    "config.__dict__"
   ]
  },
  {
   "cell_type": "code",
   "execution_count": null,
   "id": "fad7a0df-ffe2-4c94-b0f4-a1e828d34b50",
   "metadata": {},
   "outputs": [],
   "source": [
    "wid.add_datatype(surface, config)"
   ]
  },
  {
   "cell_type": "code",
   "execution_count": null,
   "id": "9b97202b-1413-4d34-98c2-250eb7a0bfdf",
   "metadata": {},
   "outputs": [],
   "source": [
    "wid.add_datatype(seeg)"
   ]
  },
  {
   "cell_type": "code",
   "execution_count": null,
   "id": "8dfeec2a-8cc6-46be-9a7b-f46fd7787df2",
   "metadata": {},
   "outputs": [],
   "source": [
    "wid.add_datatype(conn)"
   ]
  },
  {
   "cell_type": "code",
   "execution_count": null,
   "id": "ce09b5c2-043e-4207-9048-effcf044b394",
   "metadata": {},
   "outputs": [],
   "source": [
    "wid.add_datatype(reg_map)"
   ]
  },
  {
   "cell_type": "markdown",
   "id": "10908505-9812-450f-aaab-8a4479aee44b",
   "metadata": {},
   "source": [
    "#### Show region mapping on cortical surface"
   ]
  },
  {
   "cell_type": "code",
   "execution_count": null,
   "id": "51e351e9-e1c9-416a-b486-3579fe718c43",
   "metadata": {},
   "outputs": [],
   "source": [
    "config = HeadWidgetConfig(name='Cortex')\n",
    "config.add_region_mapping_as_cmap(reg_map)\n",
    "config.__dict__"
   ]
  },
  {
   "cell_type": "code",
   "execution_count": null,
   "id": "d50f83a3-667f-413f-a8d9-77437e41f9a4",
   "metadata": {},
   "outputs": [],
   "source": [
    "wid = HeadWidgetBase()\n",
    "wid.add_datatype(surface, config)\n",
    "display(wid)"
   ]
  }
 ],
 "metadata": {
  "kernelspec": {
   "display_name": "Python 3",
   "language": "python",
   "name": "python3"
  },
  "language_info": {
   "codemirror_mode": {
    "name": "ipython",
    "version": 3
   },
   "file_extension": ".py",
   "mimetype": "text/x-python",
   "name": "python",
   "nbconvert_exporter": "python",
   "pygments_lexer": "ipython3",
   "version": "3.9.10"
  }
 },
 "nbformat": 4,
 "nbformat_minor": 5
}
