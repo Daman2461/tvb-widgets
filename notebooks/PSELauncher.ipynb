{
 "cells": [
  {
   "cell_type": "code",
   "execution_count": null,
   "id": "8ffd5533-5dfa-495f-ab9d-b0605e6f41ed",
   "metadata": {},
   "outputs": [],
   "source": [
    "%pip install --quiet --upgrade pip\n",
    "%pip install --quiet -e ..\n",
    "%pip install tvb-data"
   ]
  },
  {
   "cell_type": "code",
   "execution_count": null,
   "id": "331b1e7c-0d7f-4fca-baca-9bd2592c87c7",
   "metadata": {},
   "outputs": [],
   "source": [
    "%load_ext autoreload\n",
    "%autoreload 2\n",
    "%matplotlib widget"
   ]
  },
  {
   "cell_type": "code",
   "execution_count": null,
   "id": "0817efbb-08f7-4e82-928f-2a293833cd1f",
   "metadata": {},
   "outputs": [],
   "source": [
    "from tvbwidgets.api import PSELauncher"
   ]
  },
  {
   "cell_type": "code",
   "execution_count": null,
   "id": "962008ef-dd2a-4490-bc7e-542a5bc244fb",
   "metadata": {
    "tags": []
   },
   "outputs": [],
   "source": [
    "launch = PSELauncher()"
   ]
  },
  {
   "cell_type": "code",
   "execution_count": null,
   "id": "d8bdbc01-f3ce-4b9e-8805-c21c07af982f",
   "metadata": {},
   "outputs": [],
   "source": []
  }
 ],
 "metadata": {
  "kernelspec": {
   "display_name": "Python 3 (ipykernel)",
   "language": "python",
   "name": "python3"
  },
  "language_info": {
   "codemirror_mode": {
    "name": "ipython",
    "version": 3
   },
   "file_extension": ".py",
   "mimetype": "text/x-python",
   "name": "python",
   "nbconvert_exporter": "python",
   "pygments_lexer": "ipython3",
   "version": "3.10.8"
  }
 },
 "nbformat": 4,
 "nbformat_minor": 5
}
