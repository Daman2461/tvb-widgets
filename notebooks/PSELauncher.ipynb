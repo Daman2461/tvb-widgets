{
 "cells": [
  {
   "cell_type": "markdown",
   "id": "f8412b0d-b775-43ff-a3e6-5dd2b567e9dd",
   "metadata": {},
   "source": [
    "# Demonstrate Parameter Search Exploration (PSE) Widget"
   ]
  },
  {
   "cell_type": "code",
   "execution_count": null,
   "id": "331b1e7c-0d7f-4fca-baca-9bd2592c87c7",
   "metadata": {},
   "outputs": [],
   "source": [
    "%load_ext autoreload\n",
    "%autoreload 2\n",
    "%matplotlib widget"
   ]
  },
  {
   "cell_type": "code",
   "execution_count": null,
   "id": "0817efbb-08f7-4e82-928f-2a293833cd1f",
   "metadata": {},
   "outputs": [],
   "source": [
    "from tvbwidgets.api import PSELauncher, PSEWidget\n",
    "from tvb.simulator.lab import *\n",
    "from tvb.simulator.models.epileptor import Epileptor\n",
    "from tvb.simulator.integrators import HeunStochastic"
   ]
  },
  {
   "cell_type": "code",
   "execution_count": null,
   "id": "6eafa3b9-ee6c-431f-a057-b42a5010910b",
   "metadata": {},
   "outputs": [],
   "source": [
    "os.environ['CLB_AUTH'] = ''"
   ]
  },
  {
   "cell_type": "code",
   "execution_count": null,
   "id": "962008ef-dd2a-4490-bc7e-542a5bc244fb",
   "metadata": {
    "tags": []
   },
   "outputs": [],
   "source": [
    "sim = simulator.Simulator(connectivity = connectivity.Connectivity.from_file())\n",
    "conn_66 = connectivity.Connectivity.from_file(\"connectivity_66.zip\")\n",
    "conn_68 = connectivity.Connectivity.from_file(\"connectivity_68.zip\")\n",
    "conn_76 = connectivity.Connectivity.from_file()\n",
    "sim.model = Epileptor()\n",
    "launch = PSELauncher(sim, [conn_66, conn_68, conn_76])"
   ]
  },
  {
   "cell_type": "markdown",
   "id": "ae78d3a5-d781-4b79-9f95-925b4b9e1e63",
   "metadata": {},
   "source": [
    "## ! The parts after this point, should be executed only after the PSE was launched and completed execution above"
   ]
  },
  {
   "cell_type": "code",
   "execution_count": null,
   "id": "e28f315b-c0ad-4b86-9936-ed10fe5b149c",
   "metadata": {},
   "outputs": [],
   "source": [
    "# PSEWidget(file name)\n",
    "# file_name -> resulted from PSELauncher\n",
    "# We don't have a progress bar, yet. You can monitor that the rest file appeared in the current folder\n",
    "\n",
    "pse = PSEWidget(\"test.h5\")"
   ]
  },
  {
   "cell_type": "code",
   "execution_count": null,
   "id": "8906ea2d-3302-424e-8312-4899fddf63b7",
   "metadata": {},
   "outputs": [],
   "source": []
  }
 ],
 "metadata": {
  "kernelspec": {
   "display_name": "Python 3 (ipykernel)",
   "language": "python",
   "name": "python3"
  },
  "language_info": {
   "codemirror_mode": {
    "name": "ipython",
    "version": 3
   },
   "file_extension": ".py",
   "mimetype": "text/x-python",
   "name": "python",
   "nbconvert_exporter": "python",
   "pygments_lexer": "ipython3",
   "version": "3.10.8"
  }
 },
 "nbformat": 4,
 "nbformat_minor": 5
}
