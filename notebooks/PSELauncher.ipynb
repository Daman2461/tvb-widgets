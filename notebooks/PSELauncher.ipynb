{
 "cells": [
  {
   "cell_type": "markdown",
   "id": "f8412b0d-b775-43ff-a3e6-5dd2b567e9dd",
   "metadata": {},
   "source": [
    "# Demonstrate Parameter Search Exploration (PSE) Widget"
   ]
  },
  {
   "cell_type": "code",
   "execution_count": null,
   "id": "331b1e7c-0d7f-4fca-baca-9bd2592c87c7",
   "metadata": {},
   "outputs": [],
   "source": [
    "%load_ext autoreload\n",
    "%autoreload 2\n",
    "%matplotlib widget\n"
   ]
  },
  {
   "cell_type": "code",
   "execution_count": null,
   "id": "0817efbb-08f7-4e82-928f-2a293833cd1f",
   "metadata": {},
   "outputs": [],
   "source": [
    "from tvbwidgets.api import PSELauncher, PSEWidget, HPCConfig\n",
    "from tvb.simulator.lab import *\n",
    "from tvb.simulator.models import Epileptor\n",
    "from tvb.simulator.integrators import HeunStochastic\n"
   ]
  },
  {
   "cell_type": "code",
   "execution_count": null,
   "id": "6eafa3b9-ee6c-431f-a057-b42a5010910b",
   "metadata": {},
   "outputs": [],
   "source": [
    "os.environ['CLB_AUTH'] = \"\""
   ]
  },
  {
   "cell_type": "code",
   "execution_count": null,
   "id": "962008ef-dd2a-4490-bc7e-542a5bc244fb",
   "metadata": {
    "tags": []
   },
   "outputs": [],
   "source": [
    "# Load multiple structural connectivities, in case we want to range over them.\n",
    "conn_66 = connectivity.Connectivity.from_file(\"connectivity_66.zip\")\n",
    "conn_68 = connectivity.Connectivity.from_file(\"connectivity_68.zip\")\n",
    "conn_76 = connectivity.Connectivity.from_file()\n",
    "\n",
    "sim = simulator.Simulator(connectivity = connectivity.Connectivity.from_file())\n",
    "sim.model = Epileptor()\n",
    "\n",
    "hpc_config = HPCConfig(site=\"JUSUF\", project=\"icei-hbp-2021-0007\", \n",
    "                       env_dir=\"tvb_widget\", env_name=\"venv_tvb\", \n",
    "                       n_threads=None, resources=None)\n",
    "\n",
    "launch = PSELauncher(sim, [conn_66, conn_68, conn_76], hpc_config)\n"
   ]
  },
  {
   "cell_type": "markdown",
   "id": "ae78d3a5-d781-4b79-9f95-925b4b9e1e63",
   "metadata": {},
   "source": [
    "## ! The parts after this point, should be executed only after the PSE was launched and completed execution above"
   ]
  },
  {
   "cell_type": "code",
   "execution_count": null,
   "id": "e28f315b-c0ad-4b86-9936-ed10fe5b149c",
   "metadata": {},
   "outputs": [],
   "source": [
    "# file_name bellow -> resulted from PSELauncher above\n",
    "# We don't have a progress bar, yet. You should monitor manually that the file appeared in the current folder\n",
    "\n",
    "import os.path\n",
    "\n",
    "file_name = \"local_123.h5\"\n",
    "\n",
    "if os.path.exists(file_name):\n",
    "    pse = PSEWidget(file_name)\n",
    "else:\n",
    "    print(f\"File {file_name} needs to exist!\")\n",
    "    "
   ]
  },
  {
   "cell_type": "code",
   "execution_count": null,
   "id": "c1e4e8bf-4bfc-4daf-b4b6-7f968291af4f",
   "metadata": {},
   "outputs": [],
   "source": []
  }
 ],
 "metadata": {
  "kernelspec": {
   "display_name": "Python 3 (ipykernel)",
   "language": "python",
   "name": "python3"
  },
  "language_info": {
   "codemirror_mode": {
    "name": "ipython",
    "version": 3
   },
   "file_extension": ".py",
   "mimetype": "text/x-python",
   "name": "python",
   "nbconvert_exporter": "python",
   "pygments_lexer": "ipython3",
   "version": "3.8.16"
  }
 },
 "nbformat": 4,
 "nbformat_minor": 5
}
