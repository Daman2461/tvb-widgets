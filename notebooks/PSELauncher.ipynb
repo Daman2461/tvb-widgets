{
 "cells": [
  {
   "cell_type": "code",
   "execution_count": null,
   "id": "8ffd5533-5dfa-495f-ab9d-b0605e6f41ed",
   "metadata": {},
   "outputs": [],
   "source": [
    "# %pip install --quiet --upgrade pip\n",
    "# %pip install --quiet -e ..\n",
    "# %pip install tvb-data"
   ]
  },
  {
   "cell_type": "code",
   "execution_count": null,
   "id": "331b1e7c-0d7f-4fca-baca-9bd2592c87c7",
   "metadata": {},
   "outputs": [],
   "source": [
    "%load_ext autoreload\n",
    "%autoreload 2\n",
    "%matplotlib widget"
   ]
  },
  {
   "cell_type": "code",
   "execution_count": null,
   "id": "0817efbb-08f7-4e82-928f-2a293833cd1f",
   "metadata": {
    "tags": []
   },
   "outputs": [],
   "source": [
    "from tvbwidgets.api import PSELauncher, PSEWidget\n",
    "from tvb.simulator.lab import *\n",
    "from tvb.simulator.models.epileptor import Epileptor\n",
    "from tvb.simulator.integrators import HeunStochastic\n",
    "import os"
   ]
  },
  {
   "cell_type": "code",
   "execution_count": null,
   "id": "1a0751b1-9627-4ae0-ab0a-2c95c133a177",
   "metadata": {},
   "outputs": [],
   "source": [
    "os.environ['CLB_AUTH'] = 'eyJhbGciOiJSUzI1NiIsInR5cCIgOiAiSldUIiwia2lkIiA6ICJfNkZVSHFaSDNIRmVhS0pEZDhXcUx6LWFlZ3kzYXFodVNJZ1RXaTA1U2k0In0.eyJleHAiOjE2ODA3NjQzMTYsImlhdCI6MTY4MDE1OTUxNiwiYXV0aF90aW1lIjoxNjc5OTg4ODM3LCJqdGkiOiI4MjQ0NTRiYS0zMjY0LTQwMWMtODA1NC1hMmFhNGVlMmY3ZTIiLCJpc3MiOiJodHRwczovL2lhbS5lYnJhaW5zLmV1L2F1dGgvcmVhbG1zL2hicCIsImF1ZCI6WyJ0dXRvcmlhbE9pZGNBcGkiLCJqdXB5dGVyaHViLWpzYyIsInh3aWtpIiwidGVhbSIsImdyb3VwIl0sInN1YiI6IjM2NzI0ODlhLThiOGUtNDRhZC1iODNiLTU0NjMzY2I1YTc1ZSIsInR5cCI6IkJlYXJlciIsImF6cCI6Imp1cHl0ZXJodWIiLCJzZXNzaW9uX3N0YXRlIjoiNmI3MmIxOTAtMGIwYy00NjQwLWJlNGItYjYyMDc5N2U0Njg1IiwiYWNyIjoiMCIsImFsbG93ZWQtb3JpZ2lucyI6WyJodHRwczovL2p1cHl0ZXJodWIuYXBwcy5qc2MuaGJwLmV1LyIsImh0dHBzOi8vbGFiLmVicmFpbnMuZXUvIiwiaHR0cHM6Ly9sYWIuanNjLmVicmFpbnMuZXUvIl0sInJlYWxtX2FjY2VzcyI6eyJyb2xlcyI6WyJvZmZsaW5lX2FjY2VzcyJdfSwic2NvcGUiOiJjb2xsYWIuZHJpdmUgcHJvZmlsZSBvZmZsaW5lX2FjY2VzcyBjbGIud2lraS53cml0ZSBlbWFpbCByb2xlcyBvcGVuaWQgZ3JvdXAgY2xiLndpa2kucmVhZCB0ZWFtIiwic2lkIjoiNmI3MmIxOTAtMGIwYy00NjQwLWJlNGItYjYyMDc5N2U0Njg1IiwiZW1haWxfdmVyaWZpZWQiOnRydWUsIm5hbWUiOiJQYXVsYSBQb3BhIiwibWl0cmVpZC1zdWIiOiIzMDc0NDEiLCJwcmVmZXJyZWRfdXNlcm5hbWUiOiJwYXVsYXBvcGEiLCJnaXZlbl9uYW1lIjoiUGF1bGEiLCJmYW1pbHlfbmFtZSI6IlBvcGEiLCJlbWFpbCI6InBhdWxhLnBvcGFAY29kZW1hcnQucm8ifQ.jjXxYK31m_w4dODB1GXFsKPQ7eA1efbBfAk15WR8VCWFrOseMEqzTjrikf3QsEnfJPVq90v_wxvpY1YOOo6assCTApCF4EnCpRKmBcculZGh5JGreWOEFmCc5tTkUn5EXovNIk87NN-NCcLh1Ruc4WVh1N3cD_zcWDu1CfwNHJ-Zl9Er7rHsXljj47SD1izwkV2lmrDqEW78EZm2L62K1et3a6wPqhKOmnVO6KI_hQ-tt-FFlhtkknlGHoG2QH9nHd9jDw5rDfw99ER_oLNxctkfphf1ErAAvAJ9xqA8Butfva2t5MDVrplNwPegL2N4SxOYOVc6QKpzFZiDjFExIg'"
   ]
  },
  {
   "cell_type": "code",
   "execution_count": null,
   "id": "962008ef-dd2a-4490-bc7e-542a5bc244fb",
   "metadata": {
    "tags": []
   },
   "outputs": [],
   "source": [
    "sim = simulator.Simulator(connectivity = connectivity.Connectivity.from_file())\n",
    "conn_66 = connectivity.Connectivity.from_file(\"connectivity_66.zip\")\n",
    "conn_68 = connectivity.Connectivity.from_file(\"connectivity_68.zip\")\n",
    "conn_76 = connectivity.Connectivity.from_file()\n",
    "sim.model = Epileptor()\n",
    "launch = PSELauncher(sim, [conn_66, conn_68, conn_76])"
   ]
  },
  {
   "cell_type": "code",
   "execution_count": null,
   "id": "d5165ca4-f4db-4fa5-b6dd-7649ea04d8bb",
   "metadata": {},
   "outputs": [],
   "source": [
    "# This cell can be run after the local launch button was pressed\n",
    "# PSEWidget(file name)\n",
    "#           file_name -> resulted from PSELauncher, do not forget to add .h5 extension at the end of your file name\n",
    "\n",
    "pse = PSEWidget(\"test.h5\")"
   ]
  },
  {
   "cell_type": "code",
   "execution_count": null,
   "id": "c3dcb737-3e9a-4542-874b-e0ff2734a280",
   "metadata": {},
   "outputs": [],
   "source": [
    "from tvbwidgets.core.pse import parameters"
   ]
  },
  {
   "cell_type": "code",
   "execution_count": null,
   "id": "c1e4e8bf-4bfc-4daf-b4b6-7f968291af4f",
   "metadata": {
    "tags": []
   },
   "outputs": [],
   "source": [
    "listNmb = [1,2,3]\n",
    "listNmb2 = [11,23,34]\n",
    "listMetrics = [\"GlobalVariance\"]\n",
    "%run \"C:\\Users\\teodora.misan\\Documents\\tvb-widgets\\tvbwidgets\\core\\pse\\parameters.py\" model.r model.slope \"{listNmb}\" \"{listNmb2}\" \"{listMetrics}\" test2"
   ]
  },
  {
   "cell_type": "code",
   "execution_count": null,
   "id": "39fc910d-31af-41cd-8605-4834924d586f",
   "metadata": {},
   "outputs": [],
   "source": []
  }
 ],
 "metadata": {
  "kernelspec": {
   "display_name": "Python 3 (ipykernel)",
   "language": "python",
   "name": "python3"
  },
  "language_info": {
   "codemirror_mode": {
    "name": "ipython",
    "version": 3
   },
   "file_extension": ".py",
   "mimetype": "text/x-python",
   "name": "python",
   "nbconvert_exporter": "python",
   "pygments_lexer": "ipython3",
   "version": "3.10.8"
  }
 },
 "nbformat": 4,
 "nbformat_minor": 5
}
