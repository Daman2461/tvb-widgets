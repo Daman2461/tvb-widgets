{
 "cells": [
  {
   "cell_type": "markdown",
   "id": "8b1dadda-7db2-4972-ae68-e632970d799f",
   "metadata": {},
   "source": [
    "## TVB TimeSeries Widget"
   ]
  },
  {
   "cell_type": "markdown",
   "id": "02ee8661-0238-4e09-b917-a1751c07cb41",
   "metadata": {
    "tags": []
   },
   "source": [
    "#### This notebook is dedicated to showcasing the TimeSeries widget using TVB data"
   ]
  },
  {
   "cell_type": "markdown",
   "id": "f200fcab-3a53-40fa-b53d-27f86b10ba12",
   "metadata": {},
   "source": [
    "---"
   ]
  },
  {
   "cell_type": "markdown",
   "id": "badaafc5-d58b-4040-b5e9-93fcea23a753",
   "metadata": {},
   "source": [
    "### Intial setup"
   ]
  },
  {
   "cell_type": "code",
   "execution_count": 1,
   "id": "8c44638f-cc2e-4319-b991-92b2f650ba97",
   "metadata": {},
   "outputs": [],
   "source": [
    "%load_ext autoreload\n",
    "%autoreload 2"
   ]
  },
  {
   "cell_type": "code",
   "execution_count": 2,
   "id": "95c4097d-4b08-46e9-989c-10d8ee8942ff",
   "metadata": {},
   "outputs": [],
   "source": [
    "%matplotlib widget"
   ]
  },
  {
   "cell_type": "markdown",
   "id": "8d71d18a-866a-4b74-8cad-c4d358e00cdf",
   "metadata": {
    "tags": []
   },
   "source": [
    "### Imports"
   ]
  },
  {
   "cell_type": "code",
   "execution_count": 3,
   "id": "1906b6e6-ab82-4322-986b-d97471136d28",
   "metadata": {
    "scrolled": true,
    "tags": []
   },
   "outputs": [
    {
     "name": "stdout",
     "output_type": "stream",
     "text": [
      "30-03-2022 01:49:13 - DEBUG - tvbwidgets - Package is not fully installed\n",
      "30-03-2022 01:49:13 - DEBUG - tvbwidgets - Version read from the internal _version.py file\n",
      "30-03-2022 01:49:13 - INFO - tvbwidgets - Version: 0.1.dev25+g9d7cb39.d20220222\n"
     ]
    },
    {
     "name": "stderr",
     "output_type": "stream",
     "text": [
      "C:\\ProgramData\\Anaconda3\\envs\\tvb-widgets\\lib\\site-packages\\pkg_resources\\__init__.py:122: PkgResourcesDeprecationWarning: -PKG-VERSION is an invalid version and will not be supported in a future release\n",
      "  warnings.warn(\n"
     ]
    }
   ],
   "source": [
    "from tvbwidgets.api import TimeSeriesWidget\n",
    "from tvbwidgets.api import TSWidgetBuilderFromTVB, TSWidgetFactory\n",
    "import numpy as np\n",
    "import mne\n",
    "from IPython.core.display_functions import display"
   ]
  },
  {
   "cell_type": "code",
   "execution_count": 4,
   "id": "c57af6ab-0091-4246-8aba-58df10ded14b",
   "metadata": {},
   "outputs": [],
   "source": [
    "# imports for generating data\n",
    "from tvb.simulator.lab import *\n",
    "from tvb.datatypes import time_series\n",
    "from tvb.basic.config import settings\n",
    "import tvb.datatypes.time_series"
   ]
  },
  {
   "cell_type": "markdown",
   "id": "ceb3addc-b00f-42ae-9a2b-e7d766d07b2d",
   "metadata": {
    "tags": []
   },
   "source": [
    "### Go to Generate TVB Data 2"
   ]
  },
  {
   "cell_type": "markdown",
   "id": "82f0bc2c-c8da-405b-b7a3-1aaafea6b907",
   "metadata": {
    "tags": []
   },
   "source": [
    "### Generate TVB data"
   ]
  },
  {
   "cell_type": "markdown",
   "id": "9720d378-d94f-481d-b16f-5bc9958ef532",
   "metadata": {
    "tags": []
   },
   "source": [
    "##### (But this has only 1 state variable and 1 mode)"
   ]
  },
  {
   "cell_type": "code",
   "execution_count": 5,
   "id": "caaf9c2f-58c3-4ec5-bdc6-da999291c661",
   "metadata": {},
   "outputs": [
    {
     "name": "stdout",
     "output_type": "stream",
     "text": [
      "WARNING  File 'hemispheres' not found in ZIP.\n"
     ]
    }
   ],
   "source": [
    "conn = connectivity.Connectivity.from_file()\n",
    "\n",
    "# configure stimulus spatial pattern\n",
    "weighting = np.zeros((76, ))\n",
    "weighting[[14, 52, 11, 49]] = 0.1"
   ]
  },
  {
   "cell_type": "code",
   "execution_count": 6,
   "id": "93e4db89-4230-4bfd-9a54-bc3091b9d0a6",
   "metadata": {},
   "outputs": [],
   "source": [
    "eqn_t = equations.PulseTrain()\n",
    "eqn_t.parameters['onset'] = 1.5e3\n",
    "eqn_t.parameters['T'] = 100.0\n",
    "eqn_t.parameters['tau'] = 50.0"
   ]
  },
  {
   "cell_type": "code",
   "execution_count": 7,
   "id": "dab6b019-87d9-4ace-8110-8915a178f379",
   "metadata": {},
   "outputs": [],
   "source": [
    "stimulus = patterns.StimuliRegion(\n",
    "    temporal=eqn_t,\n",
    "    connectivity=conn,\n",
    "    weight=weighting)"
   ]
  },
  {
   "cell_type": "code",
   "execution_count": 8,
   "id": "e27f5ff6-146d-4388-9e7a-9f70c340c930",
   "metadata": {},
   "outputs": [],
   "source": [
    "#Configure space and time\n",
    "stimulus.configure_space()\n",
    "stimulus.configure_time(np.arange(0., 3e3, 2**-4))"
   ]
  },
  {
   "cell_type": "code",
   "execution_count": 9,
   "id": "0e0803cf-ed48-4b10-a1c0-076c371c8b38",
   "metadata": {},
   "outputs": [
    {
     "name": "stdout",
     "output_type": "stream",
     "text": [
      "   INFO  White noise configured with dt=0.5\n"
     ]
    }
   ],
   "source": [
    "sim = simulator.Simulator(\n",
    "    model=models.Generic2dOscillator(a=np.array([0.3]), tau=np.array([2])),\n",
    "    connectivity=conn,\n",
    "    coupling=coupling.Difference(a=np.array([7e-4])),\n",
    "    integrator=integrators.HeunStochastic(dt=0.5, noise=noise.Additive(nsig=np.array([5e-5]))),\n",
    "    monitors=(\n",
    "        monitors.TemporalAverage(period=1.0),\n",
    "        ),\n",
    "    stimulus=stimulus,\n",
    "    simulation_length=5e3, # 1 minute simulation\n",
    ").configure()\n",
    "\n",
    "(tavg_time, tavg_data),  = sim.run()"
   ]
  },
  {
   "cell_type": "code",
   "execution_count": 10,
   "id": "950923e5-fa6d-4887-a3cf-adf8f2b3e801",
   "metadata": {},
   "outputs": [
    {
     "data": {
      "text/html": [
       "<table>\n",
       "<h3>TimeSeriesRegion</h3>\n",
       "<thead><tr><th></th><th style=\"text-align:left;width:40%\">value</th></tr></thead>\n",
       "<tbody>\n",
       "<tr><td>Dimensions</td><td style=\"text-align:left;\"><pre>('Time', 'State Variable', 'Region', 'Mode')</pre></td>\n",
       "<tr><td>Length</td><td style=\"text-align:left;\"><pre>5.0</pre></td>\n",
       "<tr><td>Region Mapping</td><td style=\"text-align:left;\"><pre>None</pre></td>\n",
       "<tr><td>Region Mapping Volume</td><td style=\"text-align:left;\"><pre>None</pre></td>\n",
       "<tr><td>Sample period</td><td style=\"text-align:left;\"><pre>0.001</pre></td>\n",
       "<tr><td>Source Connectivity</td><td style=\"text-align:left;\"><pre>Connectivity gid: 16cff496-65c9-49b1-ba3d-e0a9d90ccfc0</pre></td>\n",
       "<tr><td>Time units</td><td style=\"text-align:left;\"><pre>s</pre></td>\n",
       "<tr><td>Time-series name</td><td style=\"text-align:left;\"><pre>TimeSeriesRegion gid: 9f38dd36-f8f5-48bd-972f-f1b34d4a5adf</pre></td>\n",
       "<tr><td>Time-series type</td><td style=\"text-align:left;\"><pre>TimeSeriesRegion</pre></td>\n",
       "<tr><td>[min, median, max]</td><td style=\"text-align:left;\"><pre>[-1.53398, 0.0317675, 3.65151]</pre></td>\n",
       "<tr><td>dtype</td><td style=\"text-align:left;\"><pre>float64</pre></td>\n",
       "<tr><td>shape</td><td style=\"text-align:left;\"><pre>(5000, 1, 76, 1)</pre></td>\n",
       "</tbody></table>"
      ],
      "text/plain": [
       "<tvb.datatypes.time_series.TimeSeriesRegion at 0x1bdc396f100>"
      ]
     },
     "execution_count": 10,
     "metadata": {},
     "output_type": "execute_result"
    }
   ],
   "source": [
    "tsr = tvb.datatypes.time_series.TimeSeriesRegion(\n",
    "    data=tavg_data,\n",
    "    connectivity=conn,\n",
    "    sample_period=sim.monitors[0].period / 1000.0, \n",
    "    sample_period_unit=\"s\")\n",
    "tsr.configure()\n",
    "tsr"
   ]
  },
  {
   "cell_type": "markdown",
   "id": "cd112fff-4777-475e-8365-cdc4a1ed5e40",
   "metadata": {},
   "source": [
    "### Generate TVB data 2"
   ]
  },
  {
   "cell_type": "code",
   "execution_count": 5,
   "id": "2936d8f7-17f2-43ad-9fde-054b6ce33e7b",
   "metadata": {
    "scrolled": true,
    "tags": []
   },
   "outputs": [
    {
     "name": "stdout",
     "output_type": "stream",
     "text": [
      "WARNING  File 'hemispheres' not found in ZIP.\n",
      "WARNING  random_state supplied for non-stochastic integration\n"
     ]
    },
    {
     "name": "stderr",
     "output_type": "stream",
     "text": [
      "C:\\ProgramData\\Anaconda3\\envs\\tvb-widgets\\lib\\site-packages\\tvb\\simulator\\coupling.py:375: RuntimeWarning: overflow encountered in exp\n",
      "  pre = self.cmax / (1.0 + numpy.exp(self.r * (self.midpoint - (x_j[:, 0] - x_j[:, 1]))))\n",
      "C:\\ProgramData\\Anaconda3\\envs\\tvb-widgets\\lib\\site-packages\\numba\\np\\ufunc\\gufunc.py:151: RuntimeWarning: overflow encountered in _numba_dfun_jr\n",
      "  return self.ufunc(*args, **kwargs)\n"
     ]
    }
   ],
   "source": [
    "jrm = models.JansenRit(mu=np.array([0.]), v0=np.array([6.]))\n",
    "monitor = monitors.TemporalAverage(period=2 ** -2)\n",
    "\n",
    "# the other aspects of the simulator are standard\n",
    "sim = simulator.Simulator(\n",
    "    model=jrm,\n",
    "    connectivity=connectivity.Connectivity.from_file(),\n",
    "    coupling=coupling.SigmoidalJansenRit(a=np.array([10.0])),\n",
    "    monitors=(monitor,),\n",
    "    simulation_length=1e3,\n",
    ").configure()\n",
    "\n",
    "# run it\n",
    "(time_array, data_array), = sim.run()"
   ]
  },
  {
   "cell_type": "code",
   "execution_count": 6,
   "id": "c9e215e5-6ee4-42b0-9b05-9f10e3c26fc1",
   "metadata": {},
   "outputs": [
    {
     "data": {
      "text/plain": [
       "numpy.ndarray"
      ]
     },
     "execution_count": 6,
     "metadata": {},
     "output_type": "execute_result"
    }
   ],
   "source": [
    "type(data_array)"
   ]
  },
  {
   "cell_type": "code",
   "execution_count": 7,
   "id": "c29690a4-43eb-4cc5-bdb9-e511a7f0655f",
   "metadata": {},
   "outputs": [
    {
     "data": {
      "text/plain": [
       "(4096, 4, 76, 1)"
      ]
     },
     "execution_count": 7,
     "metadata": {},
     "output_type": "execute_result"
    }
   ],
   "source": [
    "data_array.shape"
   ]
  },
  {
   "cell_type": "code",
   "execution_count": 8,
   "id": "19891fcb-e056-45af-996b-7ee9cc4a6d56",
   "metadata": {},
   "outputs": [
    {
     "data": {
      "text/html": [
       "<table>\n",
       "<h3>TimeSeries</h3>\n",
       "<thead><tr><th></th><th style=\"text-align:left;width:40%\">value</th></tr></thead>\n",
       "<tbody>\n",
       "<tr><td>Dimensions</td><td style=\"text-align:left;\"><pre>('Time', 'State Variable', 'Space', 'Mode')</pre></td>\n",
       "<tr><td>Length</td><td style=\"text-align:left;\"><pre>1.024</pre></td>\n",
       "<tr><td>Sample period</td><td style=\"text-align:left;\"><pre>0.00025</pre></td>\n",
       "<tr><td>Time units</td><td style=\"text-align:left;\"><pre>s</pre></td>\n",
       "<tr><td>Time-series name</td><td style=\"text-align:left;\"><pre>TimeSeries gid: 220d3fbb-ca17-4ca5-8c59-4891495bf6f0</pre></td>\n",
       "<tr><td>Time-series type</td><td style=\"text-align:left;\"><pre>TimeSeries</pre></td>\n",
       "<tr><td>[min, median, max]</td><td style=\"text-align:left;\"><pre>[-3588.33, 0.162523, 3692.42]</pre></td>\n",
       "<tr><td>dtype</td><td style=\"text-align:left;\"><pre>float64</pre></td>\n",
       "<tr><td>shape</td><td style=\"text-align:left;\"><pre>(4096, 4, 76, 1)</pre></td>\n",
       "</tbody></table>"
      ],
      "text/plain": [
       "<tvb.datatypes.time_series.TimeSeries at 0x289be744f40>"
      ]
     },
     "execution_count": 8,
     "metadata": {},
     "output_type": "execute_result"
    }
   ],
   "source": [
    "tsr = time_series.TimeSeries(data=data_array, time=time_array, sample_period=monitor.period/1000, sample_period_unit=\"s\")\n",
    "tsr"
   ]
  },
  {
   "cell_type": "code",
   "execution_count": 9,
   "id": "839f4cac-6777-4e21-a764-abff87eb8ec5",
   "metadata": {},
   "outputs": [
    {
     "data": {
      "text/plain": [
       "4000.0"
      ]
     },
     "execution_count": 9,
     "metadata": {},
     "output_type": "execute_result"
    }
   ],
   "source": [
    "tsr.sample_rate"
   ]
  },
  {
   "cell_type": "markdown",
   "id": "4dc8c3b8-a188-4e96-98c0-c8fa639991b6",
   "metadata": {},
   "source": [
    "### Plot data using widget"
   ]
  },
  {
   "cell_type": "code",
   "execution_count": 11,
   "id": "f29cbd79-65db-42f7-acc0-946eda7d5f58",
   "metadata": {},
   "outputs": [],
   "source": [
    "director = TSWidgetFactory(data = tsr)"
   ]
  },
  {
   "cell_type": "code",
   "execution_count": 12,
   "id": "8db58e81-1f20-4dd4-9434-a3ced3a3b678",
   "metadata": {},
   "outputs": [
    {
     "name": "stdout",
     "output_type": "stream",
     "text": [
      "Creating RawArray with float64 data, n_channels=76, n_times=4096\n",
      "    Range : 0 ... 4095 =      0.000 ...     1.024 secs\n",
      "Ready.\n"
     ]
    }
   ],
   "source": [
    "ts = director.create_ts_widget()"
   ]
  },
  {
   "cell_type": "code",
   "execution_count": 13,
   "id": "e67fdd76-4c44-4b2e-9f5d-16c85f50ae79",
   "metadata": {},
   "outputs": [
    {
     "name": "stdout",
     "output_type": "stream",
     "text": [
      "Using matplotlib as 2D backend.\n"
     ]
    },
    {
     "data": {
      "application/vnd.jupyter.widget-view+json": {
       "model_id": "d2aa17992a444ebeb0fe8cfc27cf4d07",
       "version_major": 2,
       "version_minor": 0
      },
      "text/plain": [
       "GridBox(children=(Accordion(children=(VBox(children=(HBox(children=(VBox(children=(Checkbox(value=True, descri…"
      ]
     },
     "metadata": {},
     "output_type": "display_data"
    }
   ],
   "source": [
    "display(ts.get_widget())"
   ]
  },
  {
   "cell_type": "code",
   "execution_count": null,
   "id": "b4b80706-9c0c-430f-b1e6-3e7937c0a153",
   "metadata": {},
   "outputs": [],
   "source": []
  }
 ],
 "metadata": {
  "kernelspec": {
   "display_name": "Python 3 (ipykernel)",
   "language": "python",
   "name": "python3"
  },
  "language_info": {
   "codemirror_mode": {
    "name": "ipython",
    "version": 3
   },
   "file_extension": ".py",
   "mimetype": "text/x-python",
   "name": "python",
   "nbconvert_exporter": "python",
   "pygments_lexer": "ipython3",
   "version": "3.8.12"
  }
 },
 "nbformat": 4,
 "nbformat_minor": 5
}
