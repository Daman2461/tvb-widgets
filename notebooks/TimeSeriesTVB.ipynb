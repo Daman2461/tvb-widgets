{
 "cells": [
  {
   "cell_type": "markdown",
   "id": "8b1dadda-7db2-4972-ae68-e632970d799f",
   "metadata": {},
   "source": [
    "## TVB TimeSeries Widget"
   ]
  },
  {
   "cell_type": "markdown",
   "id": "02ee8661-0238-4e09-b917-a1751c07cb41",
   "metadata": {
    "tags": []
   },
   "source": [
    "#### This notebook is dedicated to showcasing the TimeSeries widget using TVB data"
   ]
  },
  {
   "cell_type": "markdown",
   "id": "f200fcab-3a53-40fa-b53d-27f86b10ba12",
   "metadata": {},
   "source": [
    "---"
   ]
  },
  {
   "cell_type": "markdown",
   "id": "badaafc5-d58b-4040-b5e9-93fcea23a753",
   "metadata": {},
   "source": [
    "### Intial setup"
   ]
  },
  {
   "cell_type": "code",
   "execution_count": 1,
   "id": "6a1a6af4-02e3-4fbc-b48b-fa4fb30b1487",
   "metadata": {},
   "outputs": [],
   "source": [
    "%load_ext autoreload\n",
    "%autoreload 2"
   ]
  },
  {
   "cell_type": "code",
   "execution_count": 2,
   "id": "512227ed-fdb3-4d39-8ecb-c799d71c8c0b",
   "metadata": {},
   "outputs": [],
   "source": [
    "%matplotlib widget"
   ]
  },
  {
   "cell_type": "code",
   "execution_count": 3,
   "id": "1906b6e6-ab82-4322-986b-d97471136d28",
   "metadata": {
    "scrolled": true,
    "tags": []
   },
   "outputs": [
    {
     "name": "stdout",
     "output_type": "stream",
     "text": [
      "10-04-2022 08:59:16 - DEBUG - tvbwidgets - Package is not fully installed\n",
      "/Users/lia.domide/WORK/TVB/tvb-widgets\n",
      "10-04-2022 08:59:16 - DEBUG - tvbwidgets - Version read from the internal package.json file\n",
      "10-04-2022 08:59:16 - INFO - tvbwidgets - Version: 0.2.0\n"
     ]
    },
    {
     "name": "stderr",
     "output_type": "stream",
     "text": [
      "/Library/Anaconda/anaconda3/envs/tvb-widgets/lib/python3.9/site-packages/tvb/datatypes/surfaces.py:63: UserWarning: Geodesic distance module is unavailable; some functionality for surfaces will be unavailable.\n",
      "  warnings.warn(msg)\n"
     ]
    }
   ],
   "source": [
    "from tvbwidgets.api import TimeSeriesWidget\n",
    "from IPython.core.display_functions import display"
   ]
  },
  {
   "cell_type": "markdown",
   "id": "82f0bc2c-c8da-405b-b7a3-1aaafea6b907",
   "metadata": {
    "tags": []
   },
   "source": [
    "### Generate TVB data"
   ]
  },
  {
   "cell_type": "markdown",
   "id": "9720d378-d94f-481d-b16f-5bc9958ef532",
   "metadata": {
    "tags": []
   },
   "source": [
    " #### A --  This TS has only 1 state variable and 1 mode:"
   ]
  },
  {
   "cell_type": "code",
   "execution_count": 4,
   "id": "dab6b019-87d9-4ace-8110-8915a178f379",
   "metadata": {},
   "outputs": [
    {
     "name": "stdout",
     "output_type": "stream",
     "text": [
      "WARNING  File 'hemispheres' not found in ZIP.\n",
      "   INFO  White noise configured with dt=0.5\n"
     ]
    },
    {
     "data": {
      "text/html": [
       "<table>\n",
       "<h3>TimeSeriesRegion</h3>\n",
       "<thead><tr><th></th><th style=\"text-align:left;width:40%\">value</th></tr></thead>\n",
       "<tbody>\n",
       "<tr><td>Dimensions</td><td style=\"text-align:left;\"><pre>('Time', 'State Variable', 'Region', 'Mode')</pre></td>\n",
       "<tr><td>Length</td><td style=\"text-align:left;\"><pre>5.0</pre></td>\n",
       "<tr><td>Region Mapping</td><td style=\"text-align:left;\"><pre>None</pre></td>\n",
       "<tr><td>Region Mapping Volume</td><td style=\"text-align:left;\"><pre>None</pre></td>\n",
       "<tr><td>Sample period</td><td style=\"text-align:left;\"><pre>0.001</pre></td>\n",
       "<tr><td>Source Connectivity</td><td style=\"text-align:left;\"><pre>Connectivity gid: 2766f988-feec-42ad-89ae-e48650d2faa9</pre></td>\n",
       "<tr><td>Time units</td><td style=\"text-align:left;\"><pre>s</pre></td>\n",
       "<tr><td>Time-series name</td><td style=\"text-align:left;\"><pre>TimeSeriesRegion gid: 76e9a330-62a5-40cf-9e93-f06a95d05329</pre></td>\n",
       "<tr><td>Time-series type</td><td style=\"text-align:left;\"><pre>TimeSeriesRegion</pre></td>\n",
       "<tr><td>[min, median, max]</td><td style=\"text-align:left;\"><pre>[-1.53398, 0.0317675, 3.65151]</pre></td>\n",
       "<tr><td>dtype</td><td style=\"text-align:left;\"><pre>float64</pre></td>\n",
       "<tr><td>shape</td><td style=\"text-align:left;\"><pre>(5000, 1, 76, 1)</pre></td>\n",
       "</tbody></table>"
      ],
      "text/plain": [
       "<tvb.datatypes.time_series.TimeSeriesRegion at 0x17108a7c0>"
      ]
     },
     "execution_count": 4,
     "metadata": {},
     "output_type": "execute_result"
    }
   ],
   "source": [
    "from tvbwidgets.tests.ts_generator import generate_ts_with_stimulus\n",
    "tsr1 = generate_ts_with_stimulus()\n",
    "tsr1"
   ]
  },
  {
   "cell_type": "markdown",
   "id": "cd112fff-4777-475e-8365-cdc4a1ed5e40",
   "metadata": {},
   "source": [
    "#### B -- Generate TVB TS data with more modes:"
   ]
  },
  {
   "cell_type": "code",
   "execution_count": 5,
   "id": "2936d8f7-17f2-43ad-9fde-054b6ce33e7b",
   "metadata": {
    "scrolled": true,
    "tags": []
   },
   "outputs": [],
   "source": [
    "from tvbwidgets.tests.ts_generator import generate_ts_with_mode_and_sv\n",
    "#tsr2 = generate_ts_with_mode_and_sv()\n",
    "#tsr2"
   ]
  },
  {
   "cell_type": "markdown",
   "id": "4dc8c3b8-a188-4e96-98c0-c8fa639991b6",
   "metadata": {},
   "source": [
    "### Plot data using our TS widget"
   ]
  },
  {
   "cell_type": "code",
   "execution_count": 6,
   "id": "f29cbd79-65db-42f7-acc0-946eda7d5f58",
   "metadata": {},
   "outputs": [
    {
     "name": "stdout",
     "output_type": "stream",
     "text": [
      "10-04-2022 08:59:27 - INFO - tvbwidgets.ui.ts_widget - Initializing TS Widget\n",
      "10-04-2022 08:59:27 - DEBUG - tvbwidgets.ui.ts_widget - Adding TVB TS for display...\n",
      "Creating RawArray with float64 data, n_channels=76, n_times=5000\n",
      "    Range : 0 ... 4999 =      0.000 ...     4.999 secs\n",
      "Ready.\n"
     ]
    }
   ],
   "source": [
    "tsw = TimeSeriesWidget()\n",
    "tsw.add_datatype(tsr1)"
   ]
  },
  {
   "cell_type": "code",
   "execution_count": 7,
   "id": "e67fdd76-4c44-4b2e-9f5d-16c85f50ae79",
   "metadata": {},
   "outputs": [
    {
     "name": "stdout",
     "output_type": "stream",
     "text": [
      "Using matplotlib as 2D backend.\n"
     ]
    },
    {
     "data": {
      "application/vnd.jupyter.widget-view+json": {
       "model_id": "d4a70307213c4193850aa2171a9d3c7a",
       "version_major": 2,
       "version_minor": 0
      },
      "text/plain": [
       "VBox(children=(Output(layout=Layout(width='auto')), HBox(children=(Accordion(children=(VBox(children=(HBox(chi…"
      ]
     },
     "metadata": {},
     "output_type": "display_data"
    }
   ],
   "source": [
    "display(tsw.get_widget())"
   ]
  },
  {
   "cell_type": "code",
   "execution_count": null,
   "id": "fa8a07fe-4963-40c5-b0ec-8cc5916debff",
   "metadata": {},
   "outputs": [],
   "source": []
  }
 ],
 "metadata": {
  "kernelspec": {
   "display_name": "Python 3",
   "language": "python",
   "name": "python3"
  },
  "language_info": {
   "codemirror_mode": {
    "name": "ipython",
    "version": 3
   },
   "file_extension": ".py",
   "mimetype": "text/x-python",
   "name": "python",
   "nbconvert_exporter": "python",
   "pygments_lexer": "ipython3",
   "version": "3.9.10"
  }
 },
 "nbformat": 4,
 "nbformat_minor": 5
}
