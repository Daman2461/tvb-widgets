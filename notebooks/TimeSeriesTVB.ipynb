{
 "cells": [
  {
   "cell_type": "markdown",
   "id": "ca52ec2e-4b7b-40ec-ad61-66a5d94e8f6a",
   "metadata": {},
   "source": [
    "## TVB TimeSeries Widget"
   ]
  },
  {
   "cell_type": "code",
   "execution_count": null,
   "id": "b66857c5-afd7-499f-8774-7ce81c840ba6",
   "metadata": {},
   "outputs": [],
   "source": [
    "%pip install --quiet --upgrade pip\n",
    "%pip install --quiet -e ..\n",
    "%pip install tvb-data"
   ]
  },
  {
   "cell_type": "markdown",
   "id": "f200fcab-3a53-40fa-b53d-27f86b10ba12",
   "metadata": {},
   "source": [
    "---"
   ]
  },
  {
   "cell_type": "markdown",
   "id": "02ee8661-0238-4e09-b917-a1751c07cb41",
   "metadata": {
    "tags": []
   },
   "source": [
    "### This notebook is dedicated to showcasing the TimeSeries widget using TVB data"
   ]
  },
  {
   "cell_type": "markdown",
   "id": "c20c5032-3deb-4ceb-a7fc-cdc4abd67335",
   "metadata": {},
   "source": [
    "### Intial setup"
   ]
  },
  {
   "cell_type": "code",
   "execution_count": null,
   "id": "6a1a6af4-02e3-4fbc-b48b-fa4fb30b1487",
   "metadata": {},
   "outputs": [],
   "source": [
    "%load_ext autoreload\n",
    "%autoreload 2\n",
    "%matplotlib widget"
   ]
  },
  {
   "cell_type": "code",
   "execution_count": null,
   "id": "1906b6e6-ab82-4322-986b-d97471136d28",
   "metadata": {
    "scrolled": true,
    "tags": []
   },
   "outputs": [],
   "source": [
    "from tvbwidgets.api import TimeSeriesWidget\n",
    "from IPython.core.display_functions import display"
   ]
  },
  {
   "cell_type": "markdown",
   "id": "82f0bc2c-c8da-405b-b7a3-1aaafea6b907",
   "metadata": {
    "tags": []
   },
   "source": [
    "### Generate TVB data"
   ]
  },
  {
   "cell_type": "markdown",
   "id": "9720d378-d94f-481d-b16f-5bc9958ef532",
   "metadata": {
    "tags": []
   },
   "source": [
    " #### A --  This TS has only 1 state variable and 1 mode:"
   ]
  },
  {
   "cell_type": "code",
   "execution_count": null,
   "id": "dab6b019-87d9-4ace-8110-8915a178f379",
   "metadata": {},
   "outputs": [],
   "source": [
    "from tvbwidgets.tests.ts_generator import generate_ts_with_stimulus\n",
    "tsr1 = generate_ts_with_stimulus()\n",
    "tsr1"
   ]
  },
  {
   "cell_type": "markdown",
   "id": "cd112fff-4777-475e-8365-cdc4a1ed5e40",
   "metadata": {},
   "source": [
    "#### B -- Generate TVB TS data with more modes:"
   ]
  },
  {
   "cell_type": "code",
   "execution_count": null,
   "id": "2936d8f7-17f2-43ad-9fde-054b6ce33e7b",
   "metadata": {
    "scrolled": true,
    "tags": []
   },
   "outputs": [],
   "source": [
    "from tvbwidgets.tests.ts_generator import generate_ts_with_mode_and_sv\n",
    "#tsr2 = generate_ts_with_mode_and_sv()\n",
    "#tsr2"
   ]
  },
  {
   "cell_type": "markdown",
   "id": "4dc8c3b8-a188-4e96-98c0-c8fa639991b6",
   "metadata": {},
   "source": [
    "### Plot data using our TS widget"
   ]
  },
  {
   "cell_type": "code",
   "execution_count": null,
   "id": "f29cbd79-65db-42f7-acc0-946eda7d5f58",
   "metadata": {},
   "outputs": [],
   "source": [
    "tsw = TimeSeriesWidget()\n",
    "tsw.add_datatype(tsr1)\n",
    "display(tsw)"
   ]
  },
  {
   "cell_type": "code",
   "execution_count": null,
   "id": "2057f6d9-9c6a-4056-b11c-252aac8fd8bb",
   "metadata": {},
   "outputs": [],
   "source": []
  }
 ],
 "metadata": {
  "kernelspec": {
   "display_name": "Python 3",
   "language": "python",
   "name": "python3"
  },
  "language_info": {
   "codemirror_mode": {
    "name": "ipython",
    "version": 3
   },
   "file_extension": ".py",
   "mimetype": "text/x-python",
   "name": "python",
   "nbconvert_exporter": "python",
   "pygments_lexer": "ipython3",
   "version": "3.9.10"
  }
 },
 "nbformat": 4,
 "nbformat_minor": 5
}