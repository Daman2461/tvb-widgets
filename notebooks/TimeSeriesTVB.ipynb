{
 "cells": [
  {
   "cell_type": "markdown",
   "id": "8b1dadda-7db2-4972-ae68-e632970d799f",
   "metadata": {},
   "source": [
    "## TVB TimeSeries Widget"
   ]
  },
  {
   "cell_type": "markdown",
   "id": "02ee8661-0238-4e09-b917-a1751c07cb41",
   "metadata": {
    "tags": []
   },
   "source": [
    "#### This notebook is dedicated to showcasing the TimeSeries widget using TVB data"
   ]
  },
  {
   "cell_type": "markdown",
   "id": "f200fcab-3a53-40fa-b53d-27f86b10ba12",
   "metadata": {},
   "source": [
    "---"
   ]
  },
  {
   "cell_type": "markdown",
   "id": "badaafc5-d58b-4040-b5e9-93fcea23a753",
   "metadata": {},
   "source": [
    "### Intial setup"
   ]
  },
  {
   "cell_type": "code",
   "execution_count": 1,
   "id": "8c44638f-cc2e-4319-b991-92b2f650ba97",
   "metadata": {},
   "outputs": [],
   "source": [
    "%load_ext autoreload\n",
    "%autoreload 2\n",
    "%matplotlib widget"
   ]
  },
  {
   "cell_type": "code",
   "execution_count": 2,
   "id": "1906b6e6-ab82-4322-986b-d97471136d28",
   "metadata": {
    "scrolled": true,
    "tags": []
   },
   "outputs": [
    {
     "name": "stdout",
     "output_type": "stream",
     "text": [
      "31-03-2022 01:45:29 - DEBUG - tvbwidgets - Package is not fully installed\n",
      "31-03-2022 01:45:29 - WARNING - tvbwidgets - Version not found, we will use fallback\n",
      "31-03-2022 01:45:29 - INFO - tvbwidgets - Version: 1.0\n"
     ]
    },
    {
     "name": "stderr",
     "output_type": "stream",
     "text": [
      "/Library/Anaconda/anaconda3/envs/tvb-widgets/lib/python3.9/site-packages/tvb/datatypes/surfaces.py:63: UserWarning: Geodesic distance module is unavailable; some functionality for surfaces will be unavailable.\n",
      "  warnings.warn(msg)\n"
     ]
    }
   ],
   "source": [
    "from tvbwidgets.api import TimeSeriesWidget, TSWidgetFactory\n",
    "from IPython.core.display_functions import display"
   ]
  },
  {
   "cell_type": "markdown",
   "id": "82f0bc2c-c8da-405b-b7a3-1aaafea6b907",
   "metadata": {
    "tags": []
   },
   "source": [
    "### Generate TVB data"
   ]
  },
  {
   "cell_type": "markdown",
   "id": "9720d378-d94f-481d-b16f-5bc9958ef532",
   "metadata": {
    "tags": []
   },
   "source": [
    " #### A --  This TS has only 1 state variable and 1 mode:"
   ]
  },
  {
   "cell_type": "code",
   "execution_count": 3,
   "id": "dab6b019-87d9-4ace-8110-8915a178f379",
   "metadata": {},
   "outputs": [
    {
     "name": "stdout",
     "output_type": "stream",
     "text": [
      "WARNING  File 'hemispheres' not found in ZIP.\n",
      "   INFO  White noise configured with dt=0.5\n"
     ]
    },
    {
     "data": {
      "text/html": [
       "<table>\n",
       "<h3>TimeSeriesRegion</h3>\n",
       "<thead><tr><th></th><th style=\"text-align:left;width:40%\">value</th></tr></thead>\n",
       "<tbody>\n",
       "<tr><td>Dimensions</td><td style=\"text-align:left;\"><pre>('Time', 'State Variable', 'Region', 'Mode')</pre></td>\n",
       "<tr><td>Length</td><td style=\"text-align:left;\"><pre>5.0</pre></td>\n",
       "<tr><td>Region Mapping</td><td style=\"text-align:left;\"><pre>None</pre></td>\n",
       "<tr><td>Region Mapping Volume</td><td style=\"text-align:left;\"><pre>None</pre></td>\n",
       "<tr><td>Sample period</td><td style=\"text-align:left;\"><pre>0.001</pre></td>\n",
       "<tr><td>Source Connectivity</td><td style=\"text-align:left;\"><pre>Connectivity gid: 1a1eee4e-63a7-43c2-a354-9deb0ea3d6d9</pre></td>\n",
       "<tr><td>Time units</td><td style=\"text-align:left;\"><pre>s</pre></td>\n",
       "<tr><td>Time-series name</td><td style=\"text-align:left;\"><pre>TimeSeriesRegion gid: 56b96e59-1d06-44c6-87a5-ba0b15bc9d21</pre></td>\n",
       "<tr><td>Time-series type</td><td style=\"text-align:left;\"><pre>TimeSeriesRegion</pre></td>\n",
       "<tr><td>[min, median, max]</td><td style=\"text-align:left;\"><pre>[-1.53398, 0.0317675, 3.65151]</pre></td>\n",
       "<tr><td>dtype</td><td style=\"text-align:left;\"><pre>float64</pre></td>\n",
       "<tr><td>shape</td><td style=\"text-align:left;\"><pre>(5000, 1, 76, 1)</pre></td>\n",
       "</tbody></table>"
      ],
      "text/plain": [
       "<tvb.datatypes.time_series.TimeSeriesRegion at 0x174dcfa00>"
      ]
     },
     "execution_count": 3,
     "metadata": {},
     "output_type": "execute_result"
    }
   ],
   "source": [
    "from tvbwidgets.tests.ts_generator import generate_ts_with_stimulus\n",
    "tsr1 = generate_ts_with_stimulus()\n",
    "tsr1"
   ]
  },
  {
   "cell_type": "markdown",
   "id": "cd112fff-4777-475e-8365-cdc4a1ed5e40",
   "metadata": {},
   "source": [
    "#### B -- Generate TVB TS data with more modes:"
   ]
  },
  {
   "cell_type": "code",
   "execution_count": 4,
   "id": "2936d8f7-17f2-43ad-9fde-054b6ce33e7b",
   "metadata": {
    "scrolled": true,
    "tags": []
   },
   "outputs": [
    {
     "name": "stdout",
     "output_type": "stream",
     "text": [
      "WARNING  File 'hemispheres' not found in ZIP.\n",
      "WARNING  random_state supplied for non-stochastic integration\n"
     ]
    },
    {
     "name": "stderr",
     "output_type": "stream",
     "text": [
      "/Library/Anaconda/anaconda3/envs/tvb-widgets/lib/python3.9/site-packages/tvb/simulator/coupling.py:375: RuntimeWarning: overflow encountered in exp\n",
      "  pre = self.cmax / (1.0 + numpy.exp(self.r * (self.midpoint - (x_j[:, 0] - x_j[:, 1]))))\n",
      "/Library/Anaconda/anaconda3/envs/tvb-widgets/lib/python3.9/site-packages/numba/np/ufunc/gufunc.py:151: RuntimeWarning: overflow encountered in _numba_dfun_jr\n",
      "  return self.ufunc(*args, **kwargs)\n"
     ]
    },
    {
     "data": {
      "text/html": [
       "<table>\n",
       "<h3>TimeSeries</h3>\n",
       "<thead><tr><th></th><th style=\"text-align:left;width:40%\">value</th></tr></thead>\n",
       "<tbody>\n",
       "<tr><td>Dimensions</td><td style=\"text-align:left;\"><pre>('Time', 'State Variable', 'Space', 'Mode')</pre></td>\n",
       "<tr><td>Length</td><td style=\"text-align:left;\"><pre>1.024</pre></td>\n",
       "<tr><td>Sample period</td><td style=\"text-align:left;\"><pre>0.00025</pre></td>\n",
       "<tr><td>Time units</td><td style=\"text-align:left;\"><pre>s</pre></td>\n",
       "<tr><td>Time-series name</td><td style=\"text-align:left;\"><pre>TimeSeries gid: 8507a135-b36f-424a-9c0d-a78b726351db</pre></td>\n",
       "<tr><td>Time-series type</td><td style=\"text-align:left;\"><pre>TimeSeries</pre></td>\n",
       "<tr><td>[min, median, max]</td><td style=\"text-align:left;\"><pre>[-3396.01, 0.1625, 3579.63]</pre></td>\n",
       "<tr><td>dtype</td><td style=\"text-align:left;\"><pre>float64</pre></td>\n",
       "<tr><td>shape</td><td style=\"text-align:left;\"><pre>(4096, 4, 76, 1)</pre></td>\n",
       "</tbody></table>"
      ],
      "text/plain": [
       "<tvb.datatypes.time_series.TimeSeries at 0x17515af10>"
      ]
     },
     "execution_count": 4,
     "metadata": {},
     "output_type": "execute_result"
    }
   ],
   "source": [
    "from tvbwidgets.tests.ts_generator import generate_ts_with_mode_and_sv\n",
    "tsr2 = generate_ts_with_mode_and_sv()\n",
    "tsr2"
   ]
  },
  {
   "cell_type": "markdown",
   "id": "4dc8c3b8-a188-4e96-98c0-c8fa639991b6",
   "metadata": {},
   "source": [
    "### Plot data using our TS widget"
   ]
  },
  {
   "cell_type": "code",
   "execution_count": 5,
   "id": "f29cbd79-65db-42f7-acc0-946eda7d5f58",
   "metadata": {},
   "outputs": [
    {
     "name": "stdout",
     "output_type": "stream",
     "text": [
      "Creating RawArray with float64 data, n_channels=76, n_times=4096\n",
      "    Range : 0 ... 4095 =      0.000 ...     1.024 secs\n",
      "Ready.\n"
     ]
    }
   ],
   "source": [
    "director = TSWidgetFactory(data = tsr2)\n",
    "tsw = director.create_ts_widget()"
   ]
  },
  {
   "cell_type": "code",
   "execution_count": 6,
   "id": "e67fdd76-4c44-4b2e-9f5d-16c85f50ae79",
   "metadata": {},
   "outputs": [
    {
     "name": "stdout",
     "output_type": "stream",
     "text": [
      "Using matplotlib as 2D backend.\n"
     ]
    },
    {
     "data": {
      "application/vnd.jupyter.widget-view+json": {
       "model_id": "aff8c186f8964b289523ddbee4d54e18",
       "version_major": 2,
       "version_minor": 0
      },
      "text/plain": [
       "GridBox(children=(Accordion(children=(VBox(children=(HBox(children=(VBox(children=(Checkbox(value=True, descri…"
      ]
     },
     "metadata": {},
     "output_type": "display_data"
    }
   ],
   "source": [
    "display(tsw.get_widget())"
   ]
  }
 ],
 "metadata": {
  "kernelspec": {
   "display_name": "Python 3",
   "language": "python",
   "name": "python3"
  },
  "language_info": {
   "codemirror_mode": {
    "name": "ipython",
    "version": 3
   },
   "file_extension": ".py",
   "mimetype": "text/x-python",
   "name": "python",
   "nbconvert_exporter": "python",
   "pygments_lexer": "ipython3",
   "version": "3.9.10"
  }
 },
 "nbformat": 4,
 "nbformat_minor": 5
}
