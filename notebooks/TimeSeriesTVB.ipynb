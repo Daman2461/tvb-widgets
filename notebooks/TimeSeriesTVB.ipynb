{
 "cells": [
  {
   "cell_type": "markdown",
   "id": "ca52ec2e-4b7b-40ec-ad61-66a5d94e8f6a",
   "metadata": {},
   "source": [
    "## TVB TimeSeries Widget"
   ]
  },
  {
   "cell_type": "code",
   "execution_count": null,
   "id": "b66857c5-afd7-499f-8774-7ce81c840ba6",
   "metadata": {},
   "outputs": [],
   "source": [
    "%pip install --quiet --upgrade pip\n",
    "%pip install --quiet -e ..\n",
    "%pip install tvb-data"
   ]
  },
  {
   "cell_type": "markdown",
   "id": "f200fcab-3a53-40fa-b53d-27f86b10ba12",
   "metadata": {},
   "source": [
    "---"
   ]
  },
  {
   "cell_type": "markdown",
   "id": "02ee8661-0238-4e09-b917-a1751c07cb41",
   "metadata": {
    "tags": []
   },
   "source": [
    "### This notebook is dedicated to showcasing the TimeSeries widget using TVB data"
   ]
  },
  {
   "cell_type": "markdown",
   "id": "b69dc696-6b9a-4684-b094-639f071a878e",
   "metadata": {},
   "source": [
    "### A. Generate data with command line interface and plot it"
   ]
  },
  {
   "cell_type": "markdown",
   "id": "c20c5032-3deb-4ceb-a7fc-cdc4abd67335",
   "metadata": {},
   "source": [
    "### Intial setup"
   ]
  },
  {
   "cell_type": "code",
   "execution_count": 1,
   "id": "6a1a6af4-02e3-4fbc-b48b-fa4fb30b1487",
   "metadata": {},
   "outputs": [],
   "source": [
    "%load_ext autoreload\n",
    "%autoreload 2\n",
    "%matplotlib widget"
   ]
  },
  {
   "cell_type": "code",
   "execution_count": null,
   "id": "1906b6e6-ab82-4322-986b-d97471136d28",
   "metadata": {
    "scrolled": true,
    "tags": []
   },
   "outputs": [],
   "source": [
    "from tvbwidgets.api import TimeSeriesWidget\n",
    "from IPython.core.display_functions import display"
   ]
  },
  {
   "cell_type": "markdown",
   "id": "82f0bc2c-c8da-405b-b7a3-1aaafea6b907",
   "metadata": {
    "tags": []
   },
   "source": [
    "### Generate TVB data"
   ]
  },
  {
   "cell_type": "markdown",
   "id": "9720d378-d94f-481d-b16f-5bc9958ef532",
   "metadata": {
    "tags": []
   },
   "source": [
    " #### 1 --  This TS has only 1 state variable and 1 mode:"
   ]
  },
  {
   "cell_type": "code",
   "execution_count": 3,
   "id": "dab6b019-87d9-4ace-8110-8915a178f379",
   "metadata": {},
   "outputs": [],
   "source": [
    "from tvbwidgets.tests.ts_generator import generate_ts_with_stimulus\n",
    "from tvb.simulator.lab import connectivity\n",
    "# tsr1 = generate_ts_with_stimulus(conn=connectivity.Connectivity.from_file())\n",
    "# tsr1"
   ]
  },
  {
   "cell_type": "markdown",
   "id": "cd112fff-4777-475e-8365-cdc4a1ed5e40",
   "metadata": {},
   "source": [
    "#### 2 -- Generate TVB TS data with more modes:"
   ]
  },
  {
   "cell_type": "code",
   "execution_count": 4,
   "id": "2936d8f7-17f2-43ad-9fde-054b6ce33e7b",
   "metadata": {
    "scrolled": true,
    "tags": []
   },
   "outputs": [
    {
     "name": "stdout",
     "output_type": "stream",
     "text": [
      "WARNING  File 'hemispheres' not found in ZIP.\n"
     ]
    },
    {
     "name": "stderr",
     "output_type": "stream",
     "text": [
      "/Users/pipeline/anaconda/anaconda3/envs/tvb-widgets/lib/python3.8/site-packages/numba/np/ufunc/gufunc.py:170: RuntimeWarning: overflow encountered in _numba_dfun_jr\n",
      "  return self.ufunc(*args, **kwargs)\n",
      "/Users/pipeline/WORK/TVB_GIT/tvb-root/tvb_library/tvb/simulator/coupling.py:372: RuntimeWarning: overflow encountered in exp\n",
      "  (self.cmax - self.cmin) / (1.0 + numpy.exp(self.r * (self.midpoint - (x_j[:, 0] - x_j[:, 1]))))\n"
     ]
    },
    {
     "data": {
      "text/html": [
       "<table>\n",
       "<h3>TimeSeriesRegion</h3>\n",
       "<thead><tr><th></th><th style=\"text-align:left;width:40%\">value</th></tr></thead>\n",
       "<tbody>\n",
       "<tr><td>Dimensions</td><td style=\"text-align:left;\"><pre>('Time', 'State Variable', 'Region', 'Mode')</pre></td>\n",
       "<tr><td>Length</td><td style=\"text-align:left;\"><pre>5.0</pre></td>\n",
       "<tr><td>Region Mapping</td><td style=\"text-align:left;\"><pre>None</pre></td>\n",
       "<tr><td>Region Mapping Volume</td><td style=\"text-align:left;\"><pre>None</pre></td>\n",
       "<tr><td>Sample period</td><td style=\"text-align:left;\"><pre>0.00025</pre></td>\n",
       "<tr><td>Source Connectivity</td><td style=\"text-align:left;\"><pre>Connectivity gid: c9bbff9d-67a4-48b4-8806-bab59c96c65a</pre></td>\n",
       "<tr><td>Start time</td><td style=\"text-align:left;\"><pre>0.500125</pre></td>\n",
       "<tr><td>Time units</td><td style=\"text-align:left;\"><pre>s</pre></td>\n",
       "<tr><td>Time-series name</td><td style=\"text-align:left;\"><pre>TimeSeriesRegion gid: 6189f0c1-6b60-4421-947a-64741a839fd7</pre></td>\n",
       "<tr><td>Time-series type</td><td style=\"text-align:left;\"><pre>TimeSeriesRegion</pre></td>\n",
       "<tr><td>[min, median, max]</td><td style=\"text-align:left;\"><pre>[-2.23265, 1.21413, 128.283]</pre></td>\n",
       "<tr><td>dtype</td><td style=\"text-align:left;\"><pre>float64</pre></td>\n",
       "<tr><td>shape</td><td style=\"text-align:left;\"><pre>(20000, 4, 76, 1)</pre></td>\n",
       "</tbody></table>"
      ],
      "text/plain": [
       "<tvb.datatypes.time_series.TimeSeriesRegion at 0x7f8735481a60>"
      ]
     },
     "execution_count": 4,
     "metadata": {},
     "output_type": "execute_result"
    }
   ],
   "source": [
    "from tvbwidgets.tests.ts_generator import generate_ts_with_mode_and_sv\n",
    "tsr2 = generate_ts_with_mode_and_sv(conn=connectivity.Connectivity.from_file())\n",
    "tsr2"
   ]
  },
  {
   "cell_type": "markdown",
   "id": "4dc8c3b8-a188-4e96-98c0-c8fa639991b6",
   "metadata": {},
   "source": [
    "### Plot data using our TS widget"
   ]
  },
  {
   "cell_type": "code",
   "execution_count": 5,
   "id": "f29cbd79-65db-42f7-acc0-946eda7d5f58",
   "metadata": {},
   "outputs": [
    {
     "name": "stdout",
     "output_type": "stream",
     "text": [
      "23-01-2023 09:54:29 - INFO - tvbwidgets.ui.ts_widget - TimeSeries Widget initialized\n",
      "23-01-2023 09:54:29 - DEBUG - tvbwidgets.ui.ts_widget - Adding TVB TS for display...\n",
      "Creating RawArray with float64 data, n_channels=76, n_times=20000\n",
      "    Range : 2000 ... 21999 =      0.500 ...     5.500 secs\n",
      "Ready.\n",
      "Using matplotlib as 2D backend.\n"
     ]
    },
    {
     "data": {
      "application/vnd.jupyter.widget-view+json": {
       "model_id": "739bbe2024a04928bbb101d97b1cb19f",
       "version_major": 2,
       "version_minor": 0
      },
      "text/plain": [
       "TimeSeriesWidget(children=(Output(layout=Layout(width='auto')), HBox(children=(Label(value='Channel values:'),…"
      ]
     },
     "metadata": {},
     "output_type": "display_data"
    }
   ],
   "source": [
    "tsw = TimeSeriesWidget()\n",
    "tsw.add_datatype(tsr2)\n",
    "display(tsw)"
   ]
  },
  {
   "cell_type": "markdown",
   "id": "c0d4cca0-cf36-4bb0-8559-daf16d665f21",
   "metadata": {},
   "source": [
    "### B. Loading data from Drive with GUI"
   ]
  },
  {
   "cell_type": "code",
   "execution_count": 1,
   "id": "59e380bb-4f56-4e6b-a447-f0314021c59c",
   "metadata": {},
   "outputs": [],
   "source": [
    "%load_ext autoreload\n",
    "%autoreload 2\n",
    "%matplotlib widget"
   ]
  },
  {
   "cell_type": "code",
   "execution_count": 3,
   "id": "2057f6d9-9c6a-4056-b11c-252aac8fd8bb",
   "metadata": {},
   "outputs": [
    {
     "name": "stdout",
     "output_type": "stream",
     "text": [
      "23-01-2023 09:59:25 - INFO - tvbwidgets.core.auth - We could not find Collab Auth Token, we will search for env CLB_AUTH variable\n",
      "23-01-2023 09:59:25 - INFO - tvbwidgets.core.auth - We found Collab Auth in environment!\n",
      "23-01-2023 09:59:26 - INFO - tvbwidgets.ui.ts_widget - TimeSeries Widget initialized\n"
     ]
    },
    {
     "data": {
      "application/vnd.jupyter.widget-view+json": {
       "model_id": "7394569c5078453881b8597cc3989685",
       "version_major": 2,
       "version_minor": 0
      },
      "text/plain": [
       "TimeSeriesBrowser(children=(StorageWidget(children=(VBox(), DriveWidget(children=(Dropdown(description='Reposi…"
      ]
     },
     "metadata": {},
     "output_type": "display_data"
    }
   ],
   "source": [
    "from tvbwidgets.api import TimeSeriesWidget, TimeSeriesBrowser\n",
    "from IPython.core.display_functions import display\n",
    "\n",
    "tsb = TimeSeriesBrowser()\n",
    "display(tsb)"
   ]
  },
  {
   "cell_type": "code",
   "execution_count": null,
   "id": "c1ffa94a-2fd9-4209-8a4e-f74e461e04b7",
   "metadata": {},
   "outputs": [],
   "source": []
  }
 ],
 "metadata": {
  "kernelspec": {
   "display_name": "Python 3 (ipykernel)",
   "language": "python",
   "name": "python3"
  },
  "language_info": {
   "codemirror_mode": {
    "name": "ipython",
    "version": 3
   },
   "file_extension": ".py",
   "mimetype": "text/x-python",
   "name": "python",
   "nbconvert_exporter": "python",
   "pygments_lexer": "ipython3",
   "version": "3.8.13"
  }
 },
 "nbformat": 4,
 "nbformat_minor": 5
}
