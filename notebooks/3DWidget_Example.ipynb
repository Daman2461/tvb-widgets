{
 "cells": [
  {
   "cell_type": "code",
   "execution_count": 1,
   "id": "ea32325b-f1c4-4e78-b893-b1fc5c36cd1b",
   "metadata": {},
   "outputs": [
    {
     "name": "stdout",
     "output_type": "stream",
     "text": [
      "30-03-2022 10:52:20 - DEBUG - tvbwidgets - Package is not fully installed\n",
      "30-03-2022 10:52:20 - WARNING - tvbwidgets - Version not found, we will use fallback\n",
      "30-03-2022 10:52:20 - INFO - tvbwidgets - Version: 1.0\n",
      "2022-03-30 10:52:21,964 - WARNING - tvb.simulator.common - psutil module not available: no warnings will be issued when a\n",
      "    simulation may require more memory than available\n",
      "   INFO  log level set to INFO\n"
     ]
    },
    {
     "name": "stderr",
     "output_type": "stream",
     "text": [
      "/Users/pipeline/anaconda/anaconda3/envs/3dplots/lib/python3.10/site-packages/tvb/datatypes/surfaces.py:63: UserWarning: Geodesic distance module is unavailable; some functionality for surfaces will be unavailable.\n",
      "  warnings.warn(msg)\n"
     ]
    }
   ],
   "source": [
    "from tvbwidgets.ui.threed_widget import ThreeDWidget, Config\n",
    "from tvb.simulator.lab import *\n",
    "from IPython.core.display_functions import display"
   ]
  },
  {
   "cell_type": "code",
   "execution_count": 2,
   "id": "2bfd8e45-cfe1-44f4-b934-823716e27fad",
   "metadata": {},
   "outputs": [
    {
     "name": "stderr",
     "output_type": "stream",
     "text": [
      "/Users/pipeline/anaconda/anaconda3/envs/3dplots/lib/python3.10/site-packages/tvb/basic/readers.py:126: UserWarning: loadtxt: Empty input file: \"<zipfile.ZipExtFile name='vertex_normals.txt' mode='r' compress_type=deflate>\"\n",
      "  array_result = numpy.loadtxt(file_stream, dtype=dtype, skiprows=skip_rows, usecols=use_cols)\n"
     ]
    },
    {
     "name": "stdout",
     "output_type": "stream",
     "text": [
      "WARNING  File 'hemispheres' not found in ZIP.\n"
     ]
    }
   ],
   "source": [
    "surface = surfaces.Surface.from_file()\n",
    "surface.configure()\n",
    "\n",
    "face = surfaces.Surface.from_file('face_8614.zip')\n",
    "face.configure()\n",
    "\n",
    "reg_map = region_mapping.RegionMapping.from_file()\n",
    "\n",
    "conn = connectivity.Connectivity.from_file()\n",
    "conn.configure()\n",
    "\n",
    "seeg = sensors.SensorsInternal.from_file()\n",
    "seeg.configure()"
   ]
  },
  {
   "cell_type": "code",
   "execution_count": 3,
   "id": "aa76e23c-bc9e-4bdf-bd83-e68487b0aa28",
   "metadata": {},
   "outputs": [],
   "source": [
    "wid = ThreeDWidget()"
   ]
  },
  {
   "cell_type": "code",
   "execution_count": 4,
   "id": "0b6c41e9-8a03-4996-929f-3ebbafadcc49",
   "metadata": {},
   "outputs": [
    {
     "data": {
      "application/vnd.jupyter.widget-view+json": {
       "model_id": "e629ca0532b04483a455846e0ba6d0b0",
       "version_major": 2,
       "version_minor": 0
      },
      "text/plain": [
       "ThreeDWidget(children=(VBox(children=(Label(value='Display controls: '),)), VBox(children=(VBox(), CustomOutpu…"
      ]
     },
     "metadata": {},
     "output_type": "display_data"
    }
   ],
   "source": [
    "display(wid)"
   ]
  },
  {
   "cell_type": "code",
   "execution_count": 5,
   "id": "1493cd7b-71e2-4a34-9364-7ffaed368acb",
   "metadata": {},
   "outputs": [],
   "source": [
    "config = Config(name='Cortex')\n",
    "config.add_region_mapping_as_cmap(reg_map)"
   ]
  },
  {
   "cell_type": "code",
   "execution_count": 6,
   "id": "000e4e2c-b7b4-48b7-9f5b-bcc85cac5f40",
   "metadata": {},
   "outputs": [
    {
     "data": {
      "text/plain": [
       "{'name': 'Actor',\n",
       " 'style': 'Surface',\n",
       " 'color': 'White',\n",
       " 'light': True,\n",
       " 'size': 1500,\n",
       " 'cmap': 'fire',\n",
       " 'scalars': array([36, 36, 36, ..., 68, 67, 68])}"
      ]
     },
     "execution_count": 6,
     "metadata": {},
     "output_type": "execute_result"
    }
   ],
   "source": [
    "config.__dict__"
   ]
  },
  {
   "cell_type": "code",
   "execution_count": 7,
   "id": "fad7a0df-ffe2-4c94-b0f4-a1e828d34b50",
   "metadata": {},
   "outputs": [],
   "source": [
    "wid.add_datatype(surface, config)"
   ]
  },
  {
   "cell_type": "code",
   "execution_count": 8,
   "id": "9b97202b-1413-4d34-98c2-250eb7a0bfdf",
   "metadata": {},
   "outputs": [],
   "source": [
    "wid.add_datatype(face, Config(name='Face'))"
   ]
  },
  {
   "cell_type": "code",
   "execution_count": 9,
   "id": "4645f79a-ea18-451a-b6b2-4b6d57d3c726",
   "metadata": {},
   "outputs": [],
   "source": [
    "wid.add_datatype(conn)"
   ]
  },
  {
   "cell_type": "code",
   "execution_count": 10,
   "id": "8dfeec2a-8cc6-46be-9a7b-f46fd7787df2",
   "metadata": {},
   "outputs": [],
   "source": [
    "wid.add_datatype(seeg)"
   ]
  },
  {
   "cell_type": "code",
   "execution_count": 11,
   "id": "ce09b5c2-043e-4207-9048-effcf044b394",
   "metadata": {},
   "outputs": [
    {
     "name": "stdout",
     "output_type": "stream",
     "text": [
      "30-03-2022 10:52:35 - INFO - tvbwidgets.ui.threed_widget - RegionMapping should be given as cmap in the config parameter!\n"
     ]
    }
   ],
   "source": [
    "wid.add_datatype(reg_map)"
   ]
  },
  {
   "cell_type": "code",
   "execution_count": null,
   "id": "64a28aa8-7b21-4c28-9bf3-ff1d82d2ded7",
   "metadata": {},
   "outputs": [],
   "source": []
  }
 ],
 "metadata": {
  "kernelspec": {
   "display_name": "Python 3 (ipykernel)",
   "language": "python",
   "name": "python3"
  },
  "language_info": {
   "codemirror_mode": {
    "name": "ipython",
    "version": 3
   },
   "file_extension": ".py",
   "mimetype": "text/x-python",
   "name": "python",
   "nbconvert_exporter": "python",
   "pygments_lexer": "ipython3",
   "version": "3.10.2"
  }
 },
 "nbformat": 4,
 "nbformat_minor": 5
}
