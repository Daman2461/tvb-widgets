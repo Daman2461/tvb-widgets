{
 "cells": [
  {
   "cell_type": "code",
   "execution_count": 1,
   "id": "f9b212e7-dd09-4310-83e9-b067bcf9c8ad",
   "metadata": {},
   "outputs": [
    {
     "name": "stdout",
     "output_type": "stream",
     "text": [
      "01-09-2022 12:39:35 - DEBUG - tvbwidgets - Package is not fully installed\n",
      "C:\\Users\\david.bacter\\PycharmProjects\\tvb-widgets\n",
      "01-09-2022 12:39:35 - DEBUG - tvbwidgets - Version read from the internal package.json file\n",
      "01-09-2022 12:39:35 - INFO - tvbwidgets - Version: 0.2.3\n",
      "2022-09-01 12:39:37,378 - WARNING - tvb.simulator.common - psutil module not available: no warnings will be issued when a\n",
      "    simulation may require more memory than available\n",
      "   INFO  log level set to INFO\n"
     ]
    },
    {
     "name": "stderr",
     "output_type": "stream",
     "text": [
      "C:\\Users\\david.bacter\\Anaconda3\\envs\\tvb-widgets\\lib\\site-packages\\tvb\\datatypes\\surfaces.py:64: UserWarning: Geodesic distance module is unavailable; some functionality for surfaces will be unavailable.\n",
      "  warnings.warn(msg)\n"
     ]
    }
   ],
   "source": [
    "from tvbwidgets.ui.phase_plane_widget import PhasePlaneWidget "
   ]
  },
  {
   "cell_type": "code",
   "execution_count": 2,
   "id": "1eaef5e4-83b7-45f1-b7e0-702eeec126ea",
   "metadata": {},
   "outputs": [],
   "source": [
    "w = PhasePlaneWidget()"
   ]
  },
  {
   "cell_type": "code",
   "execution_count": 3,
   "id": "0311343b-e21c-4d92-970c-873be34c9c58",
   "metadata": {},
   "outputs": [
    {
     "data": {
      "application/vnd.jupyter.widget-view+json": {
       "model_id": "5f9aa3b0866b49f59e98b9728c42c205",
       "version_major": 2,
       "version_minor": 0
      },
      "text/plain": [
       "VBox(children=(GridBox(children=(VBox(children=(Button(description='Reset parameters', layout=Layout(width='90…"
      ]
     },
     "metadata": {},
     "output_type": "display_data"
    }
   ],
   "source": [
    "w.get_widget()"
   ]
  },
  {
   "cell_type": "code",
   "execution_count": 4,
   "id": "4b835212-0f15-4670-a5b8-2fc83bf506c3",
   "metadata": {},
   "outputs": [
    {
     "name": "stdout",
     "output_type": "stream",
     "text": [
      "01-09-2022 12:39:39 - INFO - tvbwidgets.ui.phase_plane_widget - Saved configuration config_10 to model_config.json\n"
     ]
    }
   ],
   "source": [
    "w.export_json_config()"
   ]
  },
  {
   "cell_type": "code",
   "execution_count": 5,
   "id": "742861c7-c0e9-409b-9627-4b8f99862d80",
   "metadata": {},
   "outputs": [
    {
     "data": {
      "text/html": [
       "<table>\n",
       "<h3>Generic2dOscillator</h3>\n",
       "<thead><tr><th></th><th style=\"text-align:left;width:40%\">value</th></tr></thead>\n",
       "<tbody>\n",
       "<tr><td>I [min, median, max]</td><td style=\"text-align:left;\"><pre>[0, 0, 0]</pre></td>\n",
       "<tr><td>I dtype</td><td style=\"text-align:left;\"><pre>float64</pre></td>\n",
       "<tr><td>I shape</td><td style=\"text-align:left;\"><pre>()</pre></td>\n",
       "<tr><td>Type</td><td style=\"text-align:left;\"><pre>Generic2dOscillator</pre></td>\n",
       "<tr><td>a [min, median, max]</td><td style=\"text-align:left;\"><pre>[-2, -2, -2]</pre></td>\n",
       "<tr><td>a dtype</td><td style=\"text-align:left;\"><pre>float64</pre></td>\n",
       "<tr><td>a shape</td><td style=\"text-align:left;\"><pre>()</pre></td>\n",
       "<tr><td>alpha [min, median, max]</td><td style=\"text-align:left;\"><pre>[1, 1, 1]</pre></td>\n",
       "<tr><td>alpha dtype</td><td style=\"text-align:left;\"><pre>float64</pre></td>\n",
       "<tr><td>alpha shape</td><td style=\"text-align:left;\"><pre>()</pre></td>\n",
       "<tr><td>b [min, median, max]</td><td style=\"text-align:left;\"><pre>[-10, -10, -10]</pre></td>\n",
       "<tr><td>b dtype</td><td style=\"text-align:left;\"><pre>float64</pre></td>\n",
       "<tr><td>b shape</td><td style=\"text-align:left;\"><pre>()</pre></td>\n",
       "<tr><td>beta [min, median, max]</td><td style=\"text-align:left;\"><pre>[1, 1, 1]</pre></td>\n",
       "<tr><td>beta dtype</td><td style=\"text-align:left;\"><pre>float64</pre></td>\n",
       "<tr><td>beta shape</td><td style=\"text-align:left;\"><pre>()</pre></td>\n",
       "<tr><td>c [min, median, max]</td><td style=\"text-align:left;\"><pre>[0, 0, 0]</pre></td>\n",
       "<tr><td>c dtype</td><td style=\"text-align:left;\"><pre>float64</pre></td>\n",
       "<tr><td>c shape</td><td style=\"text-align:left;\"><pre>()</pre></td>\n",
       "<tr><td>d [min, median, max]</td><td style=\"text-align:left;\"><pre>[0.02, 0.02, 0.02]</pre></td>\n",
       "<tr><td>d dtype</td><td style=\"text-align:left;\"><pre>float64</pre></td>\n",
       "<tr><td>d shape</td><td style=\"text-align:left;\"><pre>()</pre></td>\n",
       "<tr><td>e [min, median, max]</td><td style=\"text-align:left;\"><pre>[3, 3, 3]</pre></td>\n",
       "<tr><td>e dtype</td><td style=\"text-align:left;\"><pre>float64</pre></td>\n",
       "<tr><td>e shape</td><td style=\"text-align:left;\"><pre>()</pre></td>\n",
       "<tr><td>f [min, median, max]</td><td style=\"text-align:left;\"><pre>[1, 1, 1]</pre></td>\n",
       "<tr><td>f dtype</td><td style=\"text-align:left;\"><pre>float64</pre></td>\n",
       "<tr><td>f shape</td><td style=\"text-align:left;\"><pre>()</pre></td>\n",
       "<tr><td>g [min, median, max]</td><td style=\"text-align:left;\"><pre>[0, 0, 0]</pre></td>\n",
       "<tr><td>g dtype</td><td style=\"text-align:left;\"><pre>float64</pre></td>\n",
       "<tr><td>g shape</td><td style=\"text-align:left;\"><pre>()</pre></td>\n",
       "<tr><td>gamma [min, median, max]</td><td style=\"text-align:left;\"><pre>[1, 1, 1]</pre></td>\n",
       "<tr><td>gamma dtype</td><td style=\"text-align:left;\"><pre>float64</pre></td>\n",
       "<tr><td>gamma shape</td><td style=\"text-align:left;\"><pre>()</pre></td>\n",
       "<tr><td>gid</td><td style=\"text-align:left;\"><pre>UUID('63fbf3c4-c52f-40f0-a43d-8819a3ce83d7')</pre></td>\n",
       "<tr><td>state_variable_range</td><td style=\"text-align:left;\"><pre>{'V': array([-2.,  4.]), 'W': array([-6.,  6.])}</pre></td>\n",
       "<tr><td>tau [min, median, max]</td><td style=\"text-align:left;\"><pre>[1, 1, 1]</pre></td>\n",
       "<tr><td>tau dtype</td><td style=\"text-align:left;\"><pre>float64</pre></td>\n",
       "<tr><td>tau shape</td><td style=\"text-align:left;\"><pre>()</pre></td>\n",
       "<tr><td>title</td><td style=\"text-align:left;\"><pre>Generic2dOscillator gid: 63fbf3c4-c52f-40f0-a43d-8819a3ce83d7</pre></td>\n",
       "<tr><td>variables_of_interest</td><td style=\"text-align:left;\"><pre>('V',)</pre></td>\n",
       "</tbody></table>"
      ],
      "text/plain": [
       "<tvb.simulator.models.oscillator.Generic2dOscillator at 0x1e8d678ebc0>"
      ]
     },
     "execution_count": 5,
     "metadata": {},
     "output_type": "execute_result"
    }
   ],
   "source": [
    "model_instance = w.get_model_instance('config_2')\n",
    "model_instance"
   ]
  },
  {
   "cell_type": "code",
   "execution_count": 6,
   "id": "e30afa1d-ef2c-4d6e-8e15-66d9b86a49a0",
   "metadata": {},
   "outputs": [
    {
     "name": "stdout",
     "output_type": "stream",
     "text": [
      "helo\n"
     ]
    },
    {
     "data": {
      "text/html": [
       "<table>\n",
       "<h3>Generic2dOscillator</h3>\n",
       "<thead><tr><th></th><th style=\"text-align:left;width:40%\">value</th></tr></thead>\n",
       "<tbody>\n",
       "<tr><td>I [min, median, max]</td><td style=\"text-align:left;\"><pre>[0, 0, 0]</pre></td>\n",
       "<tr><td>I dtype</td><td style=\"text-align:left;\"><pre>float64</pre></td>\n",
       "<tr><td>I shape</td><td style=\"text-align:left;\"><pre>()</pre></td>\n",
       "<tr><td>Type</td><td style=\"text-align:left;\"><pre>Generic2dOscillator</pre></td>\n",
       "<tr><td>a [min, median, max]</td><td style=\"text-align:left;\"><pre>[-2, -2, -2]</pre></td>\n",
       "<tr><td>a dtype</td><td style=\"text-align:left;\"><pre>float64</pre></td>\n",
       "<tr><td>a shape</td><td style=\"text-align:left;\"><pre>()</pre></td>\n",
       "<tr><td>alpha [min, median, max]</td><td style=\"text-align:left;\"><pre>[1, 1, 1]</pre></td>\n",
       "<tr><td>alpha dtype</td><td style=\"text-align:left;\"><pre>float64</pre></td>\n",
       "<tr><td>alpha shape</td><td style=\"text-align:left;\"><pre>()</pre></td>\n",
       "<tr><td>b [min, median, max]</td><td style=\"text-align:left;\"><pre>[-10, -10, -10]</pre></td>\n",
       "<tr><td>b dtype</td><td style=\"text-align:left;\"><pre>float64</pre></td>\n",
       "<tr><td>b shape</td><td style=\"text-align:left;\"><pre>()</pre></td>\n",
       "<tr><td>beta [min, median, max]</td><td style=\"text-align:left;\"><pre>[1, 1, 1]</pre></td>\n",
       "<tr><td>beta dtype</td><td style=\"text-align:left;\"><pre>float64</pre></td>\n",
       "<tr><td>beta shape</td><td style=\"text-align:left;\"><pre>()</pre></td>\n",
       "<tr><td>c [min, median, max]</td><td style=\"text-align:left;\"><pre>[0, 0, 0]</pre></td>\n",
       "<tr><td>c dtype</td><td style=\"text-align:left;\"><pre>float64</pre></td>\n",
       "<tr><td>c shape</td><td style=\"text-align:left;\"><pre>()</pre></td>\n",
       "<tr><td>d [min, median, max]</td><td style=\"text-align:left;\"><pre>[0.02, 0.02, 0.02]</pre></td>\n",
       "<tr><td>d dtype</td><td style=\"text-align:left;\"><pre>float64</pre></td>\n",
       "<tr><td>d shape</td><td style=\"text-align:left;\"><pre>()</pre></td>\n",
       "<tr><td>e [min, median, max]</td><td style=\"text-align:left;\"><pre>[3, 3, 3]</pre></td>\n",
       "<tr><td>e dtype</td><td style=\"text-align:left;\"><pre>float64</pre></td>\n",
       "<tr><td>e shape</td><td style=\"text-align:left;\"><pre>()</pre></td>\n",
       "<tr><td>f [min, median, max]</td><td style=\"text-align:left;\"><pre>[1, 1, 1]</pre></td>\n",
       "<tr><td>f dtype</td><td style=\"text-align:left;\"><pre>float64</pre></td>\n",
       "<tr><td>f shape</td><td style=\"text-align:left;\"><pre>()</pre></td>\n",
       "<tr><td>g [min, median, max]</td><td style=\"text-align:left;\"><pre>[0, 0, 0]</pre></td>\n",
       "<tr><td>g dtype</td><td style=\"text-align:left;\"><pre>float64</pre></td>\n",
       "<tr><td>g shape</td><td style=\"text-align:left;\"><pre>()</pre></td>\n",
       "<tr><td>gamma [min, median, max]</td><td style=\"text-align:left;\"><pre>[1, 1, 1]</pre></td>\n",
       "<tr><td>gamma dtype</td><td style=\"text-align:left;\"><pre>float64</pre></td>\n",
       "<tr><td>gamma shape</td><td style=\"text-align:left;\"><pre>()</pre></td>\n",
       "<tr><td>gid</td><td style=\"text-align:left;\"><pre>UUID('f279fdb6-a94a-4a62-8a28-dbea35c5bb79')</pre></td>\n",
       "<tr><td>state_variable_range</td><td style=\"text-align:left;\"><pre>{'V': array([-2.,  4.]), 'W': array([-6.,  6.])}</pre></td>\n",
       "<tr><td>tau [min, median, max]</td><td style=\"text-align:left;\"><pre>[1, 1, 1]</pre></td>\n",
       "<tr><td>tau dtype</td><td style=\"text-align:left;\"><pre>float64</pre></td>\n",
       "<tr><td>tau shape</td><td style=\"text-align:left;\"><pre>()</pre></td>\n",
       "<tr><td>title</td><td style=\"text-align:left;\"><pre>Generic2dOscillator gid: f279fdb6-a94a-4a62-8a28-dbea35c5bb79</pre></td>\n",
       "<tr><td>variables_of_interest</td><td style=\"text-align:left;\"><pre>('V',)</pre></td>\n",
       "</tbody></table>"
      ],
      "text/plain": [
       "<tvb.simulator.models.oscillator.Generic2dOscillator at 0x1e8d8d5f3a0>"
      ]
     },
     "execution_count": 6,
     "metadata": {},
     "output_type": "execute_result"
    }
   ],
   "source": [
    "from ert import get_instance\n",
    "get_instance()"
   ]
  },
  {
   "cell_type": "code",
   "execution_count": null,
   "id": "44ce48e8-6f1c-4c34-82ed-2363b49aa59d",
   "metadata": {},
   "outputs": [],
   "source": []
  },
  {
   "cell_type": "code",
   "execution_count": null,
   "id": "3648541d-dfc6-44a7-9f47-7d7178076342",
   "metadata": {},
   "outputs": [],
   "source": []
  }
 ],
 "metadata": {
  "kernelspec": {
   "display_name": "Python 3 (ipykernel)",
   "language": "python",
   "name": "python3"
  },
  "language_info": {
   "codemirror_mode": {
    "name": "ipython",
    "version": 3
   },
   "file_extension": ".py",
   "mimetype": "text/x-python",
   "name": "python",
   "nbconvert_exporter": "python",
   "pygments_lexer": "ipython3",
   "version": "3.10.2"
  }
 },
 "nbformat": 4,
 "nbformat_minor": 5
}
