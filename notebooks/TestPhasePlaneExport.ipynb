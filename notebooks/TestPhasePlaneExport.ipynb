{
 "cells": [
  {
   "cell_type": "code",
   "execution_count": 1,
   "id": "f9b212e7-dd09-4310-83e9-b067bcf9c8ad",
   "metadata": {},
   "outputs": [
    {
     "name": "stdout",
     "output_type": "stream",
     "text": [
      "13-09-2022 10:54:19 - DEBUG - tvbwidgets - Package is not fully installed\n",
      "C:\\Users\\david.bacter\\PycharmProjects\\tvb-widgets\n",
      "13-09-2022 10:54:19 - DEBUG - tvbwidgets - Version read from the internal package.json file\n",
      "13-09-2022 10:54:19 - INFO - tvbwidgets - Version: 0.2.3\n",
      "2022-09-13 10:54:20,726 - WARNING - tvb.simulator.common - psutil module not available: no warnings will be issued when a\n",
      "    simulation may require more memory than available\n",
      "   INFO  log level set to INFO\n"
     ]
    },
    {
     "name": "stderr",
     "output_type": "stream",
     "text": [
      "C:\\Users\\david.bacter\\Anaconda3\\envs\\tvb-widgets\\lib\\site-packages\\tvb\\datatypes\\surfaces.py:64: UserWarning: Geodesic distance module is unavailable; some functionality for surfaces will be unavailable.\n",
      "  warnings.warn(msg)\n"
     ]
    }
   ],
   "source": [
    "from tvbwidgets.ui.phase_plane_widget import PhasePlaneWidget \n",
    "from tvb.simulator.models import SupHopf"
   ]
  },
  {
   "cell_type": "code",
   "execution_count": 2,
   "id": "1eaef5e4-83b7-45f1-b7e0-702eeec126ea",
   "metadata": {},
   "outputs": [],
   "source": [
    "w = PhasePlaneWidget(model=SupHopf())"
   ]
  },
  {
   "cell_type": "code",
   "execution_count": 3,
   "id": "0311343b-e21c-4d92-970c-873be34c9c58",
   "metadata": {},
   "outputs": [
    {
     "data": {
      "application/vnd.jupyter.widget-view+json": {
       "model_id": "6bac454640e14e86b0cb5ea3166c56d0",
       "version_major": 2,
       "version_minor": 0
      },
      "text/plain": [
       "VBox(children=(GridBox(children=(VBox(children=(Button(description='Reset parameters', layout=Layout(width='90…"
      ]
     },
     "metadata": {},
     "output_type": "display_data"
    }
   ],
   "source": [
    "w.get_widget()"
   ]
  },
  {
   "cell_type": "code",
   "execution_count": null,
   "id": "78b4f91c-d765-4fe5-a8f3-51512de984d7",
   "metadata": {},
   "outputs": [],
   "source": []
  }
 ],
 "metadata": {
  "kernelspec": {
   "display_name": "Python 3 (ipykernel)",
   "language": "python",
   "name": "python3"
  },
  "language_info": {
   "codemirror_mode": {
    "name": "ipython",
    "version": 3
   },
   "file_extension": ".py",
   "mimetype": "text/x-python",
   "name": "python",
   "nbconvert_exporter": "python",
   "pygments_lexer": "ipython3",
   "version": "3.10.2"
  }
 },
 "nbformat": 4,
 "nbformat_minor": 5
}
