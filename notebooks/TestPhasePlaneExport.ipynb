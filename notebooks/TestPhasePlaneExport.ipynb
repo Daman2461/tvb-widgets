{
 "cells": [
  {
   "cell_type": "code",
   "execution_count": 1,
   "id": "f9b212e7-dd09-4310-83e9-b067bcf9c8ad",
   "metadata": {},
   "outputs": [
    {
     "name": "stdout",
     "output_type": "stream",
     "text": [
      "06-09-2022 12:02:26 - DEBUG - tvbwidgets - Package is not fully installed\n",
      "C:\\Users\\david.bacter\\PycharmProjects\\tvb-widgets\n",
      "06-09-2022 12:02:26 - DEBUG - tvbwidgets - Version read from the internal package.json file\n",
      "06-09-2022 12:02:26 - INFO - tvbwidgets - Version: 0.2.3\n",
      "2022-09-06 12:02:27,622 - WARNING - tvb.simulator.common - psutil module not available: no warnings will be issued when a\n",
      "    simulation may require more memory than available\n",
      "   INFO  log level set to INFO\n"
     ]
    },
    {
     "name": "stderr",
     "output_type": "stream",
     "text": [
      "C:\\Users\\david.bacter\\Anaconda3\\envs\\tvb-widgets\\lib\\site-packages\\tvb\\datatypes\\surfaces.py:64: UserWarning: Geodesic distance module is unavailable; some functionality for surfaces will be unavailable.\n",
      "  warnings.warn(msg)\n"
     ]
    }
   ],
   "source": [
    "from tvbwidgets.ui.phase_plane_widget import PhasePlaneWidget \n",
    "from tvb.simulator.models import SupHopf"
   ]
  },
  {
   "cell_type": "code",
   "execution_count": 6,
   "id": "1eaef5e4-83b7-45f1-b7e0-702eeec126ea",
   "metadata": {},
   "outputs": [],
   "source": [
    "w = PhasePlaneWidget()"
   ]
  },
  {
   "cell_type": "code",
   "execution_count": 7,
   "id": "0311343b-e21c-4d92-970c-873be34c9c58",
   "metadata": {},
   "outputs": [
    {
     "data": {
      "application/vnd.jupyter.widget-view+json": {
       "model_id": "b309e91b5c9a4af593740fb2c7fc062c",
       "version_major": 2,
       "version_minor": 0
      },
      "text/plain": [
       "VBox(children=(GridBox(children=(VBox(children=(Button(description='Reset parameters', layout=Layout(width='90…"
      ]
     },
     "metadata": {},
     "output_type": "display_data"
    }
   ],
   "source": [
    "w.get_widget()"
   ]
  },
  {
   "cell_type": "code",
   "execution_count": 4,
   "id": "83bd7d6b-84aa-49b1-8b3e-4c0fc3d8624d",
   "metadata": {},
   "outputs": [
    {
     "data": {
      "text/html": [
       "<table>\n",
       "<h3>Generic2dOscillator</h3>\n",
       "<thead><tr><th></th><th style=\"text-align:left;width:40%\">value</th></tr></thead>\n",
       "<tbody>\n",
       "<tr><td>I [min, median, max]</td><td style=\"text-align:left;\"><pre>[0, 0, 0]</pre></td>\n",
       "<tr><td>I dtype</td><td style=\"text-align:left;\"><pre>float64</pre></td>\n",
       "<tr><td>I shape</td><td style=\"text-align:left;\"><pre>(1,)</pre></td>\n",
       "<tr><td>Type</td><td style=\"text-align:left;\"><pre>Generic2dOscillator</pre></td>\n",
       "<tr><td>a [min, median, max]</td><td style=\"text-align:left;\"><pre>[-2, -2, -2]</pre></td>\n",
       "<tr><td>a dtype</td><td style=\"text-align:left;\"><pre>float64</pre></td>\n",
       "<tr><td>a shape</td><td style=\"text-align:left;\"><pre>(1,)</pre></td>\n",
       "<tr><td>alpha [min, median, max]</td><td style=\"text-align:left;\"><pre>[1, 1, 1]</pre></td>\n",
       "<tr><td>alpha dtype</td><td style=\"text-align:left;\"><pre>float64</pre></td>\n",
       "<tr><td>alpha shape</td><td style=\"text-align:left;\"><pre>(1,)</pre></td>\n",
       "<tr><td>b [min, median, max]</td><td style=\"text-align:left;\"><pre>[-10, -10, -10]</pre></td>\n",
       "<tr><td>b dtype</td><td style=\"text-align:left;\"><pre>float64</pre></td>\n",
       "<tr><td>b shape</td><td style=\"text-align:left;\"><pre>(1,)</pre></td>\n",
       "<tr><td>beta [min, median, max]</td><td style=\"text-align:left;\"><pre>[1, 1, 1]</pre></td>\n",
       "<tr><td>beta dtype</td><td style=\"text-align:left;\"><pre>float64</pre></td>\n",
       "<tr><td>beta shape</td><td style=\"text-align:left;\"><pre>(1,)</pre></td>\n",
       "<tr><td>c [min, median, max]</td><td style=\"text-align:left;\"><pre>[0, 0, 0]</pre></td>\n",
       "<tr><td>c dtype</td><td style=\"text-align:left;\"><pre>float64</pre></td>\n",
       "<tr><td>c shape</td><td style=\"text-align:left;\"><pre>(1,)</pre></td>\n",
       "<tr><td>d [min, median, max]</td><td style=\"text-align:left;\"><pre>[0.02, 0.02, 0.02]</pre></td>\n",
       "<tr><td>d dtype</td><td style=\"text-align:left;\"><pre>float64</pre></td>\n",
       "<tr><td>d shape</td><td style=\"text-align:left;\"><pre>(1,)</pre></td>\n",
       "<tr><td>e [min, median, max]</td><td style=\"text-align:left;\"><pre>[3, 3, 3]</pre></td>\n",
       "<tr><td>e dtype</td><td style=\"text-align:left;\"><pre>float64</pre></td>\n",
       "<tr><td>e shape</td><td style=\"text-align:left;\"><pre>(1,)</pre></td>\n",
       "<tr><td>f [min, median, max]</td><td style=\"text-align:left;\"><pre>[1, 1, 1]</pre></td>\n",
       "<tr><td>f dtype</td><td style=\"text-align:left;\"><pre>float64</pre></td>\n",
       "<tr><td>f shape</td><td style=\"text-align:left;\"><pre>(1,)</pre></td>\n",
       "<tr><td>g [min, median, max]</td><td style=\"text-align:left;\"><pre>[0, 0, 0]</pre></td>\n",
       "<tr><td>g dtype</td><td style=\"text-align:left;\"><pre>float64</pre></td>\n",
       "<tr><td>g shape</td><td style=\"text-align:left;\"><pre>(1,)</pre></td>\n",
       "<tr><td>gamma [min, median, max]</td><td style=\"text-align:left;\"><pre>[1, 1, 1]</pre></td>\n",
       "<tr><td>gamma dtype</td><td style=\"text-align:left;\"><pre>float64</pre></td>\n",
       "<tr><td>gamma shape</td><td style=\"text-align:left;\"><pre>(1,)</pre></td>\n",
       "<tr><td>gid</td><td style=\"text-align:left;\"><pre>UUID('4b0ca13e-fb61-4232-9f1b-c4abbb8c11a6')</pre></td>\n",
       "<tr><td>state_variable_range</td><td style=\"text-align:left;\"><pre>{'V': array([-2.,  4.]), 'W': array([-6.,  6.])}</pre></td>\n",
       "<tr><td>tau [min, median, max]</td><td style=\"text-align:left;\"><pre>[1, 1, 1]</pre></td>\n",
       "<tr><td>tau dtype</td><td style=\"text-align:left;\"><pre>float64</pre></td>\n",
       "<tr><td>tau shape</td><td style=\"text-align:left;\"><pre>(1,)</pre></td>\n",
       "<tr><td>title</td><td style=\"text-align:left;\"><pre>Generic2dOscillator gid: 4b0ca13e-fb61-4232-9f1b-c4abbb8c11a6</pre></td>\n",
       "<tr><td>variables_of_interest</td><td style=\"text-align:left;\"><pre>('V',)</pre></td>\n",
       "</tbody></table>"
      ],
      "text/plain": [
       "<tvb.simulator.models.oscillator.Generic2dOscillator at 0x28c96584070>"
      ]
     },
     "execution_count": 4,
     "metadata": {},
     "output_type": "execute_result"
    }
   ],
   "source": [
    "import numpy\n",
    "from tvb.simulator.models import Generic2dOscillator\n",
    "model_instance = Generic2dOscillator(tau=numpy.array([1.]),a=numpy.array([-2.]),b=numpy.array([-10.]),d=numpy.array([0.02]),e=numpy.array([3.]),f=numpy.array([1.]),alpha=numpy.array([1.]),beta=numpy.array([1.]),gamma=numpy.array([1.]))\n",
    "model_instance"
   ]
  },
  {
   "cell_type": "code",
   "execution_count": null,
   "id": "ff45db7b-d854-416c-89e9-cfdd12e5e4d9",
   "metadata": {},
   "outputs": [],
   "source": []
  }
 ],
 "metadata": {
  "kernelspec": {
   "display_name": "Python 3 (ipykernel)",
   "language": "python",
   "name": "python3"
  },
  "language_info": {
   "codemirror_mode": {
    "name": "ipython",
    "version": 3
   },
   "file_extension": ".py",
   "mimetype": "text/x-python",
   "name": "python",
   "nbconvert_exporter": "python",
   "pygments_lexer": "ipython3",
   "version": "3.10.2"
  }
 },
 "nbformat": 4,
 "nbformat_minor": 5
}
